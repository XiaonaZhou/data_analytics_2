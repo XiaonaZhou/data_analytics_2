{
  "nbformat": 4,
  "nbformat_minor": 0,
  "metadata": {
    "colab": {
      "name": "Python_Project_Odd_or_Even_and _Rock-Paper-Scissors.ipynb",
      "provenance": [],
      "collapsed_sections": [],
      "authorship_tag": "ABX9TyMYxuMCZanEghLs8kKXwp7E",
      "include_colab_link": true
    },
    "kernelspec": {
      "name": "python3",
      "display_name": "Python 3"
    }
  },
  "cells": [
    {
      "cell_type": "markdown",
      "metadata": {
        "id": "view-in-github",
        "colab_type": "text"
      },
      "source": [
        "<a href=\"https://colab.research.google.com/github/XiaonaZhou/data_analytics_2/blob/main/Python/Python_Project_Odd_or_Even_and__Rock_Paper_Scissors.ipynb\" target=\"_parent\"><img src=\"https://colab.research.google.com/assets/colab-badge.svg\" alt=\"Open In Colab\"/></a>"
      ]
    },
    {
      "cell_type": "markdown",
      "metadata": {
        "id": "7n4o7aXGvbpm"
      },
      "source": [
        "# Python Project – Odd or Even\r\n",
        "\r\n",
        "Ask the user for a number. Depending on whether the number is even or odd, print out an appropriate message to the user. Hint: how does an even / odd number react differently when divided by 2?\r\n"
      ]
    },
    {
      "cell_type": "code",
      "metadata": {
        "id": "_cG910bOvRld"
      },
      "source": [
        "def even_or_odd():\r\n",
        "  w = input(\"Please enter a number, I'll tell you whether it is odd or even \")\r\n",
        "  if int(w)%2==0:\r\n",
        "    print(\"The number is even\")\r\n",
        "  else:\r\n",
        "    print(\"The number is odd\")\r\n",
        "  c = input(\"Would you like to play again? Enter Y for yes, N for no \")\r\n",
        "  if c==\"Y\":\r\n",
        "    even_or_odd()\r\n",
        "  else:\r\n",
        "    return(0)"
      ],
      "execution_count": null,
      "outputs": []
    },
    {
      "cell_type": "code",
      "metadata": {
        "colab": {
          "base_uri": "https://localhost:8080/"
        },
        "id": "IZzoRHKXvyxY",
        "outputId": "5c9f2625-c065-4270-b93c-10058a26ab53"
      },
      "source": [
        "even_or_odd()"
      ],
      "execution_count": null,
      "outputs": [
        {
          "output_type": "stream",
          "text": [
            "Please enter a number, I'll tell you whether it is odd or even 88\n",
            "The number is even\n",
            "Would you like to play again? Enter Y for yes, N for no Y\n",
            "Please enter a number, I'll tell you whether it is odd or even 0\n",
            "The number is even\n",
            "Would you like to play again? Enter Y for yes, N for no 10\n"
          ],
          "name": "stdout"
        }
      ]
    },
    {
      "cell_type": "markdown",
      "metadata": {
        "id": "fqEvy16SxTxX"
      },
      "source": [
        "Extras:\r\n",
        "\r\n",
        "* If the number is a multiple of 4, print out a different message.\r\n",
        "* Ask the user for two numbers: one number to check (call it num) and one number to divide by (check). If check divides evenly into num, tell that to the user. If not, print a different appropriate message."
      ]
    },
    {
      "cell_type": "code",
      "metadata": {
        "id": "sRKvEDwRwc-v"
      },
      "source": [
        "def even_or_odd_4():\r\n",
        "  w = input(\"Please enter a number, I'll tell you whether it is odd or even, and I'll give you a  surprise if the number is also a multiple of 4:\")\r\n",
        "  if int(w)%2==0:\r\n",
        "    print(\"The number is even\")\r\n",
        "    if int(w)%4==0:\r\n",
        "      print(\"Surprise!!! You picked a nice number\")\r\n",
        "  else:\r\n",
        "    print(\"The number is odd\")\r\n",
        "  c = input(\"Would you like to play again? Enter Y for yes, N for no \")\r\n",
        "  if c==\"Y\":\r\n",
        "    even_or_odd_4()\r\n",
        "  else:\r\n",
        "    print(\"Thank you for playing! Have a nice day!\")\r\n",
        "    return"
      ],
      "execution_count": null,
      "outputs": []
    },
    {
      "cell_type": "code",
      "metadata": {
        "id": "l0-5cYG_yc30",
        "colab": {
          "base_uri": "https://localhost:8080/"
        },
        "outputId": "eaf00338-a436-4612-db8c-c9735d73b525"
      },
      "source": [
        "even_or_odd_4()"
      ],
      "execution_count": null,
      "outputs": [
        {
          "output_type": "stream",
          "text": [
            "Please enter a number, I'll tell you whether it is odd or even, and I'll give you a  surprise if the number is also a multiple of 4:8\n",
            "The number is even\n",
            "Surprise!!! You picked a nice number\n",
            "Would you like to play again? Enter Y for yes, N for no Y\n",
            "Please enter a number, I'll tell you whether it is odd or even, and I'll give you a  surprise if the number is also a multiple of 4:9\n",
            "The number is odd\n",
            "Would you like to play again? Enter Y for yes, N for no N\n",
            "Thank you for playing! Have a nice day!\n"
          ],
          "name": "stdout"
        }
      ]
    },
    {
      "cell_type": "code",
      "metadata": {
        "id": "BgTlq9zNRp5b"
      },
      "source": [
        "def divisible():\r\n",
        "  num1 = input(\"Please enter your number: \")\r\n",
        "  num2 = input(\"Please enter a number you want to divide the first number by: \")\r\n",
        "  if int(num1)%int(num2)==0:\r\n",
        "    print(str(num1)+\" is divisible by \" +str(num2))\r\n",
        "  else:\r\n",
        "    print(\"Not divisible!\") "
      ],
      "execution_count": 48,
      "outputs": []
    },
    {
      "cell_type": "code",
      "metadata": {
        "colab": {
          "base_uri": "https://localhost:8080/"
        },
        "id": "OiFRrzBES1wf",
        "outputId": "ae998511-bdae-4210-9aab-b3c3e6b94d42"
      },
      "source": [
        "divisible()"
      ],
      "execution_count": 49,
      "outputs": [
        {
          "output_type": "stream",
          "text": [
            "Please enter your number: 9\n",
            "Please enter a number you want to divide the first number by: 2\n",
            "Not divisible!\n"
          ],
          "name": "stdout"
        }
      ]
    },
    {
      "cell_type": "markdown",
      "metadata": {
        "id": "ykY0MiL0CRVI"
      },
      "source": [
        "# Two-player Rock-Paper-Scissors game"
      ]
    },
    {
      "cell_type": "markdown",
      "metadata": {
        "id": "iZr1ftk-ChiE"
      },
      "source": [
        "Make a two-player Rock-Paper-Scissors game. (Hint: Ask for player plays (using input), compare them, print out a message of congratulations to the winner, and ask if the players want to start a new game)\r\n",
        "\r\n",
        "Remember the rules:\r\n",
        "* Rock beats scissors\r\n",
        "* Scissors beats paper\r\n",
        "* Paper beats rock\r\n"
      ]
    },
    {
      "cell_type": "code",
      "metadata": {
        "id": "KX8ZiGjuyfSD",
        "colab": {
          "base_uri": "https://localhost:8080/"
        },
        "outputId": "27cb6eaa-51a5-4d47-8ba9-433abff7f6c2"
      },
      "source": [
        "player1 = input(\"Player 1, please enter R for rock, P for paper, and S for scissors: \").upper()\r\n",
        "player2 = input(\"Player 2, please enter R for rock, P for paper, and S for scissors: \").upper()\r\n",
        "if player1==player2:\r\n",
        "  print(\"No one wins, play again\")\r\n",
        "elif player1=='R':\r\n",
        "  if player2=='P':\r\n",
        "    print(\"Player 2 wins!\")\r\n",
        "  else:\r\n",
        "    print(\"Player 1 wins!\")# player 2 plays scissor\r\n",
        "elif player1=='P':\r\n",
        "  if player2=='R':\r\n",
        "    print(\"Player 1 wins!\")\r\n",
        "  else:\r\n",
        "    print(\"Player 2 wins!\")# player 2 plays scissor\r\n",
        "elif player1=='S':\r\n",
        "  if player2=='R':\r\n",
        "    print(\"Player 2 wins!\")\r\n",
        "  else:\r\n",
        "    print(\"Player 1 wins!\")# player 2 plays paper\r\n",
        "\r\n"
      ],
      "execution_count": null,
      "outputs": [
        {
          "output_type": "stream",
          "text": [
            "Player 1, please enter R for rock, P for paper, and S for scissors: p\n",
            "Player 2, please enter R for rock, P for paper, and S for scissors: s\n",
            "Player 2 wins!\n"
          ],
          "name": "stdout"
        }
      ]
    },
    {
      "cell_type": "code",
      "metadata": {
        "id": "XGTVrd6OIQj0"
      },
      "source": [
        "# make it into a function \r\n",
        "\r\n",
        "def rock_paper_scissor():\r\n",
        "  player1 = input(\"Player 1, please enter R for rock, P for paper, and S for scissors: \").upper()\r\n",
        "  player2 = input(\"Player 2, please enter R for rock, P for paper, and S for scissors: \").upper()\r\n",
        "  if player1==player2:\r\n",
        "    print(\"No one wins, play again\")\r\n",
        "  elif player1=='R':\r\n",
        "    if player2=='P':\r\n",
        "      print(\"Player 2 wins!\")\r\n",
        "    else:\r\n",
        "      print(\"Player 1 wins!\")# player 2 plays scissor\r\n",
        "  elif player1=='P':\r\n",
        "    if player2=='R':\r\n",
        "      print(\"Player 1 wins!\")\r\n",
        "    else:\r\n",
        "      print(\"Player 2 wins!\")# player 2 plays scissor\r\n",
        "  elif player1=='S':\r\n",
        "    if player2=='R':\r\n",
        "      print(\"Player 2 wins!\")\r\n",
        "    else:\r\n",
        "      print(\"Player 1 wins!\")# player 2 plays paper\r\n",
        "  c = input(\"Would you like to play again? Enter Y for yes, N for no \")\r\n",
        "  if c.upper()==\"Y\":\r\n",
        "    rock_paper_scissor()\r\n",
        "  else:\r\n",
        "    print(\"Thank you for playing! Have a nice day!\")\r\n",
        "    return"
      ],
      "execution_count": null,
      "outputs": []
    },
    {
      "cell_type": "code",
      "metadata": {
        "colab": {
          "base_uri": "https://localhost:8080/"
        },
        "id": "K4MSEN8iI6Wj",
        "outputId": "1f6ef86e-c133-4d47-eace-543aa8172994"
      },
      "source": [
        "rock_paper_scissor()"
      ],
      "execution_count": null,
      "outputs": [
        {
          "output_type": "stream",
          "text": [
            "Player 1, please enter R for rock, P for paper, and S for scissors: p\n",
            "Player 2, please enter R for rock, P for paper, and S for scissors: s\n",
            "Player 2 wins!\n",
            "Would you like to play again? Enter Y for yes, N for no Y\n",
            "Player 1, please enter R for rock, P for paper, and S for scissors: p\n",
            "Player 2, please enter R for rock, P for paper, and S for scissors: r\n",
            "Player 1 wins!\n",
            "Would you like to play again? Enter Y for yes, N for no N\n",
            "Thank you for playing! Have a nice day!\n"
          ],
          "name": "stdout"
        }
      ]
    },
    {
      "cell_type": "markdown",
      "metadata": {
        "id": "swazG8clLDsI"
      },
      "source": [
        "Method 2:\r\n",
        "\r\n",
        "We know that there are only three interesting combinations within this game, Rock vs Scissor, Rock vs Paper, and Scissor vs paper (when players play the same thing, no one wins, boring :(. In summary, we have the following scenario:\r\n",
        "\r\n",
        "* Rock vs Scissor, Rock wins\r\n",
        "* Rock vs Paper, Paper wins\r\n",
        "* Scissor vs Paper, Scissor wins\r\n",
        "\r\n",
        "In the code below, I concatenation what the two players played as a string and check if it belongs to one of the scenatios above.  "
      ]
    },
    {
      "cell_type": "code",
      "metadata": {
        "id": "z09g9UEWJiL4"
      },
      "source": [
        "def rock_paper_scissor_2():\r\n",
        "  player1 = input(\"Player 1, please enter R for rock, P for paper, and S for scissors: \").upper()\r\n",
        "  player2 = input(\"Player 2, please enter R for rock, P for paper, and S for scissors: \").upper()\r\n",
        "  if player1==player2:\r\n",
        "    print(\"No one wins, play again\")\r\n",
        "  elif 'RS' in player1+player2 or 'RS' in player2+player1:\r\n",
        "    if player1=='R':\r\n",
        "      print(\"Player 1 wins\")\r\n",
        "    else:\r\n",
        "      print(\"Player 2 wins\")\r\n",
        "  elif 'RP' in player1+player2 or 'RP' in player2+player1:\r\n",
        "    if player1=='P':\r\n",
        "      print(\"Player 1 wins\")\r\n",
        "    else:\r\n",
        "      print(\"Player 2 wins\")\r\n",
        "  elif 'SP' in player1+player2 or 'SP' in player2+player1:\r\n",
        "    if player1=='S':\r\n",
        "      print(\"Player 1 wins\")\r\n",
        "    else:\r\n",
        "      print(\"Player 2 wins\")\r\n",
        "  else:\r\n",
        "    print(\"You have entered invalid value.\")\r\n",
        "  c = input(\"Would you like to play again? Enter Y for yes, N for no \")\r\n",
        "  if c.upper()==\"Y\":\r\n",
        "    rock_paper_scissor_2()\r\n",
        "  else:\r\n",
        "    print(\"Thank you for playing! Have a nice day!\")\r\n",
        "    return"
      ],
      "execution_count": 42,
      "outputs": []
    },
    {
      "cell_type": "code",
      "metadata": {
        "colab": {
          "base_uri": "https://localhost:8080/"
        },
        "id": "XyCy5JFIJrja",
        "outputId": "1f0bf137-d326-4b8b-c14b-370df5917d9f"
      },
      "source": [
        "rock_paper_scissor_2()"
      ],
      "execution_count": 43,
      "outputs": [
        {
          "output_type": "stream",
          "text": [
            "Player 1, please enter R for rock, P for paper, and S for scissors: p\n",
            "Player 2, please enter R for rock, P for paper, and S for scissors: s\n",
            "Player 2 wins\n",
            "Would you like to play again? Enter Y for yes, N for no Y\n",
            "Player 1, please enter R for rock, P for paper, and S for scissors: s\n",
            "Player 2, please enter R for rock, P for paper, and S for scissors: r\n",
            "Player 2 wins\n",
            "Would you like to play again? Enter Y for yes, N for no y\n",
            "Player 1, please enter R for rock, P for paper, and S for scissors: r\n",
            "Player 2, please enter R for rock, P for paper, and S for scissors: s\n",
            "Player 1 wins\n",
            "Would you like to play again? Enter Y for yes, N for no n\n",
            "Thank you for playing! Have a nice day!\n"
          ],
          "name": "stdout"
        }
      ]
    }
  ]
}