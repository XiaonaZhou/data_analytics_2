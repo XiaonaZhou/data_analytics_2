{
  "nbformat": 4,
  "nbformat_minor": 0,
  "metadata": {
    "colab": {
      "name": "COVID19_DATA_ANALYSIS.ipynb",
      "provenance": [],
      "collapsed_sections": [],
      "include_colab_link": true
    },
    "kernelspec": {
      "name": "python3",
      "display_name": "Python 3"
    }
  },
  "cells": [
    {
      "cell_type": "markdown",
      "metadata": {
        "id": "view-in-github",
        "colab_type": "text"
      },
      "source": [
        "<a href=\"https://colab.research.google.com/github/XiaonaZhou/data_analytics_2/blob/main/Python/COVID19_DATA_ANALYSIS.ipynb\" target=\"_parent\"><img src=\"https://colab.research.google.com/assets/colab-badge.svg\" alt=\"Open In Colab\"/></a>"
      ]
    },
    {
      "cell_type": "markdown",
      "metadata": {
        "id": "9jvXpX2bbIFF"
      },
      "source": [
        "# COVID 19 Data Analysis"
      ]
    },
    {
      "cell_type": "markdown",
      "metadata": {
        "id": "RSvGZmxBa_Gk"
      },
      "source": [
        "**Description:** This script will read the latest data from the New York Times' county-level COVID-19 database at https://github.com/nytimes/covid-19-data/blob/master/us-counties.csv, filter the data for a chosen county in a chosen state, calculate the daily count of new cases and new deaths, print the most recent 28 days' worth of data for the selected county, and save the county's data for all dates to a comma-separated value (.csv) file on your computer. The printed data can be copied and pasted directly into a spreadsheet for further analysis and visualization.\r\n",
        "\r\n",
        "**Note:** For information about the data, see https://github.com/nytimes/covid-19-data.\r\n",
        "\r\n",
        "**Note:** After you have run the script one time in a given Anaconda environment, you may reduce the script's execution time by adding a `#` in front of `pip install pandas`. For example, `#pip install pandas` instead of `pip install pandas`. The `#` will tell Python to skip the code without running it."
      ]
    },
    {
      "cell_type": "markdown",
      "metadata": {
        "id": "ji_HknaobZJh"
      },
      "source": [
        "# Task 1 : Environment Set up"
      ]
    },
    {
      "cell_type": "markdown",
      "metadata": {
        "id": "q2y0bY0XbhNZ"
      },
      "source": [
        "Import all required libraries that are needed for data analysis"
      ]
    },
    {
      "cell_type": "code",
      "metadata": {
        "id": "k2f9bX3aiTDP"
      },
      "source": [
        "import pandas as pd\n",
        "import numpy as np\n",
        "import matplotlib.pyplot as plt\n",
        "from matplotlib import style"
      ],
      "execution_count": 6,
      "outputs": []
    },
    {
      "cell_type": "markdown",
      "metadata": {
        "id": "vgt8s61dbueM"
      },
      "source": [
        "# Task 2 :  Data Collection"
      ]
    },
    {
      "cell_type": "markdown",
      "metadata": {
        "id": "CEc5pqrkbxcX"
      },
      "source": [
        "Use nytimes github repository as a data source to collect the covid 19 data in real time and ingest it into colab notebook for data anlysis purpose"
      ]
    },
    {
      "cell_type": "code",
      "metadata": {
        "id": "vgw9nO9Hm_SB"
      },
      "source": [
        "df = pd.read_csv('https://raw.githubusercontent.com/nytimes/covid-19-data/master/us-states.csv')"
      ],
      "execution_count": 11,
      "outputs": []
    },
    {
      "cell_type": "code",
      "metadata": {
        "id": "FEG9n2sI0Yxu",
        "colab": {
          "base_uri": "https://localhost:8080/",
          "height": 202
        },
        "outputId": "beabc7f2-2521-46e5-f6e0-5669dd7baa52"
      },
      "source": [
        "df.head()"
      ],
      "execution_count": 12,
      "outputs": [
        {
          "output_type": "execute_result",
          "data": {
            "text/html": [
              "<div>\n",
              "<style scoped>\n",
              "    .dataframe tbody tr th:only-of-type {\n",
              "        vertical-align: middle;\n",
              "    }\n",
              "\n",
              "    .dataframe tbody tr th {\n",
              "        vertical-align: top;\n",
              "    }\n",
              "\n",
              "    .dataframe thead th {\n",
              "        text-align: right;\n",
              "    }\n",
              "</style>\n",
              "<table border=\"1\" class=\"dataframe\">\n",
              "  <thead>\n",
              "    <tr style=\"text-align: right;\">\n",
              "      <th></th>\n",
              "      <th>date</th>\n",
              "      <th>state</th>\n",
              "      <th>fips</th>\n",
              "      <th>cases</th>\n",
              "      <th>deaths</th>\n",
              "    </tr>\n",
              "  </thead>\n",
              "  <tbody>\n",
              "    <tr>\n",
              "      <th>0</th>\n",
              "      <td>2020-01-21</td>\n",
              "      <td>Washington</td>\n",
              "      <td>53</td>\n",
              "      <td>1</td>\n",
              "      <td>0</td>\n",
              "    </tr>\n",
              "    <tr>\n",
              "      <th>1</th>\n",
              "      <td>2020-01-22</td>\n",
              "      <td>Washington</td>\n",
              "      <td>53</td>\n",
              "      <td>1</td>\n",
              "      <td>0</td>\n",
              "    </tr>\n",
              "    <tr>\n",
              "      <th>2</th>\n",
              "      <td>2020-01-23</td>\n",
              "      <td>Washington</td>\n",
              "      <td>53</td>\n",
              "      <td>1</td>\n",
              "      <td>0</td>\n",
              "    </tr>\n",
              "    <tr>\n",
              "      <th>3</th>\n",
              "      <td>2020-01-24</td>\n",
              "      <td>Illinois</td>\n",
              "      <td>17</td>\n",
              "      <td>1</td>\n",
              "      <td>0</td>\n",
              "    </tr>\n",
              "    <tr>\n",
              "      <th>4</th>\n",
              "      <td>2020-01-24</td>\n",
              "      <td>Washington</td>\n",
              "      <td>53</td>\n",
              "      <td>1</td>\n",
              "      <td>0</td>\n",
              "    </tr>\n",
              "  </tbody>\n",
              "</table>\n",
              "</div>"
            ],
            "text/plain": [
              "         date       state  fips  cases  deaths\n",
              "0  2020-01-21  Washington    53      1       0\n",
              "1  2020-01-22  Washington    53      1       0\n",
              "2  2020-01-23  Washington    53      1       0\n",
              "3  2020-01-24    Illinois    17      1       0\n",
              "4  2020-01-24  Washington    53      1       0"
            ]
          },
          "metadata": {
            "tags": []
          },
          "execution_count": 12
        }
      ]
    },
    {
      "cell_type": "code",
      "metadata": {
        "id": "ap0owuu30bLe",
        "colab": {
          "base_uri": "https://localhost:8080/"
        },
        "outputId": "5fcd4030-56c1-467c-cc80-1662717f3ef7"
      },
      "source": [
        "df.shape"
      ],
      "execution_count": 13,
      "outputs": [
        {
          "output_type": "execute_result",
          "data": {
            "text/plain": [
              "(17284, 5)"
            ]
          },
          "metadata": {
            "tags": []
          },
          "execution_count": 13
        }
      ]
    },
    {
      "cell_type": "code",
      "metadata": {
        "id": "zZdaTiUk0fqE",
        "colab": {
          "base_uri": "https://localhost:8080/"
        },
        "outputId": "b52a9169-56b9-4845-8a34-6883be5a8cb1"
      },
      "source": [
        "df.columns"
      ],
      "execution_count": 14,
      "outputs": [
        {
          "output_type": "execute_result",
          "data": {
            "text/plain": [
              "Index(['date', 'state', 'fips', 'cases', 'deaths'], dtype='object')"
            ]
          },
          "metadata": {
            "tags": []
          },
          "execution_count": 14
        }
      ]
    },
    {
      "cell_type": "markdown",
      "metadata": {
        "id": "dXToiyPccf4h"
      },
      "source": [
        "# Task 3 : Data Wrangling and EDA (Exploratory Data Analysis)"
      ]
    },
    {
      "cell_type": "markdown",
      "metadata": {
        "id": "XrywUhma1LD6"
      },
      "source": [
        "Analyzing New York state data for Covid 19"
      ]
    },
    {
      "cell_type": "code",
      "metadata": {
        "id": "-IXvRlig1Qjq"
      },
      "source": [
        "ny_df = df[df['state']=='New York']"
      ],
      "execution_count": 15,
      "outputs": []
    },
    {
      "cell_type": "code",
      "metadata": {
        "id": "vAPsO4Yq1yAj",
        "colab": {
          "base_uri": "https://localhost:8080/",
          "height": 202
        },
        "outputId": "2291d7f2-10c1-4f68-ccf4-31db322448da"
      },
      "source": [
        "ny_df.head()"
      ],
      "execution_count": 16,
      "outputs": [
        {
          "output_type": "execute_result",
          "data": {
            "text/html": [
              "<div>\n",
              "<style scoped>\n",
              "    .dataframe tbody tr th:only-of-type {\n",
              "        vertical-align: middle;\n",
              "    }\n",
              "\n",
              "    .dataframe tbody tr th {\n",
              "        vertical-align: top;\n",
              "    }\n",
              "\n",
              "    .dataframe thead th {\n",
              "        text-align: right;\n",
              "    }\n",
              "</style>\n",
              "<table border=\"1\" class=\"dataframe\">\n",
              "  <thead>\n",
              "    <tr style=\"text-align: right;\">\n",
              "      <th></th>\n",
              "      <th>date</th>\n",
              "      <th>state</th>\n",
              "      <th>fips</th>\n",
              "      <th>cases</th>\n",
              "      <th>deaths</th>\n",
              "    </tr>\n",
              "  </thead>\n",
              "  <tbody>\n",
              "    <tr>\n",
              "      <th>246</th>\n",
              "      <td>2020-03-01</td>\n",
              "      <td>New York</td>\n",
              "      <td>36</td>\n",
              "      <td>1</td>\n",
              "      <td>0</td>\n",
              "    </tr>\n",
              "    <tr>\n",
              "      <th>261</th>\n",
              "      <td>2020-03-02</td>\n",
              "      <td>New York</td>\n",
              "      <td>36</td>\n",
              "      <td>1</td>\n",
              "      <td>0</td>\n",
              "    </tr>\n",
              "    <tr>\n",
              "      <th>276</th>\n",
              "      <td>2020-03-03</td>\n",
              "      <td>New York</td>\n",
              "      <td>36</td>\n",
              "      <td>2</td>\n",
              "      <td>0</td>\n",
              "    </tr>\n",
              "    <tr>\n",
              "      <th>293</th>\n",
              "      <td>2020-03-04</td>\n",
              "      <td>New York</td>\n",
              "      <td>36</td>\n",
              "      <td>11</td>\n",
              "      <td>0</td>\n",
              "    </tr>\n",
              "    <tr>\n",
              "      <th>313</th>\n",
              "      <td>2020-03-05</td>\n",
              "      <td>New York</td>\n",
              "      <td>36</td>\n",
              "      <td>22</td>\n",
              "      <td>0</td>\n",
              "    </tr>\n",
              "  </tbody>\n",
              "</table>\n",
              "</div>"
            ],
            "text/plain": [
              "           date     state  fips  cases  deaths\n",
              "246  2020-03-01  New York    36      1       0\n",
              "261  2020-03-02  New York    36      1       0\n",
              "276  2020-03-03  New York    36      2       0\n",
              "293  2020-03-04  New York    36     11       0\n",
              "313  2020-03-05  New York    36     22       0"
            ]
          },
          "metadata": {
            "tags": []
          },
          "execution_count": 16
        }
      ]
    },
    {
      "cell_type": "code",
      "metadata": {
        "id": "XNuZqUlI1096",
        "colab": {
          "base_uri": "https://localhost:8080/"
        },
        "outputId": "558c599e-ab37-4526-d853-a60a6445b179"
      },
      "source": [
        "ny_df.shape"
      ],
      "execution_count": 17,
      "outputs": [
        {
          "output_type": "execute_result",
          "data": {
            "text/plain": [
              "(316, 5)"
            ]
          },
          "metadata": {
            "tags": []
          },
          "execution_count": 17
        }
      ]
    },
    {
      "cell_type": "code",
      "metadata": {
        "id": "z7sGUFdO2CAo",
        "colab": {
          "base_uri": "https://localhost:8080/",
          "height": 202
        },
        "outputId": "f195d666-06ab-412e-cc74-02076b7ad6b4"
      },
      "source": [
        "ny_df.tail()"
      ],
      "execution_count": 18,
      "outputs": [
        {
          "output_type": "execute_result",
          "data": {
            "text/html": [
              "<div>\n",
              "<style scoped>\n",
              "    .dataframe tbody tr th:only-of-type {\n",
              "        vertical-align: middle;\n",
              "    }\n",
              "\n",
              "    .dataframe tbody tr th {\n",
              "        vertical-align: top;\n",
              "    }\n",
              "\n",
              "    .dataframe thead th {\n",
              "        text-align: right;\n",
              "    }\n",
              "</style>\n",
              "<table border=\"1\" class=\"dataframe\">\n",
              "  <thead>\n",
              "    <tr style=\"text-align: right;\">\n",
              "      <th></th>\n",
              "      <th>date</th>\n",
              "      <th>state</th>\n",
              "      <th>fips</th>\n",
              "      <th>cases</th>\n",
              "      <th>deaths</th>\n",
              "    </tr>\n",
              "  </thead>\n",
              "  <tbody>\n",
              "    <tr>\n",
              "      <th>17042</th>\n",
              "      <td>2021-01-06</td>\n",
              "      <td>New York</td>\n",
              "      <td>36</td>\n",
              "      <td>1064554</td>\n",
              "      <td>38486</td>\n",
              "    </tr>\n",
              "    <tr>\n",
              "      <th>17097</th>\n",
              "      <td>2021-01-07</td>\n",
              "      <td>New York</td>\n",
              "      <td>36</td>\n",
              "      <td>1082142</td>\n",
              "      <td>38683</td>\n",
              "    </tr>\n",
              "    <tr>\n",
              "      <th>17152</th>\n",
              "      <td>2021-01-08</td>\n",
              "      <td>New York</td>\n",
              "      <td>36</td>\n",
              "      <td>1101702</td>\n",
              "      <td>38846</td>\n",
              "    </tr>\n",
              "    <tr>\n",
              "      <th>17207</th>\n",
              "      <td>2021-01-09</td>\n",
              "      <td>New York</td>\n",
              "      <td>36</td>\n",
              "      <td>1119541</td>\n",
              "      <td>39041</td>\n",
              "    </tr>\n",
              "    <tr>\n",
              "      <th>17262</th>\n",
              "      <td>2021-01-10</td>\n",
              "      <td>New York</td>\n",
              "      <td>36</td>\n",
              "      <td>1135849</td>\n",
              "      <td>39208</td>\n",
              "    </tr>\n",
              "  </tbody>\n",
              "</table>\n",
              "</div>"
            ],
            "text/plain": [
              "             date     state  fips    cases  deaths\n",
              "17042  2021-01-06  New York    36  1064554   38486\n",
              "17097  2021-01-07  New York    36  1082142   38683\n",
              "17152  2021-01-08  New York    36  1101702   38846\n",
              "17207  2021-01-09  New York    36  1119541   39041\n",
              "17262  2021-01-10  New York    36  1135849   39208"
            ]
          },
          "metadata": {
            "tags": []
          },
          "execution_count": 18
        }
      ]
    },
    {
      "cell_type": "code",
      "metadata": {
        "id": "FQxfk_yn2KIW",
        "colab": {
          "base_uri": "https://localhost:8080/",
          "height": 202
        },
        "outputId": "06e57a5a-b830-4328-b5dc-1d286a55ce0b"
      },
      "source": [
        "#first death in NY\n",
        "first_ny_death = ny_df[ny_df['deaths']!=0]\n",
        "first_ny_death.head()"
      ],
      "execution_count": 19,
      "outputs": [
        {
          "output_type": "execute_result",
          "data": {
            "text/html": [
              "<div>\n",
              "<style scoped>\n",
              "    .dataframe tbody tr th:only-of-type {\n",
              "        vertical-align: middle;\n",
              "    }\n",
              "\n",
              "    .dataframe tbody tr th {\n",
              "        vertical-align: top;\n",
              "    }\n",
              "\n",
              "    .dataframe thead th {\n",
              "        text-align: right;\n",
              "    }\n",
              "</style>\n",
              "<table border=\"1\" class=\"dataframe\">\n",
              "  <thead>\n",
              "    <tr style=\"text-align: right;\">\n",
              "      <th></th>\n",
              "      <th>date</th>\n",
              "      <th>state</th>\n",
              "      <th>fips</th>\n",
              "      <th>cases</th>\n",
              "      <th>deaths</th>\n",
              "    </tr>\n",
              "  </thead>\n",
              "  <tbody>\n",
              "    <tr>\n",
              "      <th>669</th>\n",
              "      <td>2020-03-14</td>\n",
              "      <td>New York</td>\n",
              "      <td>36</td>\n",
              "      <td>610</td>\n",
              "      <td>2</td>\n",
              "    </tr>\n",
              "    <tr>\n",
              "      <th>722</th>\n",
              "      <td>2020-03-15</td>\n",
              "      <td>New York</td>\n",
              "      <td>36</td>\n",
              "      <td>732</td>\n",
              "      <td>6</td>\n",
              "    </tr>\n",
              "    <tr>\n",
              "      <th>775</th>\n",
              "      <td>2020-03-16</td>\n",
              "      <td>New York</td>\n",
              "      <td>36</td>\n",
              "      <td>950</td>\n",
              "      <td>10</td>\n",
              "    </tr>\n",
              "    <tr>\n",
              "      <th>828</th>\n",
              "      <td>2020-03-17</td>\n",
              "      <td>New York</td>\n",
              "      <td>36</td>\n",
              "      <td>1375</td>\n",
              "      <td>18</td>\n",
              "    </tr>\n",
              "    <tr>\n",
              "      <th>882</th>\n",
              "      <td>2020-03-18</td>\n",
              "      <td>New York</td>\n",
              "      <td>36</td>\n",
              "      <td>2387</td>\n",
              "      <td>32</td>\n",
              "    </tr>\n",
              "  </tbody>\n",
              "</table>\n",
              "</div>"
            ],
            "text/plain": [
              "           date     state  fips  cases  deaths\n",
              "669  2020-03-14  New York    36    610       2\n",
              "722  2020-03-15  New York    36    732       6\n",
              "775  2020-03-16  New York    36    950      10\n",
              "828  2020-03-17  New York    36   1375      18\n",
              "882  2020-03-18  New York    36   2387      32"
            ]
          },
          "metadata": {
            "tags": []
          },
          "execution_count": 19
        }
      ]
    },
    {
      "cell_type": "code",
      "metadata": {
        "id": "dQ-Qbk0e3vUj",
        "colab": {
          "base_uri": "https://localhost:8080/"
        },
        "outputId": "d3274b61-04f1-4a5b-b18e-9955a05c127b"
      },
      "source": [
        "#total number of cases\n",
        "ny_df['cases'].max()"
      ],
      "execution_count": 20,
      "outputs": [
        {
          "output_type": "execute_result",
          "data": {
            "text/plain": [
              "1135849"
            ]
          },
          "metadata": {
            "tags": []
          },
          "execution_count": 20
        }
      ]
    },
    {
      "cell_type": "code",
      "metadata": {
        "id": "TNYs0GNm4K5O",
        "colab": {
          "base_uri": "https://localhost:8080/"
        },
        "outputId": "d36b7aa4-e9c1-462a-b1f8-6b274c26e213"
      },
      "source": [
        "# not a correct way of calculating total count bcoz data is cumulative\n",
        "ny_df['cases'].sum()"
      ],
      "execution_count": 21,
      "outputs": [
        {
          "output_type": "execute_result",
          "data": {
            "text/plain": [
              "136927749"
            ]
          },
          "metadata": {
            "tags": []
          },
          "execution_count": 21
        }
      ]
    },
    {
      "cell_type": "markdown",
      "metadata": {
        "id": "vUbZP5tccvEp"
      },
      "source": [
        "Finding new covid 19 cases on daily basis (new cases added everyday)"
      ]
    },
    {
      "cell_type": "code",
      "metadata": {
        "id": "g-isLW6s4XaJ"
      },
      "source": [
        "#new cases for NY\n",
        "# type(ny_df['cases'])\n",
        "\n",
        "newcase = []\n",
        "previuos_case = 0\n",
        "for index, row in ny_df.iterrows():\n",
        "  current_case = row['cases']\n",
        "  newcase_count = current_case - previuos_case\n",
        "  previuos_case = current_case\n",
        "  newcase.append(newcase_count)\n",
        "  # print(newcase_count)"
      ],
      "execution_count": 22,
      "outputs": []
    },
    {
      "cell_type": "code",
      "metadata": {
        "id": "yKryzOu25uDi",
        "colab": {
          "base_uri": "https://localhost:8080/"
        },
        "outputId": "ccd62d7b-788b-4b97-8c76-597a655d1ed5"
      },
      "source": [
        "ny_df['new_cases'] = newcase"
      ],
      "execution_count": 23,
      "outputs": [
        {
          "output_type": "stream",
          "text": [
            "/usr/local/lib/python3.6/dist-packages/ipykernel_launcher.py:1: SettingWithCopyWarning: \n",
            "A value is trying to be set on a copy of a slice from a DataFrame.\n",
            "Try using .loc[row_indexer,col_indexer] = value instead\n",
            "\n",
            "See the caveats in the documentation: https://pandas.pydata.org/pandas-docs/stable/user_guide/indexing.html#returning-a-view-versus-a-copy\n",
            "  \"\"\"Entry point for launching an IPython kernel.\n"
          ],
          "name": "stderr"
        }
      ]
    },
    {
      "cell_type": "code",
      "metadata": {
        "id": "xSjQW7Gm8_cO",
        "colab": {
          "base_uri": "https://localhost:8080/",
          "height": 355
        },
        "outputId": "9b09e34f-5ec7-4ff2-fe52-eaa976cec76b"
      },
      "source": [
        "ny_df.head(10)"
      ],
      "execution_count": 24,
      "outputs": [
        {
          "output_type": "execute_result",
          "data": {
            "text/html": [
              "<div>\n",
              "<style scoped>\n",
              "    .dataframe tbody tr th:only-of-type {\n",
              "        vertical-align: middle;\n",
              "    }\n",
              "\n",
              "    .dataframe tbody tr th {\n",
              "        vertical-align: top;\n",
              "    }\n",
              "\n",
              "    .dataframe thead th {\n",
              "        text-align: right;\n",
              "    }\n",
              "</style>\n",
              "<table border=\"1\" class=\"dataframe\">\n",
              "  <thead>\n",
              "    <tr style=\"text-align: right;\">\n",
              "      <th></th>\n",
              "      <th>date</th>\n",
              "      <th>state</th>\n",
              "      <th>fips</th>\n",
              "      <th>cases</th>\n",
              "      <th>deaths</th>\n",
              "      <th>new_cases</th>\n",
              "    </tr>\n",
              "  </thead>\n",
              "  <tbody>\n",
              "    <tr>\n",
              "      <th>246</th>\n",
              "      <td>2020-03-01</td>\n",
              "      <td>New York</td>\n",
              "      <td>36</td>\n",
              "      <td>1</td>\n",
              "      <td>0</td>\n",
              "      <td>1</td>\n",
              "    </tr>\n",
              "    <tr>\n",
              "      <th>261</th>\n",
              "      <td>2020-03-02</td>\n",
              "      <td>New York</td>\n",
              "      <td>36</td>\n",
              "      <td>1</td>\n",
              "      <td>0</td>\n",
              "      <td>0</td>\n",
              "    </tr>\n",
              "    <tr>\n",
              "      <th>276</th>\n",
              "      <td>2020-03-03</td>\n",
              "      <td>New York</td>\n",
              "      <td>36</td>\n",
              "      <td>2</td>\n",
              "      <td>0</td>\n",
              "      <td>1</td>\n",
              "    </tr>\n",
              "    <tr>\n",
              "      <th>293</th>\n",
              "      <td>2020-03-04</td>\n",
              "      <td>New York</td>\n",
              "      <td>36</td>\n",
              "      <td>11</td>\n",
              "      <td>0</td>\n",
              "      <td>9</td>\n",
              "    </tr>\n",
              "    <tr>\n",
              "      <th>313</th>\n",
              "      <td>2020-03-05</td>\n",
              "      <td>New York</td>\n",
              "      <td>36</td>\n",
              "      <td>22</td>\n",
              "      <td>0</td>\n",
              "      <td>11</td>\n",
              "    </tr>\n",
              "    <tr>\n",
              "      <th>338</th>\n",
              "      <td>2020-03-06</td>\n",
              "      <td>New York</td>\n",
              "      <td>36</td>\n",
              "      <td>44</td>\n",
              "      <td>0</td>\n",
              "      <td>22</td>\n",
              "    </tr>\n",
              "    <tr>\n",
              "      <th>369</th>\n",
              "      <td>2020-03-07</td>\n",
              "      <td>New York</td>\n",
              "      <td>36</td>\n",
              "      <td>89</td>\n",
              "      <td>0</td>\n",
              "      <td>45</td>\n",
              "    </tr>\n",
              "    <tr>\n",
              "      <th>404</th>\n",
              "      <td>2020-03-08</td>\n",
              "      <td>New York</td>\n",
              "      <td>36</td>\n",
              "      <td>106</td>\n",
              "      <td>0</td>\n",
              "      <td>17</td>\n",
              "    </tr>\n",
              "    <tr>\n",
              "      <th>440</th>\n",
              "      <td>2020-03-09</td>\n",
              "      <td>New York</td>\n",
              "      <td>36</td>\n",
              "      <td>142</td>\n",
              "      <td>0</td>\n",
              "      <td>36</td>\n",
              "    </tr>\n",
              "    <tr>\n",
              "      <th>478</th>\n",
              "      <td>2020-03-10</td>\n",
              "      <td>New York</td>\n",
              "      <td>36</td>\n",
              "      <td>173</td>\n",
              "      <td>0</td>\n",
              "      <td>31</td>\n",
              "    </tr>\n",
              "  </tbody>\n",
              "</table>\n",
              "</div>"
            ],
            "text/plain": [
              "           date     state  fips  cases  deaths  new_cases\n",
              "246  2020-03-01  New York    36      1       0          1\n",
              "261  2020-03-02  New York    36      1       0          0\n",
              "276  2020-03-03  New York    36      2       0          1\n",
              "293  2020-03-04  New York    36     11       0          9\n",
              "313  2020-03-05  New York    36     22       0         11\n",
              "338  2020-03-06  New York    36     44       0         22\n",
              "369  2020-03-07  New York    36     89       0         45\n",
              "404  2020-03-08  New York    36    106       0         17\n",
              "440  2020-03-09  New York    36    142       0         36\n",
              "478  2020-03-10  New York    36    173       0         31"
            ]
          },
          "metadata": {
            "tags": []
          },
          "execution_count": 24
        }
      ]
    },
    {
      "cell_type": "code",
      "metadata": {
        "id": "lqZ2Bn0q6_a3",
        "outputId": "17c4905b-5ca9-4cef-e1c3-24a851c55ce9",
        "colab": {
          "base_uri": "https://localhost:8080/",
          "height": 355
        }
      },
      "source": [
        "ny_df.tail(10)"
      ],
      "execution_count": 36,
      "outputs": [
        {
          "output_type": "execute_result",
          "data": {
            "text/html": [
              "<div>\n",
              "<style scoped>\n",
              "    .dataframe tbody tr th:only-of-type {\n",
              "        vertical-align: middle;\n",
              "    }\n",
              "\n",
              "    .dataframe tbody tr th {\n",
              "        vertical-align: top;\n",
              "    }\n",
              "\n",
              "    .dataframe thead th {\n",
              "        text-align: right;\n",
              "    }\n",
              "</style>\n",
              "<table border=\"1\" class=\"dataframe\">\n",
              "  <thead>\n",
              "    <tr style=\"text-align: right;\">\n",
              "      <th></th>\n",
              "      <th>date</th>\n",
              "      <th>state</th>\n",
              "      <th>fips</th>\n",
              "      <th>cases</th>\n",
              "      <th>deaths</th>\n",
              "      <th>new_cases</th>\n",
              "    </tr>\n",
              "  </thead>\n",
              "  <tbody>\n",
              "    <tr>\n",
              "      <th>16767</th>\n",
              "      <td>2021-01-01</td>\n",
              "      <td>New York</td>\n",
              "      <td>36</td>\n",
              "      <td>996073</td>\n",
              "      <td>37733</td>\n",
              "      <td>17033</td>\n",
              "    </tr>\n",
              "    <tr>\n",
              "      <th>16822</th>\n",
              "      <td>2021-01-02</td>\n",
              "      <td>New York</td>\n",
              "      <td>36</td>\n",
              "      <td>1011922</td>\n",
              "      <td>37854</td>\n",
              "      <td>15849</td>\n",
              "    </tr>\n",
              "    <tr>\n",
              "      <th>16877</th>\n",
              "      <td>2021-01-03</td>\n",
              "      <td>New York</td>\n",
              "      <td>36</td>\n",
              "      <td>1024154</td>\n",
              "      <td>38001</td>\n",
              "      <td>12232</td>\n",
              "    </tr>\n",
              "    <tr>\n",
              "      <th>16932</th>\n",
              "      <td>2021-01-04</td>\n",
              "      <td>New York</td>\n",
              "      <td>36</td>\n",
              "      <td>1035396</td>\n",
              "      <td>38167</td>\n",
              "      <td>11242</td>\n",
              "    </tr>\n",
              "    <tr>\n",
              "      <th>16987</th>\n",
              "      <td>2021-01-05</td>\n",
              "      <td>New York</td>\n",
              "      <td>36</td>\n",
              "      <td>1048538</td>\n",
              "      <td>38315</td>\n",
              "      <td>13142</td>\n",
              "    </tr>\n",
              "    <tr>\n",
              "      <th>17042</th>\n",
              "      <td>2021-01-06</td>\n",
              "      <td>New York</td>\n",
              "      <td>36</td>\n",
              "      <td>1064554</td>\n",
              "      <td>38486</td>\n",
              "      <td>16016</td>\n",
              "    </tr>\n",
              "    <tr>\n",
              "      <th>17097</th>\n",
              "      <td>2021-01-07</td>\n",
              "      <td>New York</td>\n",
              "      <td>36</td>\n",
              "      <td>1082142</td>\n",
              "      <td>38683</td>\n",
              "      <td>17588</td>\n",
              "    </tr>\n",
              "    <tr>\n",
              "      <th>17152</th>\n",
              "      <td>2021-01-08</td>\n",
              "      <td>New York</td>\n",
              "      <td>36</td>\n",
              "      <td>1101702</td>\n",
              "      <td>38846</td>\n",
              "      <td>19560</td>\n",
              "    </tr>\n",
              "    <tr>\n",
              "      <th>17207</th>\n",
              "      <td>2021-01-09</td>\n",
              "      <td>New York</td>\n",
              "      <td>36</td>\n",
              "      <td>1119541</td>\n",
              "      <td>39041</td>\n",
              "      <td>17839</td>\n",
              "    </tr>\n",
              "    <tr>\n",
              "      <th>17262</th>\n",
              "      <td>2021-01-10</td>\n",
              "      <td>New York</td>\n",
              "      <td>36</td>\n",
              "      <td>1135849</td>\n",
              "      <td>39208</td>\n",
              "      <td>16308</td>\n",
              "    </tr>\n",
              "  </tbody>\n",
              "</table>\n",
              "</div>"
            ],
            "text/plain": [
              "             date     state  fips    cases  deaths  new_cases\n",
              "16767  2021-01-01  New York    36   996073   37733      17033\n",
              "16822  2021-01-02  New York    36  1011922   37854      15849\n",
              "16877  2021-01-03  New York    36  1024154   38001      12232\n",
              "16932  2021-01-04  New York    36  1035396   38167      11242\n",
              "16987  2021-01-05  New York    36  1048538   38315      13142\n",
              "17042  2021-01-06  New York    36  1064554   38486      16016\n",
              "17097  2021-01-07  New York    36  1082142   38683      17588\n",
              "17152  2021-01-08  New York    36  1101702   38846      19560\n",
              "17207  2021-01-09  New York    36  1119541   39041      17839\n",
              "17262  2021-01-10  New York    36  1135849   39208      16308"
            ]
          },
          "metadata": {
            "tags": []
          },
          "execution_count": 36
        }
      ]
    },
    {
      "cell_type": "code",
      "metadata": {
        "id": "PK0Tq2qs-JTJ",
        "colab": {
          "base_uri": "https://localhost:8080/"
        },
        "outputId": "7c5820d6-ab42-4b39-e4ca-82ff99753e0a"
      },
      "source": [
        "ny_df['new_cases'].sum()"
      ],
      "execution_count": 25,
      "outputs": [
        {
          "output_type": "execute_result",
          "data": {
            "text/plain": [
              "1135849"
            ]
          },
          "metadata": {
            "tags": []
          },
          "execution_count": 25
        }
      ]
    },
    {
      "cell_type": "code",
      "metadata": {
        "id": "CvPTpg6T-p15"
      },
      "source": [
        "ny_cases = ny_df['cases']\n",
        "ny_deaths = ny_df['deaths']\n",
        "ny_dates = ny_df['date']\n",
        "ny_new_cases = ny_df['new_cases']"
      ],
      "execution_count": 26,
      "outputs": []
    },
    {
      "cell_type": "code",
      "metadata": {
        "id": "g14xWA8g_6nZ",
        "colab": {
          "base_uri": "https://localhost:8080/"
        },
        "outputId": "4e7ac0d3-c882-469e-d39a-61deb89ac2ba"
      },
      "source": [
        "type(ny_new_cases)"
      ],
      "execution_count": 27,
      "outputs": [
        {
          "output_type": "execute_result",
          "data": {
            "text/plain": [
              "pandas.core.series.Series"
            ]
          },
          "metadata": {
            "tags": []
          },
          "execution_count": 27
        }
      ]
    },
    {
      "cell_type": "code",
      "metadata": {
        "id": "QDc2omEP_-qS",
        "colab": {
          "base_uri": "https://localhost:8080/",
          "height": 315
        },
        "outputId": "9e3669bc-26bc-44da-d518-e0488830eaf0"
      },
      "source": [
        "ny_df.plot(kind='bar')"
      ],
      "execution_count": 28,
      "outputs": [
        {
          "output_type": "execute_result",
          "data": {
            "text/plain": [
              "<matplotlib.axes._subplots.AxesSubplot at 0x7f2c15a57400>"
            ]
          },
          "metadata": {
            "tags": []
          },
          "execution_count": 28
        },
        {
          "output_type": "display_data",
          "data": {
            "image/png": "[encoded data removed]",
            "text/plain": [
              "<Figure size 432x288 with 1 Axes>"
            ]
          },
          "metadata": {
            "tags": [],
            "needs_background": "light"
          }
        }
      ]
    },
    {
      "cell_type": "code",
      "metadata": {
        "id": "-PtteplsAWT-",
        "colab": {
          "base_uri": "https://localhost:8080/",
          "height": 476
        },
        "outputId": "d6b08711-80cf-4e84-97e5-edcd4add3132"
      },
      "source": [
        "plt.figure(figsize=(15,7))\n",
        "plt.bar(x=ny_dates, height=ny_new_cases, color='red')\n",
        "plt.xticks(rotation=90)\n",
        "plt.show()"
      ],
      "execution_count": 29,
      "outputs": [
        {
          "output_type": "display_data",
          "data": {
            "image/png": "[encoded data removed]",
            "text/plain": [
              "<Figure size 1080x504 with 1 Axes>"
            ]
          },
          "metadata": {
            "tags": [],
            "needs_background": "light"
          }
        }
      ]
    },
    {
      "cell_type": "markdown",
      "metadata": {
        "id": "Ch1hTcr67EPH"
      },
      "source": [
        "The graph above shows the number of new cases in NY since 2020-03-01. We can observed two big waves, and we are currently on the peak of the second wave. We nned to take more action to stop the spead. "
      ]
    },
    {
      "cell_type": "markdown",
      "metadata": {
        "id": "IKuLfv3SF27O"
      },
      "source": [
        "# Task4: Understand NY covid 19 data in last 30 days"
      ]
    },
    {
      "cell_type": "code",
      "metadata": {
        "id": "280y4sHrAyuk"
      },
      "source": [
        "ny_cases_30 = ny_df['cases'][-31:-1]\n",
        "ny_deaths_30 = ny_df['deaths'] [-31:-1]\n",
        "ny_dates_30 = ny_df['date'][-31:-1]\n",
        "ny_new_cases_30 = ny_df['new_cases'][-31:-1]"
      ],
      "execution_count": 68,
      "outputs": []
    },
    {
      "cell_type": "code",
      "metadata": {
        "id": "BUDcyVRwHY6F",
        "outputId": "184d6453-c5e5-4b12-fe2f-77b55b7314cb",
        "colab": {
          "base_uri": "https://localhost:8080/"
        }
      },
      "source": [
        "ny_dates_30"
      ],
      "execution_count": 69,
      "outputs": [
        {
          "output_type": "execute_result",
          "data": {
            "text/plain": [
              "15612    2020-12-11\n",
              "15667    2020-12-12\n",
              "15722    2020-12-13\n",
              "15777    2020-12-14\n",
              "15832    2020-12-15\n",
              "15887    2020-12-16\n",
              "15942    2020-12-17\n",
              "15997    2020-12-18\n",
              "16052    2020-12-19\n",
              "16107    2020-12-20\n",
              "16162    2020-12-21\n",
              "16217    2020-12-22\n",
              "16272    2020-12-23\n",
              "16327    2020-12-24\n",
              "16382    2020-12-25\n",
              "16437    2020-12-26\n",
              "16492    2020-12-27\n",
              "16547    2020-12-28\n",
              "16602    2020-12-29\n",
              "16657    2020-12-30\n",
              "16712    2020-12-31\n",
              "16767    2021-01-01\n",
              "16822    2021-01-02\n",
              "16877    2021-01-03\n",
              "16932    2021-01-04\n",
              "16987    2021-01-05\n",
              "17042    2021-01-06\n",
              "17097    2021-01-07\n",
              "17152    2021-01-08\n",
              "17207    2021-01-09\n",
              "Name: date, dtype: object"
            ]
          },
          "metadata": {
            "tags": []
          },
          "execution_count": 69
        }
      ]
    },
    {
      "cell_type": "code",
      "metadata": {
        "id": "MrRo6IcSHa6F",
        "colab": {
          "base_uri": "https://localhost:8080/",
          "height": 476
        },
        "outputId": "be9e1da6-9b90-4b1c-f583-f22a38511b47"
      },
      "source": [
        "plt.figure(figsize=(15,7))\n",
        "plt.bar(x=ny_dates_30, height=ny_new_cases_30, color='red')\n",
        "plt.xticks(rotation=90)\n",
        "plt.show()"
      ],
      "execution_count": 70,
      "outputs": [
        {
          "output_type": "display_data",
          "data": {
            "image/png": "[encoded data removed]",
            "text/plain": [
              "<Figure size 1080x504 with 1 Axes>"
            ]
          },
          "metadata": {
            "tags": [],
            "needs_background": "light"
          }
        }
      ]
    },
    {
      "cell_type": "code",
      "metadata": {
        "colab": {
          "base_uri": "https://localhost:8080/",
          "height": 476
        },
        "id": "TG0hPnVKm0E0",
        "outputId": "4d580158-d402-4d73-84b8-bd43ffe40537"
      },
      "source": [
        "plt.figure(figsize=(15,7))\r\n",
        "plt.bar(x=ny_dates_30, height=ny_deaths_30, color='blue')\r\n",
        "plt.xticks(rotation=90)\r\n",
        "plt.show()"
      ],
      "execution_count": 71,
      "outputs": [
        {
          "output_type": "display_data",
          "data": {
            "image/png": "[encoded data removed]",
            "text/plain": [
              "<Figure size 1080x504 with 1 Axes>"
            ]
          },
          "metadata": {
            "tags": [],
            "needs_background": "light"
          }
        }
      ]
    },
    {
      "cell_type": "markdown",
      "metadata": {
        "id": "PtjNZZmOdAhy"
      },
      "source": [
        "# Comparing Covid 19 data with different states"
      ]
    },
    {
      "cell_type": "markdown",
      "metadata": {
        "id": "HInHQMh0dHvu"
      },
      "source": [
        "Let's compare the Covid 19 cases after July for states: New York, California, Florida, Texas, Arizona"
      ]
    },
    {
      "cell_type": "code",
      "metadata": {
        "id": "vu_eV2RmHvyO"
      },
      "source": [
        "states = ['New York', 'California','Florida', 'Texas','Arizona']"
      ],
      "execution_count": 72,
      "outputs": []
    },
    {
      "cell_type": "code",
      "metadata": {
        "id": "2xVCN1IBInu0",
        "colab": {
          "base_uri": "https://localhost:8080/",
          "height": 487
        },
        "outputId": "c2c913c6-3ece-4413-cc19-698e67f755de"
      },
      "source": [
        "plt.figure(figsize=(15,7))\n",
        "for state in states:\n",
        "  df_st = df[(df['state']==state) & (df['date']>='2020-11-01')]\n",
        "  plt.plot(df_st['date'],\n",
        "           df_st['cases'],\n",
        "           linewidth=2\n",
        "           )\n",
        "  plt.xticks(rotation=90)\n",
        "plt.legend(states)\n",
        "plt.show()\n"
      ],
      "execution_count": 73,
      "outputs": [
        {
          "output_type": "display_data",
          "data": {
            "image/png": "[encoded data removed]",
            "text/plain": [
              "<Figure size 1080x504 with 1 Axes>"
            ]
          },
          "metadata": {
            "tags": [],
            "needs_background": "light"
          }
        }
      ]
    },
    {
      "cell_type": "markdown",
      "metadata": {
        "id": "Hwch-J5PIHA1"
      },
      "source": [
        "# Conclusion"
      ]
    },
    {
      "cell_type": "markdown",
      "metadata": {
        "id": "q5G5KP6CINBS"
      },
      "source": [
        "Below are the conclusions:\r\n",
        "\r\n",
        "\r\n",
        "\r\n",
        "1.   Conclusion 1: The graph above in line 28 shows the number of new cases in NY since 2020-03-01. We can observed two big waves, and we are currently on the peak of the second wave. We need to take more action to stop the spead.\r\n",
        "2.   Conclusion 2: The graph above in line 35 shows the number of total cases in 5 states in last 30 days. The cases in California has been increasing repidly since December. The governors should take more action to stop the spead. \r\n"
      ]
    },
    {
      "cell_type": "markdown",
      "metadata": {
        "id": "VlG60Bc68vhE"
      },
      "source": [
        "# Extra work \r\n",
        "\r\n",
        "I would like to take a closer look into the states that have most number of death. "
      ]
    },
    {
      "cell_type": "markdown",
      "metadata": {
        "id": "NmuC_Ha49TeA"
      },
      "source": [
        "Which five states have most number of death?"
      ]
    },
    {
      "cell_type": "code",
      "metadata": {
        "id": "stUjThEx9dih"
      },
      "source": [
        "# number of death in each state as of today\r\n",
        "death =pd.DataFrame(df.groupby(['state'])['deaths'].max()) "
      ],
      "execution_count": 74,
      "outputs": []
    },
    {
      "cell_type": "code",
      "metadata": {
        "id": "GCwtlBzLB9CU",
        "outputId": "d6204e78-880c-497f-d7c3-18b0f40c3645",
        "colab": {
          "base_uri": "https://localhost:8080/",
          "height": 233
        }
      },
      "source": [
        "# top 5\r\n",
        "death.nlargest(5, 'deaths')"
      ],
      "execution_count": 75,
      "outputs": [
        {
          "output_type": "execute_result",
          "data": {
            "text/html": [
              "<div>\n",
              "<style scoped>\n",
              "    .dataframe tbody tr th:only-of-type {\n",
              "        vertical-align: middle;\n",
              "    }\n",
              "\n",
              "    .dataframe tbody tr th {\n",
              "        vertical-align: top;\n",
              "    }\n",
              "\n",
              "    .dataframe thead th {\n",
              "        text-align: right;\n",
              "    }\n",
              "</style>\n",
              "<table border=\"1\" class=\"dataframe\">\n",
              "  <thead>\n",
              "    <tr style=\"text-align: right;\">\n",
              "      <th></th>\n",
              "      <th>deaths</th>\n",
              "    </tr>\n",
              "    <tr>\n",
              "      <th>state</th>\n",
              "      <th></th>\n",
              "    </tr>\n",
              "  </thead>\n",
              "  <tbody>\n",
              "    <tr>\n",
              "      <th>New York</th>\n",
              "      <td>39208</td>\n",
              "    </tr>\n",
              "    <tr>\n",
              "      <th>Texas</th>\n",
              "      <td>30599</td>\n",
              "    </tr>\n",
              "    <tr>\n",
              "      <th>California</th>\n",
              "      <td>30000</td>\n",
              "    </tr>\n",
              "    <tr>\n",
              "      <th>Florida</th>\n",
              "      <td>22911</td>\n",
              "    </tr>\n",
              "    <tr>\n",
              "      <th>New Jersey</th>\n",
              "      <td>19886</td>\n",
              "    </tr>\n",
              "  </tbody>\n",
              "</table>\n",
              "</div>"
            ],
            "text/plain": [
              "            deaths\n",
              "state             \n",
              "New York     39208\n",
              "Texas        30599\n",
              "California   30000\n",
              "Florida      22911\n",
              "New Jersey   19886"
            ]
          },
          "metadata": {
            "tags": []
          },
          "execution_count": 75
        }
      ]
    },
    {
      "cell_type": "code",
      "metadata": {
        "id": "0AmgUQpq_KbB",
        "outputId": "57972bdc-2368-4139-e352-1152f532fbc4",
        "colab": {
          "base_uri": "https://localhost:8080/"
        }
      },
      "source": [
        "# state name of the top 5\r\n",
        "top_5 = death.nlargest(5, 'deaths')\r\n",
        "names = list(top_5.index)\r\n",
        "print(names)"
      ],
      "execution_count": 76,
      "outputs": [
        {
          "output_type": "stream",
          "text": [
            "['New York', 'Texas', 'California', 'Florida', 'New Jersey']\n"
          ],
          "name": "stdout"
        }
      ]
    },
    {
      "cell_type": "code",
      "metadata": {
        "id": "CneGrijWAfQI",
        "outputId": "7b9e1406-6ab1-4f46-fd1c-d5150c38a374",
        "colab": {
          "base_uri": "https://localhost:8080/",
          "height": 487
        }
      },
      "source": [
        "plt.figure(figsize=(15,7))\r\n",
        "for state in names:\r\n",
        "  df_st = df[(df['state']==state) & (df['date']>='2020-11-01')]\r\n",
        "  plt.plot(df_st['date'],\r\n",
        "           df_st['cases'],\r\n",
        "           linewidth=2\r\n",
        "           )\r\n",
        "  plt.xticks(rotation=90)\r\n",
        "plt.legend(names)\r\n",
        "plt.show()"
      ],
      "execution_count": 78,
      "outputs": [
        {
          "output_type": "display_data",
          "data": {
            "image/png": "[encoded data removed]",
            "text/plain": [
              "<Figure size 1080x504 with 1 Axes>"
            ]
          },
          "metadata": {
            "tags": [],
            "needs_background": "light"
          }
        }
      ]
    },
    {
      "cell_type": "code",
      "metadata": {
        "id": "ErUM8eGeTBDh",
        "outputId": "e9d8666a-077b-4d29-b47e-eccd91bedbb9",
        "colab": {
          "base_uri": "https://localhost:8080/",
          "height": 476
        }
      },
      "source": [
        "plt.figure(figsize=(15,7))\r\n",
        "for state in names:\r\n",
        "  df_st = df[(df['state']==state) & (df['date']>='2020-11-01')]\r\n",
        "  plt.plot(df_st['date'],\r\n",
        "           df_st['deaths'],\r\n",
        "           linewidth=2\r\n",
        "           )\r\n",
        "  plt.xticks(rotation=90)\r\n",
        "plt.legend(names)\r\n",
        "plt.show()"
      ],
      "execution_count": 79,
      "outputs": [
        {
          "output_type": "display_data",
          "data": {
            "image/png": "[encoded data removed]",
            "text/plain": [
              "<Figure size 1080x504 with 1 Axes>"
            ]
          },
          "metadata": {
            "tags": [],
            "needs_background": "light"
          }
        }
      ]
    },
    {
      "cell_type": "code",
      "metadata": {
        "id": "Dbbmm-XMTsDn"
      },
      "source": [
        ""
      ],
      "execution_count": null,
      "outputs": []
    }
  ]
}