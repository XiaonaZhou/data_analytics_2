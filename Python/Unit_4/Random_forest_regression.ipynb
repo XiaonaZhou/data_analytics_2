{
  "nbformat": 4,
  "nbformat_minor": 0,
  "metadata": {
    "colab": {
      "name": "Random_forest_regression.ipynb",
      "provenance": [],
      "authorship_tag": "ABX9TyOtAJbDfAQL6mYT9ukzAsaq",
      "include_colab_link": true
    },
    "kernelspec": {
      "name": "python3",
      "display_name": "Python 3"
    }
  },
  "cells": [
    {
      "cell_type": "markdown",
      "metadata": {
        "id": "view-in-github",
        "colab_type": "text"
      },
      "source": [
        "<a href=\"https://colab.research.google.com/github/XiaonaZhou/data_analytics_2/blob/main/Python/Unit_4/Random_forest_regression.ipynb\" target=\"_parent\"><img src=\"https://colab.research.google.com/assets/colab-badge.svg\" alt=\"Open In Colab\"/></a>"
      ]
    },
    {
      "cell_type": "markdown",
      "metadata": {
        "id": "JzCaB_wz476n"
      },
      "source": [
        "# Random forest with regression model"
      ]
    },
    {
      "cell_type": "markdown",
      "metadata": {
        "id": "A7rj_5YF5gV_"
      },
      "source": [
        "In this notebook, I re-predict Boston housing price with random forest regressor.  "
      ]
    },
    {
      "cell_type": "markdown",
      "metadata": {
        "id": "WxSh6NV35uE8"
      },
      "source": [
        "## 1. Set up and import data"
      ]
    },
    {
      "cell_type": "code",
      "metadata": {
        "id": "o81PUMw36ITV"
      },
      "source": [
        "import pandas as pd\r\n",
        "import numpy as np\r\n",
        "import matplotlib.pyplot as plt\r\n",
        "%matplotlib inline"
      ],
      "execution_count": 2,
      "outputs": []
    },
    {
      "cell_type": "code",
      "metadata": {
        "id": "5YPdBBNw4czK"
      },
      "source": [
        "# import the boston dataset\r\n",
        "from sklearn.datasets import load_boston\r\n",
        "boston_dataset = load_boston()\r\n",
        "# create a pandas dataframe and store the data\r\n",
        "df_boston = pd.DataFrame(boston_dataset.data)\r\n",
        "df_boston.columns = boston_dataset.feature_names\r\n",
        "# append Price, target, as a new columnn to the dataset\r\n",
        "df_boston['Price'] = boston_dataset.target"
      ],
      "execution_count": 4,
      "outputs": []
    },
    {
      "cell_type": "code",
      "metadata": {
        "colab": {
          "base_uri": "https://localhost:8080/",
          "height": 199
        },
        "id": "PkaL5ywd5687",
        "outputId": "722c1796-5397-4aeb-ac42-4e6ef1222812"
      },
      "source": [
        "df_boston.head()"
      ],
      "execution_count": 5,
      "outputs": [
        {
          "output_type": "execute_result",
          "data": {
            "text/html": [
              "<div>\n",
              "<style scoped>\n",
              "    .dataframe tbody tr th:only-of-type {\n",
              "        vertical-align: middle;\n",
              "    }\n",
              "\n",
              "    .dataframe tbody tr th {\n",
              "        vertical-align: top;\n",
              "    }\n",
              "\n",
              "    .dataframe thead th {\n",
              "        text-align: right;\n",
              "    }\n",
              "</style>\n",
              "<table border=\"1\" class=\"dataframe\">\n",
              "  <thead>\n",
              "    <tr style=\"text-align: right;\">\n",
              "      <th></th>\n",
              "      <th>CRIM</th>\n",
              "      <th>ZN</th>\n",
              "      <th>INDUS</th>\n",
              "      <th>CHAS</th>\n",
              "      <th>NOX</th>\n",
              "      <th>RM</th>\n",
              "      <th>AGE</th>\n",
              "      <th>DIS</th>\n",
              "      <th>RAD</th>\n",
              "      <th>TAX</th>\n",
              "      <th>PTRATIO</th>\n",
              "      <th>B</th>\n",
              "      <th>LSTAT</th>\n",
              "      <th>Price</th>\n",
              "    </tr>\n",
              "  </thead>\n",
              "  <tbody>\n",
              "    <tr>\n",
              "      <th>0</th>\n",
              "      <td>0.00632</td>\n",
              "      <td>18.0</td>\n",
              "      <td>2.31</td>\n",
              "      <td>0.0</td>\n",
              "      <td>0.538</td>\n",
              "      <td>6.575</td>\n",
              "      <td>65.2</td>\n",
              "      <td>4.0900</td>\n",
              "      <td>1.0</td>\n",
              "      <td>296.0</td>\n",
              "      <td>15.3</td>\n",
              "      <td>396.90</td>\n",
              "      <td>4.98</td>\n",
              "      <td>24.0</td>\n",
              "    </tr>\n",
              "    <tr>\n",
              "      <th>1</th>\n",
              "      <td>0.02731</td>\n",
              "      <td>0.0</td>\n",
              "      <td>7.07</td>\n",
              "      <td>0.0</td>\n",
              "      <td>0.469</td>\n",
              "      <td>6.421</td>\n",
              "      <td>78.9</td>\n",
              "      <td>4.9671</td>\n",
              "      <td>2.0</td>\n",
              "      <td>242.0</td>\n",
              "      <td>17.8</td>\n",
              "      <td>396.90</td>\n",
              "      <td>9.14</td>\n",
              "      <td>21.6</td>\n",
              "    </tr>\n",
              "    <tr>\n",
              "      <th>2</th>\n",
              "      <td>0.02729</td>\n",
              "      <td>0.0</td>\n",
              "      <td>7.07</td>\n",
              "      <td>0.0</td>\n",
              "      <td>0.469</td>\n",
              "      <td>7.185</td>\n",
              "      <td>61.1</td>\n",
              "      <td>4.9671</td>\n",
              "      <td>2.0</td>\n",
              "      <td>242.0</td>\n",
              "      <td>17.8</td>\n",
              "      <td>392.83</td>\n",
              "      <td>4.03</td>\n",
              "      <td>34.7</td>\n",
              "    </tr>\n",
              "    <tr>\n",
              "      <th>3</th>\n",
              "      <td>0.03237</td>\n",
              "      <td>0.0</td>\n",
              "      <td>2.18</td>\n",
              "      <td>0.0</td>\n",
              "      <td>0.458</td>\n",
              "      <td>6.998</td>\n",
              "      <td>45.8</td>\n",
              "      <td>6.0622</td>\n",
              "      <td>3.0</td>\n",
              "      <td>222.0</td>\n",
              "      <td>18.7</td>\n",
              "      <td>394.63</td>\n",
              "      <td>2.94</td>\n",
              "      <td>33.4</td>\n",
              "    </tr>\n",
              "    <tr>\n",
              "      <th>4</th>\n",
              "      <td>0.06905</td>\n",
              "      <td>0.0</td>\n",
              "      <td>2.18</td>\n",
              "      <td>0.0</td>\n",
              "      <td>0.458</td>\n",
              "      <td>7.147</td>\n",
              "      <td>54.2</td>\n",
              "      <td>6.0622</td>\n",
              "      <td>3.0</td>\n",
              "      <td>222.0</td>\n",
              "      <td>18.7</td>\n",
              "      <td>396.90</td>\n",
              "      <td>5.33</td>\n",
              "      <td>36.2</td>\n",
              "    </tr>\n",
              "  </tbody>\n",
              "</table>\n",
              "</div>"
            ],
            "text/plain": [
              "      CRIM    ZN  INDUS  CHAS    NOX  ...    TAX  PTRATIO       B  LSTAT  Price\n",
              "0  0.00632  18.0   2.31   0.0  0.538  ...  296.0     15.3  396.90   4.98   24.0\n",
              "1  0.02731   0.0   7.07   0.0  0.469  ...  242.0     17.8  396.90   9.14   21.6\n",
              "2  0.02729   0.0   7.07   0.0  0.469  ...  242.0     17.8  392.83   4.03   34.7\n",
              "3  0.03237   0.0   2.18   0.0  0.458  ...  222.0     18.7  394.63   2.94   33.4\n",
              "4  0.06905   0.0   2.18   0.0  0.458  ...  222.0     18.7  396.90   5.33   36.2\n",
              "\n",
              "[5 rows x 14 columns]"
            ]
          },
          "metadata": {
            "tags": []
          },
          "execution_count": 5
        }
      ]
    },
    {
      "cell_type": "markdown",
      "metadata": {
        "id": "j1M6U__16rB-"
      },
      "source": [
        "## 2. Missing values and EDA\r\n",
        "\r\n",
        "Skip. It has been done within `Linear_Regression_Boston_Housing_Guided_Project.ipynb`."
      ]
    },
    {
      "cell_type": "markdown",
      "metadata": {
        "id": "dnKizjOr6tbO"
      },
      "source": [
        "## 3. Build random forest "
      ]
    },
    {
      "cell_type": "code",
      "metadata": {
        "id": "pCiJ-jyJ6gA1"
      },
      "source": [
        "# split data into train and test set\r\n",
        "from sklearn.model_selection import train_test_split\r\n",
        "x_train,x_test,y_train,y_test = train_test_split(df_boston.drop('Price', axis=1), df_boston['Price'], test_size=0.30, random_state=101)"
      ],
      "execution_count": 6,
      "outputs": []
    },
    {
      "cell_type": "code",
      "metadata": {
        "id": "DIxuO9oe68uD"
      },
      "source": [
        "# Import the model \r\n",
        "from sklearn.ensemble import RandomForestRegressor\r\n",
        "# Instantiate model with 1000 decision trees\r\n",
        "rf = RandomForestRegressor(n_estimators = 100, random_state = 42)\r\n",
        "# Train the model on training data\r\n",
        "rf.fit(x_train, y_train);"
      ],
      "execution_count": 7,
      "outputs": []
    },
    {
      "cell_type": "markdown",
      "metadata": {
        "id": "MPvylNW_8vHk"
      },
      "source": [
        "## 4. Evaluate mdoel"
      ]
    },
    {
      "cell_type": "code",
      "metadata": {
        "colab": {
          "base_uri": "https://localhost:8080/"
        },
        "id": "Mu0KQbqF7fgW",
        "outputId": "b8dd38f7-d634-4bb1-c0c8-e076326828cb"
      },
      "source": [
        "# Use the forest's predict method on the test data\r\n",
        "predictions = rf.predict(x_test)\r\n",
        "# Calculate the absolute errors\r\n",
        "errors = abs(predictions - y_test)\r\n",
        "# Print out the mean absolute error (mae)\r\n",
        "print('Mean Absolute Error:', round(np.mean(errors), 2), 'degrees.')"
      ],
      "execution_count": 14,
      "outputs": [
        {
          "output_type": "stream",
          "text": [
            "Mean Absolute Error: 2.68 degrees.\n"
          ],
          "name": "stdout"
        }
      ]
    },
    {
      "cell_type": "code",
      "metadata": {
        "colab": {
          "base_uri": "https://localhost:8080/"
        },
        "id": "vKh4fuSU7n27",
        "outputId": "f6473030-d016-4688-89dd-03b61cc235ef"
      },
      "source": [
        "# Calculate mean absolute percentage error (MAPE)\r\n",
        "mape = 100 * (errors / y_test)\r\n",
        "# Calculate and display accuracy\r\n",
        "accuracy = 100 - np.mean(mape)\r\n",
        "print('Accuracy:', round(accuracy, 2), '%.')"
      ],
      "execution_count": 15,
      "outputs": [
        {
          "output_type": "stream",
          "text": [
            "Accuracy: 87.04 %.\n"
          ],
          "name": "stdout"
        }
      ]
    },
    {
      "cell_type": "code",
      "metadata": {
        "colab": {
          "base_uri": "https://localhost:8080/"
        },
        "id": "BF7WcV7W8aCE",
        "outputId": "d7a602f1-18a3-4662-b64e-5b64bc6b4918"
      },
      "source": [
        "from sklearn import metrics\r\n",
        "print('R-squred score: ', metrics.r2_score(y_test, predictions))"
      ],
      "execution_count": 16,
      "outputs": [
        {
          "output_type": "stream",
          "text": [
            "R-squred score:  0.8652237890346178\n"
          ],
          "name": "stdout"
        }
      ]
    },
    {
      "cell_type": "markdown",
      "metadata": {
        "id": "KCfPOYEh9Llr"
      },
      "source": [
        "Summary \r\n",
        "* $R^2$ = 0.69 with linear regression\r\n",
        "* $R^2$ = 0.78 with decision trees\r\n",
        "* $R^2$ = 0.87 with random forest\r\n",
        "\r\n",
        "Therefore, random forest model works better when prediction boston housing price."
      ]
    },
    {
      "cell_type": "code",
      "metadata": {
        "id": "Vvci3kem9KCn"
      },
      "source": [
        ""
      ],
      "execution_count": null,
      "outputs": []
    }
  ]
}