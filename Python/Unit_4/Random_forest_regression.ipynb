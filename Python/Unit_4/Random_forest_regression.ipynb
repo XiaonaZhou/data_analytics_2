{
  "nbformat": 4,
  "nbformat_minor": 0,
  "metadata": {
    "colab": {
      "name": "Random_forest_regression.ipynb",
      "provenance": [],
      "authorship_tag": "ABX9TyPhH1fXJZ+tDg3j/DegInGX",
      "include_colab_link": true
    },
    "kernelspec": {
      "name": "python3",
      "display_name": "Python 3"
    }
  },
  "cells": [
    {
      "cell_type": "markdown",
      "metadata": {
        "id": "view-in-github",
        "colab_type": "text"
      },
      "source": [
        "<a href=\"https://colab.research.google.com/github/XiaonaZhou/data_analytics_2/blob/main/Python/Unit_4/Random_forest_regression.ipynb\" target=\"_parent\"><img src=\"https://colab.research.google.com/assets/colab-badge.svg\" alt=\"Open In Colab\"/></a>"
      ]
    },
    {
      "cell_type": "markdown",
      "metadata": {
        "id": "JzCaB_wz476n"
      },
      "source": [
        "# Random forest with regression model"
      ]
    },
    {
      "cell_type": "markdown",
      "metadata": {
        "id": "A7rj_5YF5gV_"
      },
      "source": [
        "In this notebook, I re-predict Boston housing price with random forest regressor and try out another example for random forest regressor from [towards data science.com](https://towardsdatascience.com/random-forest-in-python-24d0893d51c0)"
      ]
    },
    {
      "cell_type": "markdown",
      "metadata": {
        "id": "ylDeIYbF9UNv"
      },
      "source": [
        "## **Re-predict Boston Housing price**"
      ]
    },
    {
      "cell_type": "markdown",
      "metadata": {
        "id": "WxSh6NV35uE8"
      },
      "source": [
        "## 1. Set up and import data"
      ]
    },
    {
      "cell_type": "code",
      "metadata": {
        "id": "o81PUMw36ITV"
      },
      "source": [
        "import pandas as pd\r\n",
        "import numpy as np\r\n",
        "import matplotlib.pyplot as plt\r\n",
        "%matplotlib inline"
      ],
      "execution_count": 16,
      "outputs": []
    },
    {
      "cell_type": "code",
      "metadata": {
        "id": "5YPdBBNw4czK"
      },
      "source": [
        "# import the boston dataset\r\n",
        "from sklearn.datasets import load_boston\r\n",
        "boston_dataset = load_boston()\r\n",
        "# create a pandas dataframe and store the data\r\n",
        "df_boston = pd.DataFrame(boston_dataset.data)\r\n",
        "df_boston.columns = boston_dataset.feature_names\r\n",
        "# append Price, target, as a new columnn to the dataset\r\n",
        "df_boston['Price'] = boston_dataset.target"
      ],
      "execution_count": 17,
      "outputs": []
    },
    {
      "cell_type": "code",
      "metadata": {
        "colab": {
          "base_uri": "https://localhost:8080/",
          "height": 199
        },
        "id": "PkaL5ywd5687",
        "outputId": "dd79a8e2-38f5-40d7-98f0-cf11eb7da8d2"
      },
      "source": [
        "df_boston.head()"
      ],
      "execution_count": 18,
      "outputs": [
        {
          "output_type": "execute_result",
          "data": {
            "text/html": [
              "<div>\n",
              "<style scoped>\n",
              "    .dataframe tbody tr th:only-of-type {\n",
              "        vertical-align: middle;\n",
              "    }\n",
              "\n",
              "    .dataframe tbody tr th {\n",
              "        vertical-align: top;\n",
              "    }\n",
              "\n",
              "    .dataframe thead th {\n",
              "        text-align: right;\n",
              "    }\n",
              "</style>\n",
              "<table border=\"1\" class=\"dataframe\">\n",
              "  <thead>\n",
              "    <tr style=\"text-align: right;\">\n",
              "      <th></th>\n",
              "      <th>CRIM</th>\n",
              "      <th>ZN</th>\n",
              "      <th>INDUS</th>\n",
              "      <th>CHAS</th>\n",
              "      <th>NOX</th>\n",
              "      <th>RM</th>\n",
              "      <th>AGE</th>\n",
              "      <th>DIS</th>\n",
              "      <th>RAD</th>\n",
              "      <th>TAX</th>\n",
              "      <th>PTRATIO</th>\n",
              "      <th>B</th>\n",
              "      <th>LSTAT</th>\n",
              "      <th>Price</th>\n",
              "    </tr>\n",
              "  </thead>\n",
              "  <tbody>\n",
              "    <tr>\n",
              "      <th>0</th>\n",
              "      <td>0.00632</td>\n",
              "      <td>18.0</td>\n",
              "      <td>2.31</td>\n",
              "      <td>0.0</td>\n",
              "      <td>0.538</td>\n",
              "      <td>6.575</td>\n",
              "      <td>65.2</td>\n",
              "      <td>4.0900</td>\n",
              "      <td>1.0</td>\n",
              "      <td>296.0</td>\n",
              "      <td>15.3</td>\n",
              "      <td>396.90</td>\n",
              "      <td>4.98</td>\n",
              "      <td>24.0</td>\n",
              "    </tr>\n",
              "    <tr>\n",
              "      <th>1</th>\n",
              "      <td>0.02731</td>\n",
              "      <td>0.0</td>\n",
              "      <td>7.07</td>\n",
              "      <td>0.0</td>\n",
              "      <td>0.469</td>\n",
              "      <td>6.421</td>\n",
              "      <td>78.9</td>\n",
              "      <td>4.9671</td>\n",
              "      <td>2.0</td>\n",
              "      <td>242.0</td>\n",
              "      <td>17.8</td>\n",
              "      <td>396.90</td>\n",
              "      <td>9.14</td>\n",
              "      <td>21.6</td>\n",
              "    </tr>\n",
              "    <tr>\n",
              "      <th>2</th>\n",
              "      <td>0.02729</td>\n",
              "      <td>0.0</td>\n",
              "      <td>7.07</td>\n",
              "      <td>0.0</td>\n",
              "      <td>0.469</td>\n",
              "      <td>7.185</td>\n",
              "      <td>61.1</td>\n",
              "      <td>4.9671</td>\n",
              "      <td>2.0</td>\n",
              "      <td>242.0</td>\n",
              "      <td>17.8</td>\n",
              "      <td>392.83</td>\n",
              "      <td>4.03</td>\n",
              "      <td>34.7</td>\n",
              "    </tr>\n",
              "    <tr>\n",
              "      <th>3</th>\n",
              "      <td>0.03237</td>\n",
              "      <td>0.0</td>\n",
              "      <td>2.18</td>\n",
              "      <td>0.0</td>\n",
              "      <td>0.458</td>\n",
              "      <td>6.998</td>\n",
              "      <td>45.8</td>\n",
              "      <td>6.0622</td>\n",
              "      <td>3.0</td>\n",
              "      <td>222.0</td>\n",
              "      <td>18.7</td>\n",
              "      <td>394.63</td>\n",
              "      <td>2.94</td>\n",
              "      <td>33.4</td>\n",
              "    </tr>\n",
              "    <tr>\n",
              "      <th>4</th>\n",
              "      <td>0.06905</td>\n",
              "      <td>0.0</td>\n",
              "      <td>2.18</td>\n",
              "      <td>0.0</td>\n",
              "      <td>0.458</td>\n",
              "      <td>7.147</td>\n",
              "      <td>54.2</td>\n",
              "      <td>6.0622</td>\n",
              "      <td>3.0</td>\n",
              "      <td>222.0</td>\n",
              "      <td>18.7</td>\n",
              "      <td>396.90</td>\n",
              "      <td>5.33</td>\n",
              "      <td>36.2</td>\n",
              "    </tr>\n",
              "  </tbody>\n",
              "</table>\n",
              "</div>"
            ],
            "text/plain": [
              "      CRIM    ZN  INDUS  CHAS    NOX  ...    TAX  PTRATIO       B  LSTAT  Price\n",
              "0  0.00632  18.0   2.31   0.0  0.538  ...  296.0     15.3  396.90   4.98   24.0\n",
              "1  0.02731   0.0   7.07   0.0  0.469  ...  242.0     17.8  396.90   9.14   21.6\n",
              "2  0.02729   0.0   7.07   0.0  0.469  ...  242.0     17.8  392.83   4.03   34.7\n",
              "3  0.03237   0.0   2.18   0.0  0.458  ...  222.0     18.7  394.63   2.94   33.4\n",
              "4  0.06905   0.0   2.18   0.0  0.458  ...  222.0     18.7  396.90   5.33   36.2\n",
              "\n",
              "[5 rows x 14 columns]"
            ]
          },
          "metadata": {
            "tags": []
          },
          "execution_count": 18
        }
      ]
    },
    {
      "cell_type": "markdown",
      "metadata": {
        "id": "j1M6U__16rB-"
      },
      "source": [
        "## 2. Missing values and EDA\r\n",
        "\r\n",
        "Skip. It has been done within `Linear_Regression_Boston_Housing_Guided_Project.ipynb`."
      ]
    },
    {
      "cell_type": "markdown",
      "metadata": {
        "id": "dnKizjOr6tbO"
      },
      "source": [
        "## 3. Build random forest "
      ]
    },
    {
      "cell_type": "code",
      "metadata": {
        "id": "pCiJ-jyJ6gA1"
      },
      "source": [
        "# split data into train and test set\r\n",
        "from sklearn.model_selection import train_test_split\r\n",
        "x_train,x_test,y_train,y_test = train_test_split(df_boston.drop('Price', axis=1), df_boston['Price'], test_size=0.30, random_state=101)"
      ],
      "execution_count": 19,
      "outputs": []
    },
    {
      "cell_type": "code",
      "metadata": {
        "id": "DIxuO9oe68uD"
      },
      "source": [
        "# Import the model \r\n",
        "from sklearn.ensemble import RandomForestRegressor\r\n",
        "# Instantiate model with 1000 decision trees\r\n",
        "rf = RandomForestRegressor(n_estimators = 100, random_state = 42)\r\n",
        "# Train the model on training data\r\n",
        "rf.fit(x_train, y_train);"
      ],
      "execution_count": 20,
      "outputs": []
    },
    {
      "cell_type": "markdown",
      "metadata": {
        "id": "MPvylNW_8vHk"
      },
      "source": [
        "## 4. Evaluate mdoel"
      ]
    },
    {
      "cell_type": "code",
      "metadata": {
        "colab": {
          "base_uri": "https://localhost:8080/"
        },
        "id": "Mu0KQbqF7fgW",
        "outputId": "624cf417-a5a9-49d6-b49b-9dd0107e2148"
      },
      "source": [
        "# Use the forest's predict method on the test data\r\n",
        "predictions = rf.predict(x_test)\r\n",
        "# Calculate the absolute errors\r\n",
        "errors = abs(predictions - y_test)\r\n",
        "# Print out the mean absolute error (mae)\r\n",
        "print('Mean Absolute Error:', round(np.mean(errors), 2), 'degrees.')"
      ],
      "execution_count": 21,
      "outputs": [
        {
          "output_type": "stream",
          "text": [
            "Mean Absolute Error: 2.68 degrees.\n"
          ],
          "name": "stdout"
        }
      ]
    },
    {
      "cell_type": "code",
      "metadata": {
        "colab": {
          "base_uri": "https://localhost:8080/"
        },
        "id": "vKh4fuSU7n27",
        "outputId": "4499483a-5e2c-40c4-8952-8afd3e216044"
      },
      "source": [
        "# Calculate mean absolute percentage error (MAPE)\r\n",
        "mape = 100 * (errors / y_test)\r\n",
        "# Calculate and display accuracy\r\n",
        "accuracy = 100 - np.mean(mape)\r\n",
        "print('Accuracy:', round(accuracy, 2), '%.')"
      ],
      "execution_count": 22,
      "outputs": [
        {
          "output_type": "stream",
          "text": [
            "Accuracy: 87.04 %.\n"
          ],
          "name": "stdout"
        }
      ]
    },
    {
      "cell_type": "code",
      "metadata": {
        "colab": {
          "base_uri": "https://localhost:8080/"
        },
        "id": "BF7WcV7W8aCE",
        "outputId": "27401c9b-6667-4272-bac5-9ae823afc151"
      },
      "source": [
        "from sklearn import metrics\r\n",
        "print('R-squred score: ', metrics.r2_score(y_test, predictions))"
      ],
      "execution_count": 23,
      "outputs": [
        {
          "output_type": "stream",
          "text": [
            "R-squred score:  0.8652237890346178\n"
          ],
          "name": "stdout"
        }
      ]
    },
    {
      "cell_type": "markdown",
      "metadata": {
        "id": "KCfPOYEh9Llr"
      },
      "source": [
        "Summary \r\n",
        "* $R^2$ = 0.69 with linear regression\r\n",
        "* $R^2$ = 0.78 with decision trees\r\n",
        "* $R^2$ = 0.87 with random forest\r\n",
        "\r\n",
        "Therefore, random forest model works better when prediction boston housing price."
      ]
    },
    {
      "cell_type": "markdown",
      "metadata": {
        "id": "fXyNsLBi9Sn4"
      },
      "source": [
        "## **Predicting tempurature**\r\n",
        "\r\n",
        "Predict actual tempurature using `temps.csv` dataset. \r\n",
        "\r\n",
        "[Source](https://drive.google.com/file/d/1OcDfTKPZcnqFCzhTgaZtXi-LUWHSEg8a/view)"
      ]
    },
    {
      "cell_type": "markdown",
      "metadata": {
        "id": "dub5CWub-uNB"
      },
      "source": [
        "## 1. Import data\r\n"
      ]
    },
    {
      "cell_type": "code",
      "metadata": {
        "id": "Vvci3kem9KCn",
        "colab": {
          "base_uri": "https://localhost:8080/",
          "height": 199
        },
        "outputId": "b633333f-1090-47b8-c260-8a56b512b4bd"
      },
      "source": [
        "import pandas as pd\r\n",
        "\r\n",
        "# Read in data as pandas dataframe and display first 5 rows\r\n",
        "df = pd.read_csv('https://raw.githubusercontent.com/XiaonaZhou/data_analytics_2/main/Python/Unit_4/temps.csv')\r\n",
        "df.head(5)"
      ],
      "execution_count": 49,
      "outputs": [
        {
          "output_type": "execute_result",
          "data": {
            "text/html": [
              "<div>\n",
              "<style scoped>\n",
              "    .dataframe tbody tr th:only-of-type {\n",
              "        vertical-align: middle;\n",
              "    }\n",
              "\n",
              "    .dataframe tbody tr th {\n",
              "        vertical-align: top;\n",
              "    }\n",
              "\n",
              "    .dataframe thead th {\n",
              "        text-align: right;\n",
              "    }\n",
              "</style>\n",
              "<table border=\"1\" class=\"dataframe\">\n",
              "  <thead>\n",
              "    <tr style=\"text-align: right;\">\n",
              "      <th></th>\n",
              "      <th>year</th>\n",
              "      <th>month</th>\n",
              "      <th>day</th>\n",
              "      <th>week</th>\n",
              "      <th>temp_2</th>\n",
              "      <th>temp_1</th>\n",
              "      <th>average</th>\n",
              "      <th>actual</th>\n",
              "      <th>forecast_noaa</th>\n",
              "      <th>forecast_acc</th>\n",
              "      <th>forecast_under</th>\n",
              "      <th>friend</th>\n",
              "    </tr>\n",
              "  </thead>\n",
              "  <tbody>\n",
              "    <tr>\n",
              "      <th>0</th>\n",
              "      <td>2016</td>\n",
              "      <td>1</td>\n",
              "      <td>1</td>\n",
              "      <td>Fri</td>\n",
              "      <td>45</td>\n",
              "      <td>45</td>\n",
              "      <td>45.6</td>\n",
              "      <td>45</td>\n",
              "      <td>43</td>\n",
              "      <td>50</td>\n",
              "      <td>44</td>\n",
              "      <td>29</td>\n",
              "    </tr>\n",
              "    <tr>\n",
              "      <th>1</th>\n",
              "      <td>2016</td>\n",
              "      <td>1</td>\n",
              "      <td>2</td>\n",
              "      <td>Sat</td>\n",
              "      <td>44</td>\n",
              "      <td>45</td>\n",
              "      <td>45.7</td>\n",
              "      <td>44</td>\n",
              "      <td>41</td>\n",
              "      <td>50</td>\n",
              "      <td>44</td>\n",
              "      <td>61</td>\n",
              "    </tr>\n",
              "    <tr>\n",
              "      <th>2</th>\n",
              "      <td>2016</td>\n",
              "      <td>1</td>\n",
              "      <td>3</td>\n",
              "      <td>Sun</td>\n",
              "      <td>45</td>\n",
              "      <td>44</td>\n",
              "      <td>45.8</td>\n",
              "      <td>41</td>\n",
              "      <td>43</td>\n",
              "      <td>46</td>\n",
              "      <td>47</td>\n",
              "      <td>56</td>\n",
              "    </tr>\n",
              "    <tr>\n",
              "      <th>3</th>\n",
              "      <td>2016</td>\n",
              "      <td>1</td>\n",
              "      <td>4</td>\n",
              "      <td>Mon</td>\n",
              "      <td>44</td>\n",
              "      <td>41</td>\n",
              "      <td>45.9</td>\n",
              "      <td>40</td>\n",
              "      <td>44</td>\n",
              "      <td>48</td>\n",
              "      <td>46</td>\n",
              "      <td>53</td>\n",
              "    </tr>\n",
              "    <tr>\n",
              "      <th>4</th>\n",
              "      <td>2016</td>\n",
              "      <td>1</td>\n",
              "      <td>5</td>\n",
              "      <td>Tues</td>\n",
              "      <td>41</td>\n",
              "      <td>40</td>\n",
              "      <td>46.0</td>\n",
              "      <td>44</td>\n",
              "      <td>46</td>\n",
              "      <td>46</td>\n",
              "      <td>46</td>\n",
              "      <td>41</td>\n",
              "    </tr>\n",
              "  </tbody>\n",
              "</table>\n",
              "</div>"
            ],
            "text/plain": [
              "   year  month  day  week  ...  forecast_noaa  forecast_acc  forecast_under  friend\n",
              "0  2016      1    1   Fri  ...             43            50              44      29\n",
              "1  2016      1    2   Sat  ...             41            50              44      61\n",
              "2  2016      1    3   Sun  ...             43            46              47      56\n",
              "3  2016      1    4   Mon  ...             44            48              46      53\n",
              "4  2016      1    5  Tues  ...             46            46              46      41\n",
              "\n",
              "[5 rows x 12 columns]"
            ]
          },
          "metadata": {
            "tags": []
          },
          "execution_count": 49
        }
      ]
    },
    {
      "cell_type": "markdown",
      "metadata": {
        "id": "jIesuubENzEa"
      },
      "source": [
        "Following are explanations of the columns:\r\n",
        "\r\n",
        "* year: 2016 for all data points\r\n",
        "* month: number for month of the year\r\n",
        "* day: number for day of the year\r\n",
        "* week: day of the week as a character string\r\n",
        "* temp_2: max temperature 2 days prior\r\n",
        "* temp_1: max temperature 1 day prior\r\n",
        "* average: historical average max temperature\r\n",
        "* actual: max temperature measurement\r\n",
        "* friend: your friend’s prediction, a random number between 20 below the average and 20 above the average"
      ]
    },
    {
      "cell_type": "code",
      "metadata": {
        "colab": {
          "base_uri": "https://localhost:8080/"
        },
        "id": "knwPd9kx_zAT",
        "outputId": "f5cc6471-8018-4b4f-fb6d-e4f93f861945"
      },
      "source": [
        "print('The shape of our features is:', df.shape)"
      ],
      "execution_count": 50,
      "outputs": [
        {
          "output_type": "stream",
          "text": [
            "The shape of our features is: (348, 12)\n"
          ],
          "name": "stdout"
        }
      ]
    },
    {
      "cell_type": "markdown",
      "metadata": {
        "id": "H966Q32oKtWr"
      },
      "source": [
        "## 2. Data Wrangling\r\n",
        "\r\n",
        "Convert non-numberial values to numerical values (One-hot encode)\r\n"
      ]
    },
    {
      "cell_type": "code",
      "metadata": {
        "colab": {
          "base_uri": "https://localhost:8080/",
          "height": 199
        },
        "id": "jY_xDtERKU8k",
        "outputId": "8317ca8c-30aa-4aea-e300-2d041458b30f"
      },
      "source": [
        "df_num = pd.get_dummies(df)\r\n",
        "df_num.head(5)"
      ],
      "execution_count": 51,
      "outputs": [
        {
          "output_type": "execute_result",
          "data": {
            "text/html": [
              "<div>\n",
              "<style scoped>\n",
              "    .dataframe tbody tr th:only-of-type {\n",
              "        vertical-align: middle;\n",
              "    }\n",
              "\n",
              "    .dataframe tbody tr th {\n",
              "        vertical-align: top;\n",
              "    }\n",
              "\n",
              "    .dataframe thead th {\n",
              "        text-align: right;\n",
              "    }\n",
              "</style>\n",
              "<table border=\"1\" class=\"dataframe\">\n",
              "  <thead>\n",
              "    <tr style=\"text-align: right;\">\n",
              "      <th></th>\n",
              "      <th>year</th>\n",
              "      <th>month</th>\n",
              "      <th>day</th>\n",
              "      <th>temp_2</th>\n",
              "      <th>temp_1</th>\n",
              "      <th>average</th>\n",
              "      <th>actual</th>\n",
              "      <th>forecast_noaa</th>\n",
              "      <th>forecast_acc</th>\n",
              "      <th>forecast_under</th>\n",
              "      <th>friend</th>\n",
              "      <th>week_Fri</th>\n",
              "      <th>week_Mon</th>\n",
              "      <th>week_Sat</th>\n",
              "      <th>week_Sun</th>\n",
              "      <th>week_Thurs</th>\n",
              "      <th>week_Tues</th>\n",
              "      <th>week_Wed</th>\n",
              "    </tr>\n",
              "  </thead>\n",
              "  <tbody>\n",
              "    <tr>\n",
              "      <th>0</th>\n",
              "      <td>2016</td>\n",
              "      <td>1</td>\n",
              "      <td>1</td>\n",
              "      <td>45</td>\n",
              "      <td>45</td>\n",
              "      <td>45.6</td>\n",
              "      <td>45</td>\n",
              "      <td>43</td>\n",
              "      <td>50</td>\n",
              "      <td>44</td>\n",
              "      <td>29</td>\n",
              "      <td>1</td>\n",
              "      <td>0</td>\n",
              "      <td>0</td>\n",
              "      <td>0</td>\n",
              "      <td>0</td>\n",
              "      <td>0</td>\n",
              "      <td>0</td>\n",
              "    </tr>\n",
              "    <tr>\n",
              "      <th>1</th>\n",
              "      <td>2016</td>\n",
              "      <td>1</td>\n",
              "      <td>2</td>\n",
              "      <td>44</td>\n",
              "      <td>45</td>\n",
              "      <td>45.7</td>\n",
              "      <td>44</td>\n",
              "      <td>41</td>\n",
              "      <td>50</td>\n",
              "      <td>44</td>\n",
              "      <td>61</td>\n",
              "      <td>0</td>\n",
              "      <td>0</td>\n",
              "      <td>1</td>\n",
              "      <td>0</td>\n",
              "      <td>0</td>\n",
              "      <td>0</td>\n",
              "      <td>0</td>\n",
              "    </tr>\n",
              "    <tr>\n",
              "      <th>2</th>\n",
              "      <td>2016</td>\n",
              "      <td>1</td>\n",
              "      <td>3</td>\n",
              "      <td>45</td>\n",
              "      <td>44</td>\n",
              "      <td>45.8</td>\n",
              "      <td>41</td>\n",
              "      <td>43</td>\n",
              "      <td>46</td>\n",
              "      <td>47</td>\n",
              "      <td>56</td>\n",
              "      <td>0</td>\n",
              "      <td>0</td>\n",
              "      <td>0</td>\n",
              "      <td>1</td>\n",
              "      <td>0</td>\n",
              "      <td>0</td>\n",
              "      <td>0</td>\n",
              "    </tr>\n",
              "    <tr>\n",
              "      <th>3</th>\n",
              "      <td>2016</td>\n",
              "      <td>1</td>\n",
              "      <td>4</td>\n",
              "      <td>44</td>\n",
              "      <td>41</td>\n",
              "      <td>45.9</td>\n",
              "      <td>40</td>\n",
              "      <td>44</td>\n",
              "      <td>48</td>\n",
              "      <td>46</td>\n",
              "      <td>53</td>\n",
              "      <td>0</td>\n",
              "      <td>1</td>\n",
              "      <td>0</td>\n",
              "      <td>0</td>\n",
              "      <td>0</td>\n",
              "      <td>0</td>\n",
              "      <td>0</td>\n",
              "    </tr>\n",
              "    <tr>\n",
              "      <th>4</th>\n",
              "      <td>2016</td>\n",
              "      <td>1</td>\n",
              "      <td>5</td>\n",
              "      <td>41</td>\n",
              "      <td>40</td>\n",
              "      <td>46.0</td>\n",
              "      <td>44</td>\n",
              "      <td>46</td>\n",
              "      <td>46</td>\n",
              "      <td>46</td>\n",
              "      <td>41</td>\n",
              "      <td>0</td>\n",
              "      <td>0</td>\n",
              "      <td>0</td>\n",
              "      <td>0</td>\n",
              "      <td>0</td>\n",
              "      <td>1</td>\n",
              "      <td>0</td>\n",
              "    </tr>\n",
              "  </tbody>\n",
              "</table>\n",
              "</div>"
            ],
            "text/plain": [
              "   year  month  day  temp_2  ...  week_Sun  week_Thurs  week_Tues  week_Wed\n",
              "0  2016      1    1      45  ...         0           0          0         0\n",
              "1  2016      1    2      44  ...         0           0          0         0\n",
              "2  2016      1    3      45  ...         1           0          0         0\n",
              "3  2016      1    4      44  ...         0           0          0         0\n",
              "4  2016      1    5      41  ...         0           0          1         0\n",
              "\n",
              "[5 rows x 18 columns]"
            ]
          },
          "metadata": {
            "tags": []
          },
          "execution_count": 51
        }
      ]
    },
    {
      "cell_type": "code",
      "metadata": {
        "colab": {
          "base_uri": "https://localhost:8080/"
        },
        "id": "Uwm7oqQUK6qa",
        "outputId": "e1df7aff-298e-4a9e-f0da-25b1b2832884"
      },
      "source": [
        "print('Shape of features after one-hot encoding:', df_num.shape)"
      ],
      "execution_count": 52,
      "outputs": [
        {
          "output_type": "stream",
          "text": [
            "Shape of features after one-hot encoding: (348, 18)\n"
          ],
          "name": "stdout"
        }
      ]
    },
    {
      "cell_type": "markdown",
      "metadata": {
        "id": "Ts_HR1q8LNx2"
      },
      "source": [
        "## 3. Build a model\r\n",
        "\r\n",
        "Train and test split"
      ]
    },
    {
      "cell_type": "code",
      "metadata": {
        "id": "1wwnVbvRK-72"
      },
      "source": [
        "from sklearn.model_selection import train_test_split\r\n",
        "\r\n",
        "# Split the data into training and testing sets\r\n",
        "x_train,x_test,y_train,y_test = train_test_split(df_num.drop('actual',axis=1), df_num['actual'], test_size = 0.25,\r\n",
        "                                                                           random_state = 42)"
      ],
      "execution_count": 53,
      "outputs": []
    },
    {
      "cell_type": "markdown",
      "metadata": {
        "id": "uR0VlP-nMELe"
      },
      "source": [
        "*Establish Baseline (optional)*\r\n",
        "\r\n",
        "We may not have decent values for baseline predictions in some case. Here, we use historical average as base line since it makes sense intuitively. \r\n"
      ]
    },
    {
      "cell_type": "code",
      "metadata": {
        "id": "TwCVn_aNMAqp"
      },
      "source": [
        "baseline_preds = x_test['average']"
      ],
      "execution_count": 54,
      "outputs": []
    },
    {
      "cell_type": "code",
      "metadata": {
        "colab": {
          "base_uri": "https://localhost:8080/"
        },
        "id": "zAOipICiM7K9",
        "outputId": "45732ff8-0e8c-4928-a867-b5f145de1224"
      },
      "source": [
        "baseline_errors = abs(baseline_preds - y_test)\r\n",
        "print('Average baseline error: ', round(np.mean(baseline_errors), 2), 'degrees.')"
      ],
      "execution_count": 55,
      "outputs": [
        {
          "output_type": "stream",
          "text": [
            "Average baseline error:  5.06 degrees.\n"
          ],
          "name": "stdout"
        }
      ]
    },
    {
      "cell_type": "markdown",
      "metadata": {
        "id": "dnkHhaxWOr9w"
      },
      "source": [
        "If we can’t beat an average error of 5 degrees, then we need to rethink our approach."
      ]
    },
    {
      "cell_type": "code",
      "metadata": {
        "id": "6dhWM8j9NVgW"
      },
      "source": [
        "from sklearn.ensemble import RandomForestRegressor\r\n",
        "\r\n",
        "# Instantiate model \r\n",
        "rf = RandomForestRegressor(n_estimators= 1000, random_state=42)\r\n",
        "\r\n",
        "# Train the model on training data\r\n",
        "rf.fit(x_train, y_train);"
      ],
      "execution_count": 56,
      "outputs": []
    },
    {
      "cell_type": "markdown",
      "metadata": {
        "id": "U27qJZvqQSb-"
      },
      "source": [
        "## 4. make prediction and evaluate model"
      ]
    },
    {
      "cell_type": "code",
      "metadata": {
        "colab": {
          "base_uri": "https://localhost:8080/"
        },
        "id": "1U4hDMW0O8QW",
        "outputId": "62add09c-e448-49b9-9d2c-6e4a5d24966d"
      },
      "source": [
        "# Use the forest's predict method on the test data\r\n",
        "predictions = rf.predict(x_test)\r\n",
        "# Calculate the absolute errors\r\n",
        "errors = abs(predictions - y_test)\r\n",
        "# Print out the mean absolute error (mae)\r\n",
        "print('Mean Absolute Error:', round(np.mean(errors), 2), 'degrees.')\r\n",
        "mape = np.mean(100 * (errors / y_test))\r\n",
        "accuracy = 100 - mape\r\n",
        "\r\n",
        "print('Accuracy:', round(accuracy, 2), '%.')"
      ],
      "execution_count": 57,
      "outputs": [
        {
          "output_type": "stream",
          "text": [
            "Mean Absolute Error: 3.87 degrees.\n",
            "Accuracy: 93.93 %.\n"
          ],
          "name": "stdout"
        }
      ]
    },
    {
      "cell_type": "code",
      "metadata": {
        "colab": {
          "base_uri": "https://localhost:8080/"
        },
        "id": "Ck2LkeA4PP-m",
        "outputId": "cdd041bc-cbd8-42c6-d3f4-5aa14998e9dd"
      },
      "source": [
        "from sklearn import metrics\r\n",
        "print('R-squred score: ', metrics.r2_score(y_test, predictions))"
      ],
      "execution_count": 58,
      "outputs": [
        {
          "output_type": "stream",
          "text": [
            "R-squred score:  0.8128487257488989\n"
          ],
          "name": "stdout"
        }
      ]
    },
    {
      "cell_type": "markdown",
      "metadata": {
        "id": "-JXS16GBQW1u"
      },
      "source": [
        "## 5. feature selection via feature importance "
      ]
    },
    {
      "cell_type": "code",
      "metadata": {
        "colab": {
          "base_uri": "https://localhost:8080/"
        },
        "id": "p8wLOZkTQh5x",
        "outputId": "2400c8af-ebe3-4221-b757-b2b4008f7a18"
      },
      "source": [
        "import pandas as pd\r\n",
        "feature_imp = pd.Series(rf.feature_importances_,index=list(x_test.columns)).sort_values(ascending=False)\r\n",
        "feature_imp"
      ],
      "execution_count": 59,
      "outputs": [
        {
          "output_type": "execute_result",
          "data": {
            "text/plain": [
              "temp_1            0.655553\n",
              "average           0.150330\n",
              "forecast_noaa     0.045382\n",
              "forecast_acc      0.034859\n",
              "forecast_under    0.023190\n",
              "day               0.021119\n",
              "temp_2            0.020993\n",
              "friend            0.020685\n",
              "month             0.010330\n",
              "week_Sat          0.003613\n",
              "week_Fri          0.003525\n",
              "week_Mon          0.002588\n",
              "week_Tues         0.002303\n",
              "week_Sun          0.002289\n",
              "week_Wed          0.001974\n",
              "week_Thurs        0.001266\n",
              "year              0.000000\n",
              "dtype: float64"
            ]
          },
          "metadata": {
            "tags": []
          },
          "execution_count": 59
        }
      ]
    },
    {
      "cell_type": "code",
      "metadata": {
        "colab": {
          "base_uri": "https://localhost:8080/"
        },
        "id": "LhjCkKXUQ0G2",
        "outputId": "1b9c2c76-2f31-4e9f-a9be-fc2b2fcf4a8d"
      },
      "source": [
        "round(feature_imp,2)"
      ],
      "execution_count": 60,
      "outputs": [
        {
          "output_type": "execute_result",
          "data": {
            "text/plain": [
              "temp_1            0.66\n",
              "average           0.15\n",
              "forecast_noaa     0.05\n",
              "forecast_acc      0.03\n",
              "forecast_under    0.02\n",
              "day               0.02\n",
              "temp_2            0.02\n",
              "friend            0.02\n",
              "month             0.01\n",
              "week_Sat          0.00\n",
              "week_Fri          0.00\n",
              "week_Mon          0.00\n",
              "week_Tues         0.00\n",
              "week_Sun          0.00\n",
              "week_Wed          0.00\n",
              "week_Thurs        0.00\n",
              "year              0.00\n",
              "dtype: float64"
            ]
          },
          "metadata": {
            "tags": []
          },
          "execution_count": 60
        }
      ]
    },
    {
      "cell_type": "markdown",
      "metadata": {
        "id": "SfJyXwvRRFJ2"
      },
      "source": [
        "**The two most important features are `temp_1` and `average`. Let's make another model using only these two features**"
      ]
    },
    {
      "cell_type": "code",
      "metadata": {
        "id": "rM2HBvnpRDa1"
      },
      "source": [
        "# Split the data into training and testing sets\r\n",
        "x_train,x_test,y_train,y_test = train_test_split(df_num[['temp_1', 'average']], df_num['actual'], test_size = 0.25,\r\n",
        "                                                                           random_state = 42)"
      ],
      "execution_count": 61,
      "outputs": []
    },
    {
      "cell_type": "code",
      "metadata": {
        "id": "2AWyBPVqRmOw"
      },
      "source": [
        "# Instantiate model \r\n",
        "rf = RandomForestRegressor(n_estimators= 1000, random_state=42)\r\n",
        "\r\n",
        "# Train the model on training data\r\n",
        "rf.fit(x_train, y_train);"
      ],
      "execution_count": 62,
      "outputs": []
    },
    {
      "cell_type": "code",
      "metadata": {
        "colab": {
          "base_uri": "https://localhost:8080/"
        },
        "id": "vBHJvJ36RrR1",
        "outputId": "b1163ab4-e5d7-4337-fd69-a17617aff6ba"
      },
      "source": [
        "# Use the forest's predict method on the test data\r\n",
        "predictions = rf.predict(x_test)\r\n",
        "# Calculate the absolute errors\r\n",
        "errors = abs(predictions - y_test)\r\n",
        "# Print out the mean absolute error (mae)\r\n",
        "print('Mean Absolute Error:', round(np.mean(errors), 2), 'degrees.')\r\n",
        "mape = np.mean(100 * (errors / y_test))\r\n",
        "accuracy = 100 - mape\r\n",
        "\r\n",
        "print('Accuracy:', round(accuracy, 2), '%.')"
      ],
      "execution_count": 63,
      "outputs": [
        {
          "output_type": "stream",
          "text": [
            "Mean Absolute Error: 3.92 degrees.\n",
            "Accuracy: 93.76 %.\n"
          ],
          "name": "stdout"
        }
      ]
    },
    {
      "cell_type": "code",
      "metadata": {
        "colab": {
          "base_uri": "https://localhost:8080/"
        },
        "id": "wc7PTc3PRv2l",
        "outputId": "317f5b35-7328-425c-d181-40bd6d98cdf2"
      },
      "source": [
        "from sklearn import metrics\r\n",
        "print('R-squred score: ', metrics.r2_score(y_test, predictions))"
      ],
      "execution_count": 64,
      "outputs": [
        {
          "output_type": "stream",
          "text": [
            "R-squred score:  0.8079504720718287\n"
          ],
          "name": "stdout"
        }
      ]
    },
    {
      "cell_type": "markdown",
      "metadata": {
        "id": "qeVd7F3VS7XG"
      },
      "source": [
        "All the measures($R^2$, MAE, accuracy) for the model's performance turned out to be very similar when using both the whole dataset and only the two most important variables. In other words, it is very important to do feature selection since it reduces run-time. "
      ]
    },
    {
      "cell_type": "code",
      "metadata": {
        "id": "5bfGXYmHS6ym"
      },
      "source": [
        ""
      ],
      "execution_count": null,
      "outputs": []
    },
    {
      "cell_type": "code",
      "metadata": {
        "id": "bWiU8sZRRwvI"
      },
      "source": [
        ""
      ],
      "execution_count": null,
      "outputs": []
    }
  ]
}