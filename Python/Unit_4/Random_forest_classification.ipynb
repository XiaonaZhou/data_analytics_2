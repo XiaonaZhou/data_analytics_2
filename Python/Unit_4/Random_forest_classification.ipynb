{
  "nbformat": 4,
  "nbformat_minor": 0,
  "metadata": {
    "colab": {
      "name": "Random_forest_classification.ipynb",
      "provenance": [],
      "authorship_tag": "ABX9TyOMZMZgYfjSr/qhqyFgHk07",
      "include_colab_link": true
    },
    "kernelspec": {
      "name": "python3",
      "display_name": "Python 3"
    }
  },
  "cells": [
    {
      "cell_type": "markdown",
      "metadata": {
        "id": "view-in-github",
        "colab_type": "text"
      },
      "source": [
        "<a href=\"https://colab.research.google.com/github/XiaonaZhou/data_analytics_2/blob/main/Python/Unit_4/Random_forest_classification.ipynb\" target=\"_parent\"><img src=\"https://colab.research.google.com/assets/colab-badge.svg\" alt=\"Open In Colab\"/></a>"
      ]
    },
    {
      "cell_type": "markdown",
      "metadata": {
        "id": "f0OVjBT5-wf9"
      },
      "source": [
        "# Random forest with classification model"
      ]
    },
    {
      "cell_type": "markdown",
      "metadata": {
        "id": "yLp9PWPn-6du"
      },
      "source": [
        "In this notebook, I re-predict ad clicking behavior with random forest classifier, and I try out another example from [DataCamp](https://www.datacamp.com/community/tutorials/random-forests-classifier-python). "
      ]
    },
    {
      "cell_type": "markdown",
      "metadata": {
        "id": "d4JqpuxgDnEp"
      },
      "source": [
        "## **Re-predict ad clicking behavior**"
      ]
    },
    {
      "cell_type": "markdown",
      "metadata": {
        "id": "JsDLOGwb_Eui"
      },
      "source": [
        "## 1. Import libraries and dataset"
      ]
    },
    {
      "cell_type": "code",
      "metadata": {
        "id": "Uu8gBwgP-fpw"
      },
      "source": [
        "import pandas as pd\r\n",
        "import numpy as np\r\n",
        "import matplotlib.pyplot as plt\r\n",
        "%matplotlib inline"
      ],
      "execution_count": 77,
      "outputs": []
    },
    {
      "cell_type": "code",
      "metadata": {
        "id": "VGNYBRRI_RsN"
      },
      "source": [
        "df_class = pd.read_csv('https://raw.githubusercontent.com/niteen11/cuny_lagcc_micro_credential_data_analytics/main/Track%20A/Unit%204%20-%20Machine%20Learning%20and%20Modeling%20Techniques/Dataset/advertising.csv')"
      ],
      "execution_count": 78,
      "outputs": []
    },
    {
      "cell_type": "code",
      "metadata": {
        "colab": {
          "base_uri": "https://localhost:8080/",
          "height": 199
        },
        "id": "Labkg8aW_SCu",
        "outputId": "00cb7235-e175-4cec-ed45-bca4e1f741c7"
      },
      "source": [
        "df_class.head()"
      ],
      "execution_count": 79,
      "outputs": [
        {
          "output_type": "execute_result",
          "data": {
            "text/html": [
              "<div>\n",
              "<style scoped>\n",
              "    .dataframe tbody tr th:only-of-type {\n",
              "        vertical-align: middle;\n",
              "    }\n",
              "\n",
              "    .dataframe tbody tr th {\n",
              "        vertical-align: top;\n",
              "    }\n",
              "\n",
              "    .dataframe thead th {\n",
              "        text-align: right;\n",
              "    }\n",
              "</style>\n",
              "<table border=\"1\" class=\"dataframe\">\n",
              "  <thead>\n",
              "    <tr style=\"text-align: right;\">\n",
              "      <th></th>\n",
              "      <th>Daily Time Spent on Site</th>\n",
              "      <th>Age</th>\n",
              "      <th>Area Income</th>\n",
              "      <th>Daily Internet Usage</th>\n",
              "      <th>Ad Topic Line</th>\n",
              "      <th>City</th>\n",
              "      <th>Male</th>\n",
              "      <th>Country</th>\n",
              "      <th>Timestamp</th>\n",
              "      <th>Clicked on Ad</th>\n",
              "    </tr>\n",
              "  </thead>\n",
              "  <tbody>\n",
              "    <tr>\n",
              "      <th>0</th>\n",
              "      <td>68.95</td>\n",
              "      <td>35</td>\n",
              "      <td>61833.90</td>\n",
              "      <td>256.09</td>\n",
              "      <td>Cloned 5thgeneration orchestration</td>\n",
              "      <td>Wrightburgh</td>\n",
              "      <td>0</td>\n",
              "      <td>Tunisia</td>\n",
              "      <td>2016-03-27 00:53:11</td>\n",
              "      <td>0</td>\n",
              "    </tr>\n",
              "    <tr>\n",
              "      <th>1</th>\n",
              "      <td>80.23</td>\n",
              "      <td>31</td>\n",
              "      <td>68441.85</td>\n",
              "      <td>193.77</td>\n",
              "      <td>Monitored national standardization</td>\n",
              "      <td>West Jodi</td>\n",
              "      <td>1</td>\n",
              "      <td>Nauru</td>\n",
              "      <td>2016-04-04 01:39:02</td>\n",
              "      <td>0</td>\n",
              "    </tr>\n",
              "    <tr>\n",
              "      <th>2</th>\n",
              "      <td>69.47</td>\n",
              "      <td>26</td>\n",
              "      <td>59785.94</td>\n",
              "      <td>236.50</td>\n",
              "      <td>Organic bottom-line service-desk</td>\n",
              "      <td>Davidton</td>\n",
              "      <td>0</td>\n",
              "      <td>San Marino</td>\n",
              "      <td>2016-03-13 20:35:42</td>\n",
              "      <td>0</td>\n",
              "    </tr>\n",
              "    <tr>\n",
              "      <th>3</th>\n",
              "      <td>74.15</td>\n",
              "      <td>29</td>\n",
              "      <td>54806.18</td>\n",
              "      <td>245.89</td>\n",
              "      <td>Triple-buffered reciprocal time-frame</td>\n",
              "      <td>West Terrifurt</td>\n",
              "      <td>1</td>\n",
              "      <td>Italy</td>\n",
              "      <td>2016-01-10 02:31:19</td>\n",
              "      <td>0</td>\n",
              "    </tr>\n",
              "    <tr>\n",
              "      <th>4</th>\n",
              "      <td>68.37</td>\n",
              "      <td>35</td>\n",
              "      <td>73889.99</td>\n",
              "      <td>225.58</td>\n",
              "      <td>Robust logistical utilization</td>\n",
              "      <td>South Manuel</td>\n",
              "      <td>0</td>\n",
              "      <td>Iceland</td>\n",
              "      <td>2016-06-03 03:36:18</td>\n",
              "      <td>0</td>\n",
              "    </tr>\n",
              "  </tbody>\n",
              "</table>\n",
              "</div>"
            ],
            "text/plain": [
              "   Daily Time Spent on Site  Age  ...            Timestamp  Clicked on Ad\n",
              "0                     68.95   35  ...  2016-03-27 00:53:11              0\n",
              "1                     80.23   31  ...  2016-04-04 01:39:02              0\n",
              "2                     69.47   26  ...  2016-03-13 20:35:42              0\n",
              "3                     74.15   29  ...  2016-01-10 02:31:19              0\n",
              "4                     68.37   35  ...  2016-06-03 03:36:18              0\n",
              "\n",
              "[5 rows x 10 columns]"
            ]
          },
          "metadata": {
            "tags": []
          },
          "execution_count": 79
        }
      ]
    },
    {
      "cell_type": "markdown",
      "metadata": {
        "id": "KloSvked_h6h"
      },
      "source": [
        "## 2. Missing values and EDA\r\n",
        "\r\n",
        "Skip. It has been done within `Logistic_regression_predict_ad_click.ipynb`."
      ]
    },
    {
      "cell_type": "markdown",
      "metadata": {
        "id": "EPYAYuLUAAgq"
      },
      "source": [
        "## 3. Data wrangling\r\n",
        "\r\n",
        "remove all non-numeric variable."
      ]
    },
    {
      "cell_type": "code",
      "metadata": {
        "id": "7ZGPDu2W_UPd"
      },
      "source": [
        "df_class.drop(['Ad Topic Line', 'City', 'Country', 'Timestamp'], axis=1,inplace=True)"
      ],
      "execution_count": 80,
      "outputs": []
    },
    {
      "cell_type": "markdown",
      "metadata": {
        "id": "gJgB64qJAE5d"
      },
      "source": [
        "Standardization"
      ]
    },
    {
      "cell_type": "code",
      "metadata": {
        "colab": {
          "base_uri": "https://localhost:8080/",
          "height": 199
        },
        "id": "j_GDKDHdAELU",
        "outputId": "dcc38a86-9246-4f23-f9fd-b16a6d44b4fc"
      },
      "source": [
        "from sklearn.preprocessing import StandardScaler\r\n",
        "scaler = StandardScaler()\r\n",
        "scaler.fit(df_class.drop('Clicked on Ad', axis=1)) # standardize the dataset without the label. DO NOT standardize label\r\n",
        "scaled_features = scaler.transform(df_class.drop('Clicked on Ad',axis=1)) # column names were removed after standardize\r\n",
        "scaled_features\r\n",
        "df_feat = pd.DataFrame(scaled_features, columns=df_class.columns[:-1]) # add back column names\r\n",
        "df_feat.head()"
      ],
      "execution_count": 81,
      "outputs": [
        {
          "output_type": "execute_result",
          "data": {
            "text/html": [
              "<div>\n",
              "<style scoped>\n",
              "    .dataframe tbody tr th:only-of-type {\n",
              "        vertical-align: middle;\n",
              "    }\n",
              "\n",
              "    .dataframe tbody tr th {\n",
              "        vertical-align: top;\n",
              "    }\n",
              "\n",
              "    .dataframe thead th {\n",
              "        text-align: right;\n",
              "    }\n",
              "</style>\n",
              "<table border=\"1\" class=\"dataframe\">\n",
              "  <thead>\n",
              "    <tr style=\"text-align: right;\">\n",
              "      <th></th>\n",
              "      <th>Daily Time Spent on Site</th>\n",
              "      <th>Age</th>\n",
              "      <th>Area Income</th>\n",
              "      <th>Daily Internet Usage</th>\n",
              "      <th>Male</th>\n",
              "    </tr>\n",
              "  </thead>\n",
              "  <tbody>\n",
              "    <tr>\n",
              "      <th>0</th>\n",
              "      <td>0.249267</td>\n",
              "      <td>-0.114905</td>\n",
              "      <td>0.509691</td>\n",
              "      <td>1.734030</td>\n",
              "      <td>-0.962695</td>\n",
              "    </tr>\n",
              "    <tr>\n",
              "      <th>1</th>\n",
              "      <td>0.961132</td>\n",
              "      <td>-0.570425</td>\n",
              "      <td>1.002530</td>\n",
              "      <td>0.313805</td>\n",
              "      <td>1.038750</td>\n",
              "    </tr>\n",
              "    <tr>\n",
              "      <th>2</th>\n",
              "      <td>0.282083</td>\n",
              "      <td>-1.139826</td>\n",
              "      <td>0.356949</td>\n",
              "      <td>1.287589</td>\n",
              "      <td>-0.962695</td>\n",
              "    </tr>\n",
              "    <tr>\n",
              "      <th>3</th>\n",
              "      <td>0.577432</td>\n",
              "      <td>-0.798185</td>\n",
              "      <td>-0.014456</td>\n",
              "      <td>1.501580</td>\n",
              "      <td>1.038750</td>\n",
              "    </tr>\n",
              "    <tr>\n",
              "      <th>4</th>\n",
              "      <td>0.212664</td>\n",
              "      <td>-0.114905</td>\n",
              "      <td>1.408868</td>\n",
              "      <td>1.038731</td>\n",
              "      <td>-0.962695</td>\n",
              "    </tr>\n",
              "  </tbody>\n",
              "</table>\n",
              "</div>"
            ],
            "text/plain": [
              "   Daily Time Spent on Site       Age  ...  Daily Internet Usage      Male\n",
              "0                  0.249267 -0.114905  ...              1.734030 -0.962695\n",
              "1                  0.961132 -0.570425  ...              0.313805  1.038750\n",
              "2                  0.282083 -1.139826  ...              1.287589 -0.962695\n",
              "3                  0.577432 -0.798185  ...              1.501580  1.038750\n",
              "4                  0.212664 -0.114905  ...              1.038731 -0.962695\n",
              "\n",
              "[5 rows x 5 columns]"
            ]
          },
          "metadata": {
            "tags": []
          },
          "execution_count": 81
        }
      ]
    },
    {
      "cell_type": "markdown",
      "metadata": {
        "id": "f1or8lixALiq"
      },
      "source": [
        "## 4. Build random forest mdoel"
      ]
    },
    {
      "cell_type": "code",
      "metadata": {
        "id": "BNq0dauzAJRP"
      },
      "source": [
        "# split data into train and test set\r\n",
        "from sklearn.model_selection import train_test_split\r\n",
        "x_train,x_test,y_train,y_test = train_test_split(df_feat, df_class['Clicked on Ad'], test_size=0.30, random_state=101)"
      ],
      "execution_count": 82,
      "outputs": []
    },
    {
      "cell_type": "code",
      "metadata": {
        "id": "L5Gd_KfIAZlQ"
      },
      "source": [
        "#Import Random Forest Model\r\n",
        "from sklearn.ensemble import RandomForestClassifier\r\n",
        "\r\n",
        "#Create a Gaussian Classifier\r\n",
        "clf=RandomForestClassifier(n_estimators=100)\r\n",
        "\r\n",
        "#Train the model using the training sets y_pred=clf.predict(X_test)\r\n",
        "clf.fit(x_train,y_train)\r\n",
        "y_pred=clf.predict(x_test)\r\n"
      ],
      "execution_count": 84,
      "outputs": []
    },
    {
      "cell_type": "markdown",
      "metadata": {
        "id": "fgtAC1wPAjKl"
      },
      "source": [
        "## 5. Evaluate model"
      ]
    },
    {
      "cell_type": "code",
      "metadata": {
        "colab": {
          "base_uri": "https://localhost:8080/"
        },
        "id": "Rae82zxqAsKS",
        "outputId": "682b9c2f-9ee4-45b4-ffe2-0e0c5d701251"
      },
      "source": [
        "from sklearn.metrics import classification_report, confusion_matrix\r\n",
        "print(confusion_matrix(y_test, y_pred))"
      ],
      "execution_count": 85,
      "outputs": [
        {
          "output_type": "stream",
          "text": [
            "[[152   5]\n",
            " [  8 135]]\n"
          ],
          "name": "stdout"
        }
      ]
    },
    {
      "cell_type": "code",
      "metadata": {
        "colab": {
          "base_uri": "https://localhost:8080/"
        },
        "id": "1zFIw1G9Azt9",
        "outputId": "396c7f4a-613b-4761-80ac-80a469c6878c"
      },
      "source": [
        "print(classification_report(y_test, y_pred))"
      ],
      "execution_count": 86,
      "outputs": [
        {
          "output_type": "stream",
          "text": [
            "              precision    recall  f1-score   support\n",
            "\n",
            "           0       0.95      0.97      0.96       157\n",
            "           1       0.96      0.94      0.95       143\n",
            "\n",
            "    accuracy                           0.96       300\n",
            "   macro avg       0.96      0.96      0.96       300\n",
            "weighted avg       0.96      0.96      0.96       300\n",
            "\n"
          ],
          "name": "stdout"
        }
      ]
    },
    {
      "cell_type": "markdown",
      "metadata": {
        "id": "_llX9TPCCMDH"
      },
      "source": [
        "Compare to the scores we get with logistic regression, we do not have higher scores when using a decision tree model. Therefore, a logistic model is a better choice for an advertising dataset"
      ]
    },
    {
      "cell_type": "markdown",
      "metadata": {
        "id": "1TLIhh2VDvFY"
      },
      "source": [
        "## **Random forest classifier example from DataCamp**"
      ]
    },
    {
      "cell_type": "markdown",
      "metadata": {
        "id": "6F5JyoZBEvkh"
      },
      "source": [
        "## The idea behind the algorithm\r\n",
        "\r\n",
        "Four steps:\r\n",
        "1. Select random samples from a given dataset\r\n",
        "2. Construct a decision tree for each sample and get a prediction result from each decision. (This part is just like making a decision tree model and predict. For decision trees mdoel, we only do this step.)\r\n",
        "3. Perform a vote for each predicted result.\r\n",
        "4. Select the predition result with the most votes as the final prediction"
      ]
    },
    {
      "cell_type": "markdown",
      "metadata": {
        "id": "oE7BFri8GdDC"
      },
      "source": [
        "## Advantages and disadvantages\r\n",
        "\r\n",
        "* **Highly accurate and robust** method because of the number of decision trees participating in the process. \r\n",
        "* **Does not suffer from overfitting** since it takes the average of all predictions, which cancels out the biases.\r\n",
        "* **Can obtain relative feature importance**, which helps in selecting the most contributing features for the classifier.\r\n",
        "\r\n",
        "* **Time consuming** since it has multiple decision trees.\r\n",
        "* **Difficult to interpret** compare to a decision tree since random selections are involved. \r\n",
        "\r\n"
      ]
    },
    {
      "cell_type": "markdown",
      "metadata": {
        "id": "TGhDbLX0UTDI"
      },
      "source": [
        "### 1. Import data "
      ]
    },
    {
      "cell_type": "code",
      "metadata": {
        "id": "iF0JtYo8A1cK"
      },
      "source": [
        "#Import scikit-learn dataset library\r\n",
        "from sklearn import datasets\r\n",
        "\r\n",
        "#Load dataset\r\n",
        "iris = datasets.load_iris()"
      ],
      "execution_count": 113,
      "outputs": []
    },
    {
      "cell_type": "code",
      "metadata": {
        "colab": {
          "base_uri": "https://localhost:8080/"
        },
        "id": "DlapQK-FUbmP",
        "outputId": "6b16f1e8-6449-4ebe-d42b-5454c187de16"
      },
      "source": [
        "# print the label species(setosa, versicolor,virginica)\r\n",
        "print(iris.target_names)\r\n",
        "\r\n",
        "# print the names of the four features\r\n",
        "print(iris.feature_names)"
      ],
      "execution_count": 114,
      "outputs": [
        {
          "output_type": "stream",
          "text": [
            "['setosa' 'versicolor' 'virginica']\n",
            "['sepal length (cm)', 'sepal width (cm)', 'petal length (cm)', 'petal width (cm)']\n"
          ],
          "name": "stdout"
        }
      ]
    },
    {
      "cell_type": "code",
      "metadata": {
        "colab": {
          "base_uri": "https://localhost:8080/"
        },
        "id": "LvZP2BTYUfTG",
        "outputId": "3972be46-bd1a-4bcb-bd4b-061b1b01bbbf"
      },
      "source": [
        "# print the iris data (top 5 records)\r\n",
        "print(iris.data[0:5])\r\n",
        "\r\n",
        "# print the iris labels (0:setosa, 1:versicolor, 2:virginica)\r\n",
        "print(iris.target)"
      ],
      "execution_count": 115,
      "outputs": [
        {
          "output_type": "stream",
          "text": [
            "[[5.1 3.5 1.4 0.2]\n",
            " [4.9 3.  1.4 0.2]\n",
            " [4.7 3.2 1.3 0.2]\n",
            " [4.6 3.1 1.5 0.2]\n",
            " [5.  3.6 1.4 0.2]]\n",
            "[0 0 0 0 0 0 0 0 0 0 0 0 0 0 0 0 0 0 0 0 0 0 0 0 0 0 0 0 0 0 0 0 0 0 0 0 0\n",
            " 0 0 0 0 0 0 0 0 0 0 0 0 0 1 1 1 1 1 1 1 1 1 1 1 1 1 1 1 1 1 1 1 1 1 1 1 1\n",
            " 1 1 1 1 1 1 1 1 1 1 1 1 1 1 1 1 1 1 1 1 1 1 1 1 1 1 2 2 2 2 2 2 2 2 2 2 2\n",
            " 2 2 2 2 2 2 2 2 2 2 2 2 2 2 2 2 2 2 2 2 2 2 2 2 2 2 2 2 2 2 2 2 2 2 2 2 2\n",
            " 2 2]\n"
          ],
          "name": "stdout"
        }
      ]
    },
    {
      "cell_type": "code",
      "metadata": {
        "colab": {
          "base_uri": "https://localhost:8080/",
          "height": 199
        },
        "id": "VJzBydC6UlB3",
        "outputId": "0173a9f6-2a0d-4d9c-f3ea-06e3372caf22"
      },
      "source": [
        "# Creating a DataFrame of given iris dataset.\r\n",
        "import pandas as pd\r\n",
        "data=pd.DataFrame({\r\n",
        "    'sepal_length':iris.data[:,0],\r\n",
        "    'sepal_width':iris.data[:,1],\r\n",
        "    'petal_length':iris.data[:,2],\r\n",
        "    'petal_width':iris.data[:,3],\r\n",
        "    'species':iris.target\r\n",
        "})\r\n",
        "data.head()"
      ],
      "execution_count": 116,
      "outputs": [
        {
          "output_type": "execute_result",
          "data": {
            "text/html": [
              "<div>\n",
              "<style scoped>\n",
              "    .dataframe tbody tr th:only-of-type {\n",
              "        vertical-align: middle;\n",
              "    }\n",
              "\n",
              "    .dataframe tbody tr th {\n",
              "        vertical-align: top;\n",
              "    }\n",
              "\n",
              "    .dataframe thead th {\n",
              "        text-align: right;\n",
              "    }\n",
              "</style>\n",
              "<table border=\"1\" class=\"dataframe\">\n",
              "  <thead>\n",
              "    <tr style=\"text-align: right;\">\n",
              "      <th></th>\n",
              "      <th>sepal_length</th>\n",
              "      <th>sepal_width</th>\n",
              "      <th>petal_length</th>\n",
              "      <th>petal_width</th>\n",
              "      <th>species</th>\n",
              "    </tr>\n",
              "  </thead>\n",
              "  <tbody>\n",
              "    <tr>\n",
              "      <th>0</th>\n",
              "      <td>5.1</td>\n",
              "      <td>3.5</td>\n",
              "      <td>1.4</td>\n",
              "      <td>0.2</td>\n",
              "      <td>0</td>\n",
              "    </tr>\n",
              "    <tr>\n",
              "      <th>1</th>\n",
              "      <td>4.9</td>\n",
              "      <td>3.0</td>\n",
              "      <td>1.4</td>\n",
              "      <td>0.2</td>\n",
              "      <td>0</td>\n",
              "    </tr>\n",
              "    <tr>\n",
              "      <th>2</th>\n",
              "      <td>4.7</td>\n",
              "      <td>3.2</td>\n",
              "      <td>1.3</td>\n",
              "      <td>0.2</td>\n",
              "      <td>0</td>\n",
              "    </tr>\n",
              "    <tr>\n",
              "      <th>3</th>\n",
              "      <td>4.6</td>\n",
              "      <td>3.1</td>\n",
              "      <td>1.5</td>\n",
              "      <td>0.2</td>\n",
              "      <td>0</td>\n",
              "    </tr>\n",
              "    <tr>\n",
              "      <th>4</th>\n",
              "      <td>5.0</td>\n",
              "      <td>3.6</td>\n",
              "      <td>1.4</td>\n",
              "      <td>0.2</td>\n",
              "      <td>0</td>\n",
              "    </tr>\n",
              "  </tbody>\n",
              "</table>\n",
              "</div>"
            ],
            "text/plain": [
              "   sepal_length  sepal_width  petal_length  petal_width  species\n",
              "0           5.1          3.5           1.4          0.2        0\n",
              "1           4.9          3.0           1.4          0.2        0\n",
              "2           4.7          3.2           1.3          0.2        0\n",
              "3           4.6          3.1           1.5          0.2        0\n",
              "4           5.0          3.6           1.4          0.2        0"
            ]
          },
          "metadata": {
            "tags": []
          },
          "execution_count": 116
        }
      ]
    },
    {
      "cell_type": "markdown",
      "metadata": {
        "id": "Q_VUXEzPVZrb"
      },
      "source": [
        "### 2. Build model and predict"
      ]
    },
    {
      "cell_type": "code",
      "metadata": {
        "id": "01eDBqU5U6qt"
      },
      "source": [
        "# Import train_test_split function\r\n",
        "from sklearn.model_selection import train_test_split\r\n",
        "# Split dataset into training set and test set\r\n",
        "x_train, x_test, y_train, y_test = train_test_split(data.drop('species',axis=1), data['species'], test_size=0.3,random_state=101) # 70% training and 30% test\r\n"
      ],
      "execution_count": 117,
      "outputs": []
    },
    {
      "cell_type": "code",
      "metadata": {
        "id": "oSccqR1QVKpk"
      },
      "source": [
        "#Import Random Forest Model\r\n",
        "from sklearn.ensemble import RandomForestClassifier\r\n",
        "\r\n",
        "#Create a Gaussian Classifier\r\n",
        "clf=RandomForestClassifier(n_estimators=100,random_state=101)\r\n",
        "\r\n",
        "#Train the model using the training sets y_pred=clf.predict(X_test)\r\n",
        "clf.fit(x_train,y_train)\r\n",
        "\r\n",
        "y_pred=clf.predict(x_test)"
      ],
      "execution_count": 118,
      "outputs": []
    },
    {
      "cell_type": "code",
      "metadata": {
        "colab": {
          "base_uri": "https://localhost:8080/"
        },
        "id": "KSIYdxmGVLBT",
        "outputId": "d17f33e3-1147-47e7-e893-5963732d3545"
      },
      "source": [
        "#Import scikit-learn metrics module for accuracy calculation\r\n",
        "from sklearn import metrics\r\n",
        "# Model Accuracy, how often is the classifier correct?\r\n",
        "print(\"Accuracy:\",metrics.accuracy_score(y_test, y_pred))"
      ],
      "execution_count": 119,
      "outputs": [
        {
          "output_type": "stream",
          "text": [
            "Accuracy: 0.9555555555555556\n"
          ],
          "name": "stdout"
        }
      ]
    },
    {
      "cell_type": "markdown",
      "metadata": {
        "id": "5kdxYLRJV0oC"
      },
      "source": [
        "We can also make a prediciton for a single item, for example:\r\n",
        "\r\n",
        "* sepal length = 2\r\n",
        "* sepal width = 4\r\n",
        "* petal length = 3\r\n",
        "* petal width = 3"
      ]
    },
    {
      "cell_type": "code",
      "metadata": {
        "colab": {
          "base_uri": "https://localhost:8080/"
        },
        "id": "U35hhOy5WFE9",
        "outputId": "dbeba982-9704-4637-9b45-c053ebbcc7df"
      },
      "source": [
        "clf.predict([[2, 4, 3, 3]])"
      ],
      "execution_count": 120,
      "outputs": [
        {
          "output_type": "execute_result",
          "data": {
            "text/plain": [
              "array([2])"
            ]
          },
          "metadata": {
            "tags": []
          },
          "execution_count": 120
        }
      ]
    },
    {
      "cell_type": "markdown",
      "metadata": {
        "id": "sKEXB9TuWYFx"
      },
      "source": [
        "1 indicates the flower type Versicolor"
      ]
    },
    {
      "cell_type": "markdown",
      "metadata": {
        "id": "hhWym6YmXsHc"
      },
      "source": [
        "# Find the imprtant features and visualize it"
      ]
    },
    {
      "cell_type": "code",
      "metadata": {
        "colab": {
          "base_uri": "https://localhost:8080/"
        },
        "id": "jfIFiAQYWW1p",
        "outputId": "6375cf20-9c6f-4247-c1ed-e17a0fc9a9c7"
      },
      "source": [
        "import pandas as pd\r\n",
        "feature_imp = pd.Series(clf.feature_importances_,index=iris.feature_names).sort_values(ascending=False)\r\n",
        "feature_imp"
      ],
      "execution_count": 121,
      "outputs": [
        {
          "output_type": "execute_result",
          "data": {
            "text/plain": [
              "petal width (cm)     0.433776\n",
              "petal length (cm)    0.430292\n",
              "sepal length (cm)    0.098788\n",
              "sepal width (cm)     0.037144\n",
              "dtype: float64"
            ]
          },
          "metadata": {
            "tags": []
          },
          "execution_count": 121
        }
      ]
    },
    {
      "cell_type": "code",
      "metadata": {
        "colab": {
          "base_uri": "https://localhost:8080/",
          "height": 313
        },
        "id": "LOPW6LbRVrlv",
        "outputId": "6c8c3617-18b0-487b-98a9-1e722827674c"
      },
      "source": [
        "import matplotlib.pyplot as plt\r\n",
        "import seaborn as sns\r\n",
        "%matplotlib inline\r\n",
        "# Creating a bar plot\r\n",
        "sns.barplot(x=feature_imp, y=feature_imp.index)\r\n",
        "# Add labels to your graph\r\n",
        "plt.xlabel('Feature Importance Score')\r\n",
        "plt.ylabel('Features')\r\n",
        "plt.title(\"Visualizing Important Features\")\r\n",
        "plt.legend()\r\n",
        "plt.show()"
      ],
      "execution_count": 122,
      "outputs": [
        {
          "output_type": "stream",
          "text": [
            "No handles with labels found to put in legend.\n"
          ],
          "name": "stderr"
        },
        {
          "output_type": "display_data",
          "data": {
            "image/png": "[encoded data removed]",
            "text/plain": [
              "<Figure size 432x288 with 1 Axes>"
            ]
          },
          "metadata": {
            "tags": [],
            "needs_background": "light"
          }
        }
      ]
    },
    {
      "cell_type": "markdown",
      "metadata": {
        "id": "6joytC6FYToc"
      },
      "source": [
        "## Modify the model base on feature importance\r\n",
        "\r\n",
        "Since `sepal width` has very low importance, let's remove it. "
      ]
    },
    {
      "cell_type": "code",
      "metadata": {
        "id": "88xtPfB3X9-A"
      },
      "source": [
        "x_train, x_test, y_train, y_test = train_test_split(data.drop(['species','sepal_width'],axis=1), data['species'], test_size=0.3,random_state=101) # 70% training and 30% test"
      ],
      "execution_count": 123,
      "outputs": []
    },
    {
      "cell_type": "code",
      "metadata": {
        "id": "4ugCYKoqYr71"
      },
      "source": [
        "#Import Random Forest Model\r\n",
        "from sklearn.ensemble import RandomForestClassifier\r\n",
        "\r\n",
        "#Create a Gaussian Classifier\r\n",
        "clf=RandomForestClassifier(n_estimators=100,random_state=101)\r\n",
        "\r\n",
        "#Train the model using the training sets y_pred=clf.predict(X_test)\r\n",
        "clf.fit(x_train,y_train)\r\n",
        "\r\n",
        "y_pred=clf.predict(x_test)"
      ],
      "execution_count": 124,
      "outputs": []
    },
    {
      "cell_type": "code",
      "metadata": {
        "colab": {
          "base_uri": "https://localhost:8080/"
        },
        "id": "IctI5Q6CYwRQ",
        "outputId": "6aab4786-0a9e-4f8a-fdb5-1cd3b715a4c4"
      },
      "source": [
        "#Import scikit-learn metrics module for accuracy calculation\r\n",
        "from sklearn import metrics\r\n",
        "# Model Accuracy, how often is the classifier correct?\r\n",
        "print(\"Accuracy:\",metrics.accuracy_score(y_test, y_pred))"
      ],
      "execution_count": 125,
      "outputs": [
        {
          "output_type": "stream",
          "text": [
            "Accuracy: 0.9777777777777777\n"
          ],
          "name": "stdout"
        }
      ]
    },
    {
      "cell_type": "code",
      "metadata": {
        "colab": {
          "base_uri": "https://localhost:8080/"
        },
        "id": "bzBj01MnY49n",
        "outputId": "97eef283-68e0-42d6-a7f2-543e16ca68f1"
      },
      "source": [
        "from sklearn.metrics import classification_report, confusion_matrix\r\n",
        "print(confusion_matrix(y_test, y_pred))"
      ],
      "execution_count": 126,
      "outputs": [
        {
          "output_type": "stream",
          "text": [
            "[[13  0  0]\n",
            " [ 0 19  1]\n",
            " [ 0  0 12]]\n"
          ],
          "name": "stdout"
        }
      ]
    },
    {
      "cell_type": "code",
      "metadata": {
        "colab": {
          "base_uri": "https://localhost:8080/"
        },
        "id": "ZRUH0VYKZvMT",
        "outputId": "9e23111f-0d20-4cc3-b104-4d52d98d6a37"
      },
      "source": [
        "print(classification_report(y_test, y_pred))"
      ],
      "execution_count": 127,
      "outputs": [
        {
          "output_type": "stream",
          "text": [
            "              precision    recall  f1-score   support\n",
            "\n",
            "           0       1.00      1.00      1.00        13\n",
            "           1       1.00      0.95      0.97        20\n",
            "           2       0.92      1.00      0.96        12\n",
            "\n",
            "    accuracy                           0.98        45\n",
            "   macro avg       0.97      0.98      0.98        45\n",
            "weighted avg       0.98      0.98      0.98        45\n",
            "\n"
          ],
          "name": "stdout"
        }
      ]
    },
    {
      "cell_type": "markdown",
      "metadata": {
        "id": "Vxs8ZgvdaN_7"
      },
      "source": [
        "After removing the least important features (sepal length), the accuracy increased from 0.956 to 0.978. This is because you removed misleading data and noise, resulting in an increased accuracy. A lesser amount of features also reduces the training time."
      ]
    },
    {
      "cell_type": "code",
      "metadata": {
        "id": "rnLvX3u6ZxFy"
      },
      "source": [
        ""
      ],
      "execution_count": null,
      "outputs": []
    }
  ]
}