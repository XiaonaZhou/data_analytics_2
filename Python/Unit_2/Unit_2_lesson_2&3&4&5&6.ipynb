{
  "nbformat": 4,
  "nbformat_minor": 0,
  "metadata": {
    "colab": {
      "name": "Unit_2_lesson_2&3&4&5&6.ipynb",
      "provenance": [],
      "authorship_tag": "ABX9TyNSpSexSPVjkhJtx70xRFFe",
      "include_colab_link": true
    },
    "kernelspec": {
      "name": "python3",
      "display_name": "Python 3"
    }
  },
  "cells": [
    {
      "cell_type": "markdown",
      "metadata": {
        "id": "view-in-github",
        "colab_type": "text"
      },
      "source": [
        "<a href=\"https://colab.research.google.com/github/XiaonaZhou/data_analytics_2/blob/main/Python/Unit_2_lesson_2%263%264%265%266.ipynb\" target=\"_parent\"><img src=\"https://colab.research.google.com/assets/colab-badge.svg\" alt=\"Open In Colab\"/></a>"
      ]
    },
    {
      "cell_type": "markdown",
      "metadata": {
        "id": "qEQkegGHlrYh"
      },
      "source": [
        "# **Intro to Python for Data Analytics**\r\n",
        "\r\n",
        "## Lesson 2"
      ]
    },
    {
      "cell_type": "markdown",
      "metadata": {
        "id": "3aQml1zWlK3J"
      },
      "source": [
        "3. Create a variable that holds the string “hello there!”"
      ]
    },
    {
      "cell_type": "code",
      "metadata": {
        "id": "qKuC25uvimxS"
      },
      "source": [
        "Str1 = \"hello there!\""
      ],
      "execution_count": null,
      "outputs": []
    },
    {
      "cell_type": "code",
      "metadata": {
        "colab": {
          "base_uri": "https://localhost:8080/",
          "height": 35
        },
        "id": "z5gPJp2eirNk",
        "outputId": "6340381f-b5fb-4259-89bf-02d93b2be601"
      },
      "source": [
        "Str1"
      ],
      "execution_count": null,
      "outputs": [
        {
          "output_type": "execute_result",
          "data": {
            "application/vnd.google.colaboratory.intrinsic+json": {
              "type": "string"
            },
            "text/plain": [
              "'hello there!'"
            ]
          },
          "metadata": {
            "tags": []
          },
          "execution_count": 7
        }
      ]
    },
    {
      "cell_type": "markdown",
      "metadata": {
        "id": "NNiao2BFlW6O"
      },
      "source": [
        "4. Create a variable for first name, last name and an email extension.  Concatenating all three together to form an email address.  For example: firstnamelastname@gmail.com"
      ]
    },
    {
      "cell_type": "code",
      "metadata": {
        "id": "BuuzXOopi3As"
      },
      "source": [
        "first_name=\"Xiaona\"; last_name=\"Zhou\"; email_extension= \"@gmail.com\""
      ],
      "execution_count": null,
      "outputs": []
    },
    {
      "cell_type": "code",
      "metadata": {
        "colab": {
          "base_uri": "https://localhost:8080/"
        },
        "id": "28BP7TI3i3DM",
        "outputId": "fa9af709-f9ad-4242-9789-3a33135b70e6"
      },
      "source": [
        "print(first_name+last_name+email_extension)"
      ],
      "execution_count": null,
      "outputs": [
        {
          "output_type": "stream",
          "text": [
            "XiaonaZhou@gmail.com\n"
          ],
          "name": "stdout"
        }
      ]
    },
    {
      "cell_type": "markdown",
      "metadata": {
        "id": "8Et7fbsGldlB"
      },
      "source": [
        "5. Store the name of someone you know in a variable called name.  Print their name in lower and uppercase using a method."
      ]
    },
    {
      "cell_type": "code",
      "metadata": {
        "colab": {
          "base_uri": "https://localhost:8080/",
          "height": 35
        },
        "id": "-N-_yd4di3Fg",
        "outputId": "8206d279-33fc-4c42-b2a9-1aa6a931484b"
      },
      "source": [
        "name = \"Xiaona\"\r\n",
        "name.lower()"
      ],
      "execution_count": null,
      "outputs": [
        {
          "output_type": "execute_result",
          "data": {
            "application/vnd.google.colaboratory.intrinsic+json": {
              "type": "string"
            },
            "text/plain": [
              "'xiaona'"
            ]
          },
          "metadata": {
            "tags": []
          },
          "execution_count": 14
        }
      ]
    },
    {
      "cell_type": "code",
      "metadata": {
        "colab": {
          "base_uri": "https://localhost:8080/",
          "height": 35
        },
        "id": "cwO7r_zci3I2",
        "outputId": "423c83b1-611f-454a-dc40-922a19012386"
      },
      "source": [
        "name.upper()"
      ],
      "execution_count": null,
      "outputs": [
        {
          "output_type": "execute_result",
          "data": {
            "application/vnd.google.colaboratory.intrinsic+json": {
              "type": "string"
            },
            "text/plain": [
              "'XIAONA'"
            ]
          },
          "metadata": {
            "tags": []
          },
          "execution_count": 15
        }
      ]
    },
    {
      "cell_type": "markdown",
      "metadata": {
        "id": "V5O-PwCwllWl"
      },
      "source": [
        "6.Using a variable, ask your friend if they want to hang out on the 15th of the month.  For example, “Do you want to hang out on the 15th of this month?”  You should have to convert the number to a string."
      ]
    },
    {
      "cell_type": "code",
      "metadata": {
        "id": "EHpGsQuRkhCR"
      },
      "source": [
        "date_of_month = 15"
      ],
      "execution_count": null,
      "outputs": []
    },
    {
      "cell_type": "code",
      "metadata": {
        "colab": {
          "base_uri": "https://localhost:8080/"
        },
        "id": "YXuCcabikhD0",
        "outputId": "eb0ad4c7-e1ab-483c-e73f-4003516f6848"
      },
      "source": [
        "print(\"Do you want to hang out on the \" + str(date_of_month)+ \"th of this month?\")"
      ],
      "execution_count": null,
      "outputs": [
        {
          "output_type": "stream",
          "text": [
            "Do you want to hang out on the 15th of this month?\n"
          ],
          "name": "stdout"
        }
      ]
    },
    {
      "cell_type": "markdown",
      "metadata": {
        "id": "9FpSYvvrl8Aa"
      },
      "source": [
        "## Lesson 3"
      ]
    },
    {
      "cell_type": "markdown",
      "metadata": {
        "id": "1tZKaT62mHyb"
      },
      "source": [
        "1. Create a list of 5 of your favorite tv shows.  "
      ]
    },
    {
      "cell_type": "code",
      "metadata": {
        "id": "QIA6e0EvkhIN"
      },
      "source": [
        "tv_show_list = [\"The Big Bang Theory\", \"The Good Doctor\", \"Young Sheldon\", \"Sherlock\", \"Grey's Anatomy\"]"
      ],
      "execution_count": 49,
      "outputs": []
    },
    {
      "cell_type": "markdown",
      "metadata": {
        "id": "j7ZlJZFynbqL"
      },
      "source": [
        "2. Print the list in its original order."
      ]
    },
    {
      "cell_type": "code",
      "metadata": {
        "colab": {
          "base_uri": "https://localhost:8080/"
        },
        "id": "wFJMsHAfoHSl",
        "outputId": "07516c40-28d1-4641-975c-221652119746"
      },
      "source": [
        "print(tv_show_list)"
      ],
      "execution_count": 50,
      "outputs": [
        {
          "output_type": "stream",
          "text": [
            "['The Big Bang Theory', 'The Good Doctor', 'Young Sheldon', 'Sherlock', \"Grey's Anatomy\"]\n"
          ],
          "name": "stdout"
        }
      ]
    },
    {
      "cell_type": "markdown",
      "metadata": {
        "id": "HAUSRZi1oNMQ"
      },
      "source": [
        "3. Use the sorted() function to print the list in alphabetical order.  How is sorted() different from sort()?\r\n",
        "\r\n",
        "sort() change the order within the list permanently.\r\n",
        "\r\n",
        "sorted() does not change the order of the list, it return sorted list without changing the order of the list permanently. "
      ]
    },
    {
      "cell_type": "code",
      "metadata": {
        "id": "_HuWri0c_CkG",
        "colab": {
          "base_uri": "https://localhost:8080/"
        },
        "outputId": "a2be3692-70bd-4f98-dfa7-eeaad4caa65c"
      },
      "source": [
        "# return sorted list in alphabetical order\r\n",
        "print(sorted(tv_show_list))"
      ],
      "execution_count": 51,
      "outputs": [
        {
          "output_type": "stream",
          "text": [
            "[\"Grey's Anatomy\", 'Sherlock', 'The Big Bang Theory', 'The Good Doctor', 'Young Sheldon']\n"
          ],
          "name": "stdout"
        }
      ]
    },
    {
      "cell_type": "code",
      "metadata": {
        "colab": {
          "base_uri": "https://localhost:8080/"
        },
        "id": "_w4rQZ5Ho580",
        "outputId": "fc4ff7d6-5b79-4893-90ed-f4dd6f662a0c"
      },
      "source": [
        "# the list tv_show_list remains the same. \r\n",
        "tv_show_list"
      ],
      "execution_count": null,
      "outputs": [
        {
          "output_type": "execute_result",
          "data": {
            "text/plain": [
              "['The Big Bang Theory',\n",
              " 'The Good Doctor',\n",
              " 'Young Sheldon',\n",
              " 'Sherlock',\n",
              " \"Grey's Anatomy\"]"
            ]
          },
          "metadata": {
            "tags": []
          },
          "execution_count": 36
        }
      ]
    },
    {
      "cell_type": "code",
      "metadata": {
        "colab": {
          "base_uri": "https://localhost:8080/"
        },
        "id": "IxNo8a40oPj-",
        "outputId": "147ec150-e27b-4b20-e4a4-2e0111769df9"
      },
      "source": [
        "# return sorted list in reverse alphabetical order\r\n",
        "print(sorted(tv_show_list,reverse=True))"
      ],
      "execution_count": null,
      "outputs": [
        {
          "output_type": "stream",
          "text": [
            "['Young Sheldon', 'The Good Doctor', 'The Big Bang Theory', 'Sherlock', \"Grey's Anatomy\"]\n"
          ],
          "name": "stdout"
        }
      ]
    },
    {
      "cell_type": "markdown",
      "metadata": {
        "id": "5bAjuNNQ_XGt"
      },
      "source": [
        "**.sort()**"
      ]
    },
    {
      "cell_type": "code",
      "metadata": {
        "id": "NemfGku1oWJq"
      },
      "source": [
        "# reoder the list \r\n",
        "tv_show_list.sort()"
      ],
      "execution_count": null,
      "outputs": []
    },
    {
      "cell_type": "code",
      "metadata": {
        "colab": {
          "base_uri": "https://localhost:8080/"
        },
        "id": "DcNyazDno0_L",
        "outputId": "599fee74-e726-4abf-e407-db2ef65064aa"
      },
      "source": [
        "# the order changed in tv_show_list\r\n",
        "print(tv_show_list)"
      ],
      "execution_count": null,
      "outputs": [
        {
          "output_type": "stream",
          "text": [
            "[\"Grey's Anatomy\", 'Sherlock', 'The Big Bang Theory', 'The Good Doctor', 'Young Sheldon']\n"
          ],
          "name": "stdout"
        }
      ]
    },
    {
      "cell_type": "markdown",
      "metadata": {
        "id": "QrwxQATF_l2C"
      },
      "source": [
        "6. Create a message indicating how many favorite TV shows you have – use the len() function."
      ]
    },
    {
      "cell_type": "code",
      "metadata": {
        "colab": {
          "base_uri": "https://localhost:8080/"
        },
        "id": "4GpCp33X_rXB",
        "outputId": "1ee44b12-76f1-4553-f113-990c4311c497"
      },
      "source": [
        "len(tv_show_list)"
      ],
      "execution_count": null,
      "outputs": [
        {
          "output_type": "execute_result",
          "data": {
            "text/plain": [
              "5"
            ]
          },
          "metadata": {
            "tags": []
          },
          "execution_count": 44
        }
      ]
    },
    {
      "cell_type": "markdown",
      "metadata": {
        "id": "dVarL3vrAaJi"
      },
      "source": [
        "## Lesson 4"
      ]
    },
    {
      "cell_type": "markdown",
      "metadata": {
        "id": "M7oLK9-mAjp9"
      },
      "source": [
        "1. Create a list that holds 5 data variables. "
      ]
    },
    {
      "cell_type": "code",
      "metadata": {
        "id": "uVvP0islAcHE"
      },
      "source": [
        "v1 = \"first value\"\r\n",
        "v2 = \"3\"\r\n",
        "v3 = \"3.6\"\r\n",
        "v4 = \"True\"\r\n",
        "v5 = \"False\"\r\n",
        "my_list = [v1,v2,v3,v4,v5]"
      ],
      "execution_count": null,
      "outputs": []
    },
    {
      "cell_type": "code",
      "metadata": {
        "colab": {
          "base_uri": "https://localhost:8080/"
        },
        "id": "ZLmN5_sBBGFP",
        "outputId": "0495b96b-2c54-4355-a6d5-9e4d342d8c74"
      },
      "source": [
        "my_list"
      ],
      "execution_count": null,
      "outputs": [
        {
          "output_type": "execute_result",
          "data": {
            "text/plain": [
              "['first value', '3', '3.6', 'True', 'False']"
            ]
          },
          "metadata": {
            "tags": []
          },
          "execution_count": 58
        }
      ]
    },
    {
      "cell_type": "markdown",
      "metadata": {
        "id": "sFNx8dDQBaR5"
      },
      "source": [
        "2. Print out those variables by using a for loop."
      ]
    },
    {
      "cell_type": "code",
      "metadata": {
        "colab": {
          "base_uri": "https://localhost:8080/"
        },
        "id": "qbEBxzhOBIEd",
        "outputId": "3a98ef66-04b0-4705-a505-519ca29ca7af"
      },
      "source": [
        "for i in range(0,len(my_list)):\r\n",
        "  print(my_list[i])"
      ],
      "execution_count": null,
      "outputs": [
        {
          "output_type": "stream",
          "text": [
            "first value\n",
            "3\n",
            "3.6\n",
            "True\n",
            "False\n"
          ],
          "name": "stdout"
        }
      ]
    },
    {
      "cell_type": "markdown",
      "metadata": {
        "id": "rHTcX-YQBeLA"
      },
      "source": [
        "3. Modify your for loop to add a message to your for loop."
      ]
    },
    {
      "cell_type": "code",
      "metadata": {
        "colab": {
          "base_uri": "https://localhost:8080/"
        },
        "id": "9lKqB9HpBUI2",
        "outputId": "c8e62aea-c273-458d-b31d-523664b31332"
      },
      "source": [
        "for i in range(0,len(my_list)):\r\n",
        "  print(\"At index \"+str(i)+\", we have \"+str(my_list[i]))"
      ],
      "execution_count": null,
      "outputs": [
        {
          "output_type": "stream",
          "text": [
            "At index 0, we have first value\n",
            "At index 1, we have 3\n",
            "At index 2, we have 3.6\n",
            "At index 3, we have True\n",
            "At index 4, we have False\n"
          ],
          "name": "stdout"
        }
      ]
    },
    {
      "cell_type": "markdown",
      "metadata": {
        "id": "iPJDqO6UCFW5"
      },
      "source": [
        "4. Use a for loop to print even numbers from 1-20."
      ]
    },
    {
      "cell_type": "markdown",
      "metadata": {
        "id": "zkXtAr-cCaPa"
      },
      "source": [
        "Method 1: using for loop and if statement"
      ]
    },
    {
      "cell_type": "code",
      "metadata": {
        "colab": {
          "base_uri": "https://localhost:8080/"
        },
        "id": "wXgEfslZB1hF",
        "outputId": "2de28122-4ad3-4005-a744-bd5b9048c565"
      },
      "source": [
        "for i in range(1,21):\r\n",
        "  if i%2==0:\r\n",
        "    print(i)"
      ],
      "execution_count": null,
      "outputs": [
        {
          "output_type": "stream",
          "text": [
            "2\n",
            "4\n",
            "6\n",
            "8\n",
            "10\n",
            "12\n",
            "14\n",
            "16\n",
            "18\n",
            "20\n"
          ],
          "name": "stdout"
        }
      ]
    },
    {
      "cell_type": "markdown",
      "metadata": {
        "id": "wyy8F91iCfGx"
      },
      "source": [
        "Method 2: multiples of 2 are even number."
      ]
    },
    {
      "cell_type": "code",
      "metadata": {
        "colab": {
          "base_uri": "https://localhost:8080/"
        },
        "id": "wh0_Ag4VCYHy",
        "outputId": "4f6d040b-2da0-47c4-884f-7a1d1daf0885"
      },
      "source": [
        "for i in range(1,11):\r\n",
        "  print(i*2)"
      ],
      "execution_count": null,
      "outputs": [
        {
          "output_type": "stream",
          "text": [
            "2\n",
            "4\n",
            "6\n",
            "8\n",
            "10\n",
            "12\n",
            "14\n",
            "16\n",
            "18\n",
            "20\n"
          ],
          "name": "stdout"
        }
      ]
    },
    {
      "cell_type": "markdown",
      "metadata": {
        "id": "8CxIAc3eC4Gj"
      },
      "source": [
        "Method 3: list comprehension"
      ]
    },
    {
      "cell_type": "code",
      "metadata": {
        "colab": {
          "base_uri": "https://localhost:8080/"
        },
        "id": "4oIQ5Dw0C3Q3",
        "outputId": "30eb9fde-7580-4a8f-b364-77e9b524fa80"
      },
      "source": [
        "[i for i in range(1,21) if i%2==0]"
      ],
      "execution_count": null,
      "outputs": [
        {
          "output_type": "execute_result",
          "data": {
            "text/plain": [
              "[2, 4, 6, 8, 10, 12, 14, 16, 18, 20]"
            ]
          },
          "metadata": {
            "tags": []
          },
          "execution_count": 55
        }
      ]
    },
    {
      "cell_type": "markdown",
      "metadata": {
        "id": "qiJdiezhDPFw"
      },
      "source": [
        "5. Sort your list in alphabetic order."
      ]
    },
    {
      "cell_type": "code",
      "metadata": {
        "colab": {
          "base_uri": "https://localhost:8080/"
        },
        "id": "uuc1AVlWCtFY",
        "outputId": "57e3d3a3-073e-4743-dad9-34a5946f4a68"
      },
      "source": [
        "sorted(my_list)"
      ],
      "execution_count": null,
      "outputs": [
        {
          "output_type": "execute_result",
          "data": {
            "text/plain": [
              "['3', '3.6', 'False', 'True', 'first value']"
            ]
          },
          "metadata": {
            "tags": []
          },
          "execution_count": 61
        }
      ]
    },
    {
      "cell_type": "markdown",
      "metadata": {
        "id": "Ghm2uosEEVrs"
      },
      "source": [
        "6. Print out the first three elements of your list."
      ]
    },
    {
      "cell_type": "code",
      "metadata": {
        "colab": {
          "base_uri": "https://localhost:8080/"
        },
        "id": "ewetUdfGEUzz",
        "outputId": "6532d543-d711-4619-a95b-b559575176b8"
      },
      "source": [
        "my_list[0:3]"
      ],
      "execution_count": null,
      "outputs": [
        {
          "output_type": "execute_result",
          "data": {
            "text/plain": [
              "['first value', '3', '3.6']"
            ]
          },
          "metadata": {
            "tags": []
          },
          "execution_count": 63
        }
      ]
    },
    {
      "cell_type": "markdown",
      "metadata": {
        "id": "F7c1QvCjEf4m"
      },
      "source": [
        "7. Create a loop to print the last 2 elements of your list."
      ]
    },
    {
      "cell_type": "code",
      "metadata": {
        "colab": {
          "base_uri": "https://localhost:8080/"
        },
        "id": "34yyVs90D-gK",
        "outputId": "414a8782-7b78-4612-aafd-72f8c558f005"
      },
      "source": [
        "my_list"
      ],
      "execution_count": null,
      "outputs": [
        {
          "output_type": "execute_result",
          "data": {
            "text/plain": [
              "['first value', '3', '3.6', 'True', 'False']"
            ]
          },
          "metadata": {
            "tags": []
          },
          "execution_count": 75
        }
      ]
    },
    {
      "cell_type": "markdown",
      "metadata": {
        "id": "FjlGHGMVFkOn"
      },
      "source": [
        "Method 1: using index"
      ]
    },
    {
      "cell_type": "code",
      "metadata": {
        "colab": {
          "base_uri": "https://localhost:8080/"
        },
        "id": "o6SZfdZbEoPL",
        "outputId": "44c5211f-6f60-46a2-ff7a-96104b42f314"
      },
      "source": [
        "my_list[3:5]"
      ],
      "execution_count": null,
      "outputs": [
        {
          "output_type": "execute_result",
          "data": {
            "text/plain": [
              "['True', 'False']"
            ]
          },
          "metadata": {
            "tags": []
          },
          "execution_count": 86
        }
      ]
    },
    {
      "cell_type": "markdown",
      "metadata": {
        "id": "dWrnf9VmFo6d"
      },
      "source": [
        "Method 2: using a loop"
      ]
    },
    {
      "cell_type": "code",
      "metadata": {
        "colab": {
          "base_uri": "https://localhost:8080/"
        },
        "id": "YYOXUObME-q1",
        "outputId": "7312e372-2253-40c6-b112-1f2130d557ce"
      },
      "source": [
        "for i in range(3,5):\r\n",
        "  print(my_list[i])"
      ],
      "execution_count": null,
      "outputs": [
        {
          "output_type": "stream",
          "text": [
            "True\n",
            "False\n"
          ],
          "name": "stdout"
        }
      ]
    },
    {
      "cell_type": "markdown",
      "metadata": {
        "id": "i33I3IjdGwcX"
      },
      "source": [
        "## Lesson 5\r\n",
        "\r\n",
        "1. Make a list of 5 or more usernames, including an admin account. Imagine you are writing code that will welcome people to your application on login. Loop through the list and print your greeting.\r\n",
        "\r\n",
        "* If the admin account logs in, give them a special greeting.  They’re the admin, after all!\r\n",
        "* Other users can get the generic greeting\r\n"
      ]
    },
    {
      "cell_type": "code",
      "metadata": {
        "colab": {
          "base_uri": "https://localhost:8080/"
        },
        "id": "uax1MkF2FwCt",
        "outputId": "6af07770-9313-4d5b-9598-a285c2de9eb2"
      },
      "source": [
        "users = [\"Emma\", \"John\", \"Emily\", \"Jake\", \"Zack\",\"admin\"]\r\n",
        "for i in range(0,len(users)):\r\n",
        "  if users[i]==\"admin\":\r\n",
        "    print(\"Welcome admin\")\r\n",
        "  else:\r\n",
        "    print(\"Hello!\"+users[i])\r\n"
      ],
      "execution_count": 1,
      "outputs": [
        {
          "output_type": "stream",
          "text": [
            "Hello!Emma\n",
            "Hello!John\n",
            "Hello!Emily\n",
            "Hello!Jake\n",
            "Hello!Zack\n",
            "Welcome admin\n"
          ],
          "name": "stdout"
        }
      ]
    },
    {
      "cell_type": "markdown",
      "metadata": {
        "id": "w8rfe282JBbh"
      },
      "source": [
        "2. Store numbers 1-10 in a list\r\n",
        "\r\n",
        "* Loop through the list\r\n",
        "* Use an if-elif-else chain inside your loop to print the ordinal ending for each number – for example – 1st, 2nd, 3rd … etc.\r\n"
      ]
    },
    {
      "cell_type": "code",
      "metadata": {
        "id": "uS1gFfGEIpQV"
      },
      "source": [
        "number_list =list(range(1, 11))"
      ],
      "execution_count": 2,
      "outputs": []
    },
    {
      "cell_type": "code",
      "metadata": {
        "colab": {
          "base_uri": "https://localhost:8080/"
        },
        "id": "XLi2Wf60JVk2",
        "outputId": "90bcf368-52f4-4b91-fff4-143890263ee0"
      },
      "source": [
        "number_list"
      ],
      "execution_count": 3,
      "outputs": [
        {
          "output_type": "execute_result",
          "data": {
            "text/plain": [
              "[1, 2, 3, 4, 5, 6, 7, 8, 9, 10]"
            ]
          },
          "metadata": {
            "tags": []
          },
          "execution_count": 3
        }
      ]
    },
    {
      "cell_type": "code",
      "metadata": {
        "colab": {
          "base_uri": "https://localhost:8080/"
        },
        "id": "aaHn4_HKJXgl",
        "outputId": "eada0dc0-686f-455a-b3ac-bcf596c7ce75"
      },
      "source": [
        "for i in range(0,len(number_list)):\r\n",
        "  if number_list[i]==1:\r\n",
        "    print(str(number_list[i])+\"st\")\r\n",
        "  elif number_list[i]==2:\r\n",
        "    print(str(number_list[i])+\"nd\")\r\n",
        "  elif number_list[i]==3:\r\n",
        "    print(str(number_list[i])+\"rd\")\r\n",
        "  else:\r\n",
        "    print(str(number_list[i])+\"th\")"
      ],
      "execution_count": 4,
      "outputs": [
        {
          "output_type": "stream",
          "text": [
            "1st\n",
            "2nd\n",
            "3rd\n",
            "4th\n",
            "5th\n",
            "6th\n",
            "7th\n",
            "8th\n",
            "9th\n",
            "10th\n"
          ],
          "name": "stdout"
        }
      ]
    },
    {
      "cell_type": "markdown",
      "metadata": {
        "id": "fGgcv54AUHaE"
      },
      "source": [
        "## Lesson 6  Python Dictionaries \r\n",
        "\r\n"
      ]
    },
    {
      "cell_type": "markdown",
      "metadata": {
        "id": "rpeygwpcUrNU"
      },
      "source": [
        "1. Create a simple dictionary that stores 2 variables, for example: first and last name."
      ]
    },
    {
      "cell_type": "code",
      "metadata": {
        "id": "TzeqaB16LbVK"
      },
      "source": [
        "dic = {\"first name\": \"Xiaona\", \"last name\": \"Zhou\"}"
      ],
      "execution_count": 5,
      "outputs": []
    },
    {
      "cell_type": "code",
      "metadata": {
        "colab": {
          "base_uri": "https://localhost:8080/"
        },
        "id": "sbegrSmzU2Yr",
        "outputId": "18380392-7bd2-473e-e221-b95a5d417c2f"
      },
      "source": [
        "dic"
      ],
      "execution_count": 6,
      "outputs": [
        {
          "output_type": "execute_result",
          "data": {
            "text/plain": [
              "{'first name': 'Xiaona', 'last name': 'Zhou'}"
            ]
          },
          "metadata": {
            "tags": []
          },
          "execution_count": 6
        }
      ]
    },
    {
      "cell_type": "markdown",
      "metadata": {
        "id": "HXQwmDwcU718"
      },
      "source": [
        "2. Print out those variables stored in your previous dictionary. \r\n",
        "\r\n",
        "For dictionary type, \r\n",
        "* to access the keys, use dic_name.keys(),\r\n",
        "* to access the values, use dic_name.values(),\r\n",
        "* to access the items, use dic_name.items()\r\n",
        "\r\n"
      ]
    },
    {
      "cell_type": "code",
      "metadata": {
        "colab": {
          "base_uri": "https://localhost:8080/"
        },
        "id": "6L5wtXTiU28w",
        "outputId": "6ce33786-b5c6-4583-9c56-0e29f26b54c3"
      },
      "source": [
        "print(dic.keys())"
      ],
      "execution_count": 15,
      "outputs": [
        {
          "output_type": "stream",
          "text": [
            "dict_keys(['first name', 'last name'])\n"
          ],
          "name": "stdout"
        }
      ]
    },
    {
      "cell_type": "code",
      "metadata": {
        "colab": {
          "base_uri": "https://localhost:8080/"
        },
        "id": "K-AATxbTWv48",
        "outputId": "829ebcd6-e1dd-4014-bacc-c69d1ef0e1db"
      },
      "source": [
        "print(dic.values())"
      ],
      "execution_count": 16,
      "outputs": [
        {
          "output_type": "stream",
          "text": [
            "dict_values(['Xiaona', 'Zhou'])\n"
          ],
          "name": "stdout"
        }
      ]
    },
    {
      "cell_type": "code",
      "metadata": {
        "colab": {
          "base_uri": "https://localhost:8080/"
        },
        "id": "6ClBSdUlVd9k",
        "outputId": "32251f5c-68a0-4aa5-aec0-3abe51d8ae9d"
      },
      "source": [
        "print(dic.items())"
      ],
      "execution_count": 17,
      "outputs": [
        {
          "output_type": "stream",
          "text": [
            "dict_items([('first name', 'Xiaona'), ('last name', 'Zhou')])\n"
          ],
          "name": "stdout"
        }
      ]
    },
    {
      "cell_type": "code",
      "metadata": {
        "colab": {
          "base_uri": "https://localhost:8080/"
        },
        "id": "9_UchbeYZLTU",
        "outputId": "42f4241a-bccf-452d-d15b-c60005ed8fe9"
      },
      "source": [
        "for x in dic.values():\r\n",
        "  print(x)"
      ],
      "execution_count": 30,
      "outputs": [
        {
          "output_type": "stream",
          "text": [
            "Xiaona\n",
            "Zhou\n"
          ],
          "name": "stdout"
        }
      ]
    },
    {
      "cell_type": "code",
      "metadata": {
        "colab": {
          "base_uri": "https://localhost:8080/"
        },
        "id": "GvGodoyUZOOo",
        "outputId": "204b9278-9108-45d0-a6a2-94797acf36d6"
      },
      "source": [
        "for x in dic.keys():\r\n",
        "  print(x)"
      ],
      "execution_count": 32,
      "outputs": [
        {
          "output_type": "stream",
          "text": [
            "first name\n",
            "last name\n"
          ],
          "name": "stdout"
        }
      ]
    },
    {
      "cell_type": "code",
      "metadata": {
        "colab": {
          "base_uri": "https://localhost:8080/"
        },
        "id": "-jdNrEz5ZWxU",
        "outputId": "1f42f8eb-ad1e-4e07-a7e9-ee47b4b211ae"
      },
      "source": [
        "for x, y in dic.items():\r\n",
        "  print(x,y)"
      ],
      "execution_count": 33,
      "outputs": [
        {
          "output_type": "stream",
          "text": [
            "first name Xiaona\n",
            "last name Zhou\n"
          ],
          "name": "stdout"
        }
      ]
    },
    {
      "cell_type": "code",
      "metadata": {
        "colab": {
          "base_uri": "https://localhost:8080/",
          "height": 35
        },
        "id": "YrsUi6XSW-dc",
        "outputId": "b9b93ed6-d176-47ec-b748-0e3183e9fa7d"
      },
      "source": [
        "dic['first name']"
      ],
      "execution_count": 18,
      "outputs": [
        {
          "output_type": "execute_result",
          "data": {
            "application/vnd.google.colaboratory.intrinsic+json": {
              "type": "string"
            },
            "text/plain": [
              "'Xiaona'"
            ]
          },
          "metadata": {
            "tags": []
          },
          "execution_count": 18
        }
      ]
    },
    {
      "cell_type": "code",
      "metadata": {
        "colab": {
          "base_uri": "https://localhost:8080/",
          "height": 35
        },
        "id": "9mykupVsXAY7",
        "outputId": "11243fda-c40a-4526-c73c-e38e137006cb"
      },
      "source": [
        "dic['last name']"
      ],
      "execution_count": 19,
      "outputs": [
        {
          "output_type": "execute_result",
          "data": {
            "application/vnd.google.colaboratory.intrinsic+json": {
              "type": "string"
            },
            "text/plain": [
              "'Zhou'"
            ]
          },
          "metadata": {
            "tags": []
          },
          "execution_count": 19
        }
      ]
    },
    {
      "cell_type": "markdown",
      "metadata": {
        "id": "6h09tZ91W6TO"
      },
      "source": [
        "3. Add a message to those variables on printing: for example: “Hello, firstname lastname!”"
      ]
    },
    {
      "cell_type": "code",
      "metadata": {
        "colab": {
          "base_uri": "https://localhost:8080/"
        },
        "id": "WBfcGyrzWIkL",
        "outputId": "b5fc3957-f3aa-45b6-e7e2-d81371d8c755"
      },
      "source": [
        "print(\"Hello, \"+dic['first name']+' ' +dic['last name'] +'!')"
      ],
      "execution_count": 22,
      "outputs": [
        {
          "output_type": "stream",
          "text": [
            "Hello, Xiaona Zhou!\n"
          ],
          "name": "stdout"
        }
      ]
    },
    {
      "cell_type": "markdown",
      "metadata": {
        "id": "VxrnvmEfXdwi"
      },
      "source": [
        "4. Create a dictionary that holds 2 key: value pairs:\r\n",
        "Look through your dictionary and print each pair,\r\n"
      ]
    },
    {
      "cell_type": "code",
      "metadata": {
        "id": "kCzTmUN7XKJU"
      },
      "source": [
        "dic2 = {\"first key\": 1, \"second key\": 2}"
      ],
      "execution_count": 23,
      "outputs": []
    },
    {
      "cell_type": "code",
      "metadata": {
        "colab": {
          "base_uri": "https://localhost:8080/"
        },
        "id": "xdN6BRXwX7Y4",
        "outputId": "a9c415b3-bc63-4d1f-cb9e-1e3b778916c9"
      },
      "source": [
        "for x, y in dic2.items():\r\n",
        "  print(x, y)"
      ],
      "execution_count": 29,
      "outputs": [
        {
          "output_type": "stream",
          "text": [
            "first key 1\n",
            "second key 2\n"
          ],
          "name": "stdout"
        }
      ]
    },
    {
      "cell_type": "markdown",
      "metadata": {
        "id": "c4mBKdLkYNpP"
      },
      "source": [
        "5. Create a nested dictionary containing three dictionaries – these dictionaries could be anything (favorite pets, travel locations, etc.)\r\n",
        "* Loop through the dictionaries and print a message for each.\r\n"
      ]
    },
    {
      "cell_type": "code",
      "metadata": {
        "id": "mv8TR6mWYA0D"
      },
      "source": [
        "dic_nested = {\"favorite food\": {\"name\":\"apple\",\"reason\":\"sweet\"}, \"favorite place\": {\"name\": \"Xizang\", \"reason\":\"beautiful\"}}"
      ],
      "execution_count": 34,
      "outputs": []
    },
    {
      "cell_type": "code",
      "metadata": {
        "colab": {
          "base_uri": "https://localhost:8080/"
        },
        "id": "Lny1FA-KYBPC",
        "outputId": "4e98279e-a6e5-4d76-d6d1-d977326b7f57"
      },
      "source": [
        "dic_nested.keys()"
      ],
      "execution_count": 35,
      "outputs": [
        {
          "output_type": "execute_result",
          "data": {
            "text/plain": [
              "dict_keys(['favorite food', 'favorite place'])"
            ]
          },
          "metadata": {
            "tags": []
          },
          "execution_count": 35
        }
      ]
    },
    {
      "cell_type": "code",
      "metadata": {
        "colab": {
          "base_uri": "https://localhost:8080/"
        },
        "id": "thFjSaF_a60J",
        "outputId": "f8aa92f6-4dbc-4f8b-82f6-9ef2aa8cba52"
      },
      "source": [
        "for x in dic_nested.keys():\r\n",
        "  print(\"My \"+ x + \" is \"+ str(dic_nested[x]['name'])+ \" because it is \"+str(dic_nested[x]['reason'])+'!')"
      ],
      "execution_count": 48,
      "outputs": [
        {
          "output_type": "stream",
          "text": [
            "My favorite food is apple because it is sweet!\n",
            "My favorite place is Xizang because it is beautiful!\n"
          ],
          "name": "stdout"
        }
      ]
    },
    {
      "cell_type": "code",
      "metadata": {
        "id": "gZJ8-3ufa_Aa"
      },
      "source": [
        ""
      ],
      "execution_count": null,
      "outputs": []
    }
  ]
}