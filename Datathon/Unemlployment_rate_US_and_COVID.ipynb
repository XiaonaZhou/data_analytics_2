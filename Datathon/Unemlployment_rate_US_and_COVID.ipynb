{
  "nbformat": 4,
  "nbformat_minor": 0,
  "metadata": {
    "colab": {
      "name": "Unemlployment_rate_US_and_COVID.ipynb",
      "provenance": [],
      "collapsed_sections": [],
      "toc_visible": true,
      "include_colab_link": true
    },
    "kernelspec": {
      "name": "python3",
      "display_name": "Python 3"
    }
  },
  "cells": [
    {
      "cell_type": "markdown",
      "metadata": {
        "id": "view-in-github",
        "colab_type": "text"
      },
      "source": [
        "<a href=\"https://colab.research.google.com/github/XiaonaZhou/data_analytics_2/blob/main/Datathon/Unemlployment_rate_US_and_COVID.ipynb\" target=\"_parent\"><img src=\"https://colab.research.google.com/assets/colab-badge.svg\" alt=\"Open In Colab\"/></a>"
      ]
    },
    {
      "cell_type": "markdown",
      "metadata": {
        "id": "Rbuz5lYnGZTF"
      },
      "source": [
        "# Unemployment rate and COVID 19"
      ]
    },
    {
      "cell_type": "markdown",
      "metadata": {
        "id": "W1RTVBkvGhdL"
      },
      "source": [
        "# Overview\r\n",
        "\r\n",
        "In this project, we look into the unemployment rate and COVID 19. We investigate whether there is a relationship between the two. \r\n",
        "\r\n",
        "This notebook contains the following parts:\r\n",
        "\r\n",
        "1. import unemployment dataset and fill in NA values \r\n",
        "\r\n",
        "2. plot unemployment rate for all states\r\n",
        "\r\n",
        "3. import COVID dataset\r\n",
        "\r\n",
        "4. compute new cases and new deaths, group by month\r\n",
        "\r\n",
        "5. join unemployment rate and COVID dataset\r\n",
        "\r\n",
        "6. output CSV file to use in Tableau "
      ]
    },
    {
      "cell_type": "markdown",
      "metadata": {
        "id": "Iv0iPDYqHBvm"
      },
      "source": [
        "# Unemployment rate dataset "
      ]
    },
    {
      "cell_type": "markdown",
      "metadata": {
        "id": "Xy_lCQuqHF90"
      },
      "source": [
        "## Import data and handling NA values\r\n",
        "\r\n",
        "- How I handled the missing values? \r\n",
        "\r\n",
        "1. Since we don't have any values for October, November, and December, I simply drop those months.\r\n",
        "\r\n",
        "2. There are 7 missing values for Puerto Rico. It's not wise to use the mean of all states to fill in NA values, so I sort the data by unemployment rate in January and take the 10 states that have unemployment rates close to Puerto Rico, and use the mean of these unemployment rates to fill in NA values."
      ]
    },
    {
      "cell_type": "code",
      "metadata": {
        "id": "3i1H9i3K2BcS"
      },
      "source": [
        "import pandas as pd"
      ],
      "execution_count": null,
      "outputs": []
    },
    {
      "cell_type": "code",
      "metadata": {
        "id": "kv6fP3iu2GsG"
      },
      "source": [
        "state_unemp_df = pd.read_csv('https://raw.githubusercontent.com/niteen11/cuny_lagcc_micro_credential_data_analytics/main/Track%20A/hackathon/data/state_unemployment_data_1.csv')"
      ],
      "execution_count": null,
      "outputs": []
    },
    {
      "cell_type": "code",
      "metadata": {
        "colab": {
          "base_uri": "https://localhost:8080/",
          "height": 202
        },
        "id": "AI_0VQPp2U3H",
        "outputId": "97d207d5-5154-44e6-d52e-c7e06ad858cd"
      },
      "source": [
        "state_unemp_df.head()"
      ],
      "execution_count": null,
      "outputs": [
        {
          "output_type": "execute_result",
          "data": {
            "text/html": [
              "<div>\n",
              "<style scoped>\n",
              "    .dataframe tbody tr th:only-of-type {\n",
              "        vertical-align: middle;\n",
              "    }\n",
              "\n",
              "    .dataframe tbody tr th {\n",
              "        vertical-align: top;\n",
              "    }\n",
              "\n",
              "    .dataframe thead th {\n",
              "        text-align: right;\n",
              "    }\n",
              "</style>\n",
              "<table border=\"1\" class=\"dataframe\">\n",
              "  <thead>\n",
              "    <tr style=\"text-align: right;\">\n",
              "      <th></th>\n",
              "      <th>State</th>\n",
              "      <th>Jan</th>\n",
              "      <th>Feb</th>\n",
              "      <th>March</th>\n",
              "      <th>April</th>\n",
              "      <th>May</th>\n",
              "      <th>June</th>\n",
              "      <th>July</th>\n",
              "      <th>Aug</th>\n",
              "      <th>Sept</th>\n",
              "      <th>Oct</th>\n",
              "      <th>Nov</th>\n",
              "      <th>Dec</th>\n",
              "    </tr>\n",
              "  </thead>\n",
              "  <tbody>\n",
              "    <tr>\n",
              "      <th>0</th>\n",
              "      <td>Alabama</td>\n",
              "      <td>2.7</td>\n",
              "      <td>2.7</td>\n",
              "      <td>3.5</td>\n",
              "      <td>12.9</td>\n",
              "      <td>9.6</td>\n",
              "      <td>7.5</td>\n",
              "      <td>7.9</td>\n",
              "      <td>5.6</td>\n",
              "      <td>6.6</td>\n",
              "      <td>NaN</td>\n",
              "      <td>NaN</td>\n",
              "      <td>NaN</td>\n",
              "    </tr>\n",
              "    <tr>\n",
              "      <th>1</th>\n",
              "      <td>Alaska</td>\n",
              "      <td>6.0</td>\n",
              "      <td>5.8</td>\n",
              "      <td>5.6</td>\n",
              "      <td>12.9</td>\n",
              "      <td>12.7</td>\n",
              "      <td>12.4</td>\n",
              "      <td>11.6</td>\n",
              "      <td>7.4</td>\n",
              "      <td>7.2</td>\n",
              "      <td>NaN</td>\n",
              "      <td>NaN</td>\n",
              "      <td>NaN</td>\n",
              "    </tr>\n",
              "    <tr>\n",
              "      <th>2</th>\n",
              "      <td>Arizona</td>\n",
              "      <td>4.5</td>\n",
              "      <td>4.5</td>\n",
              "      <td>5.5</td>\n",
              "      <td>12.6</td>\n",
              "      <td>9.0</td>\n",
              "      <td>10.0</td>\n",
              "      <td>10.6</td>\n",
              "      <td>5.9</td>\n",
              "      <td>6.7</td>\n",
              "      <td>NaN</td>\n",
              "      <td>NaN</td>\n",
              "      <td>NaN</td>\n",
              "    </tr>\n",
              "    <tr>\n",
              "      <th>3</th>\n",
              "      <td>Arkansas</td>\n",
              "      <td>3.5</td>\n",
              "      <td>3.9</td>\n",
              "      <td>4.8</td>\n",
              "      <td>10.2</td>\n",
              "      <td>9.6</td>\n",
              "      <td>8.0</td>\n",
              "      <td>7.1</td>\n",
              "      <td>7.4</td>\n",
              "      <td>7.3</td>\n",
              "      <td>NaN</td>\n",
              "      <td>NaN</td>\n",
              "      <td>NaN</td>\n",
              "    </tr>\n",
              "    <tr>\n",
              "      <th>4</th>\n",
              "      <td>California</td>\n",
              "      <td>3.9</td>\n",
              "      <td>2.5</td>\n",
              "      <td>5.3</td>\n",
              "      <td>15.5</td>\n",
              "      <td>16.4</td>\n",
              "      <td>14.9</td>\n",
              "      <td>13.3</td>\n",
              "      <td>11.4</td>\n",
              "      <td>11.0</td>\n",
              "      <td>NaN</td>\n",
              "      <td>NaN</td>\n",
              "      <td>NaN</td>\n",
              "    </tr>\n",
              "  </tbody>\n",
              "</table>\n",
              "</div>"
            ],
            "text/plain": [
              "        State  Jan  Feb  March  April   May  ...  July   Aug  Sept  Oct  Nov  Dec\n",
              "0     Alabama  2.7  2.7    3.5   12.9   9.6  ...   7.9   5.6   6.6  NaN  NaN  NaN\n",
              "1      Alaska  6.0  5.8    5.6   12.9  12.7  ...  11.6   7.4   7.2  NaN  NaN  NaN\n",
              "2     Arizona  4.5  4.5    5.5   12.6   9.0  ...  10.6   5.9   6.7  NaN  NaN  NaN\n",
              "3    Arkansas  3.5  3.9    4.8   10.2   9.6  ...   7.1   7.4   7.3  NaN  NaN  NaN\n",
              "4  California  3.9  2.5    5.3   15.5  16.4  ...  13.3  11.4  11.0  NaN  NaN  NaN\n",
              "\n",
              "[5 rows x 13 columns]"
            ]
          },
          "metadata": {
            "tags": []
          },
          "execution_count": 542
        }
      ]
    },
    {
      "cell_type": "code",
      "metadata": {
        "colab": {
          "base_uri": "https://localhost:8080/"
        },
        "id": "6bXE2zn9hEhO",
        "outputId": "f1864f3c-ee7a-4da1-f55c-01f3ab54558f"
      },
      "source": [
        "state_unemp_df.shape"
      ],
      "execution_count": null,
      "outputs": [
        {
          "output_type": "execute_result",
          "data": {
            "text/plain": [
              "(52, 13)"
            ]
          },
          "metadata": {
            "tags": []
          },
          "execution_count": 543
        }
      ]
    },
    {
      "cell_type": "markdown",
      "metadata": {
        "id": "eeIUofLCc0GI"
      },
      "source": [
        "Checking NA values"
      ]
    },
    {
      "cell_type": "code",
      "metadata": {
        "colab": {
          "base_uri": "https://localhost:8080/"
        },
        "id": "PxBxe__h7CEg",
        "outputId": "32842da5-57f6-4cbb-ca4f-e621e6c6c62a"
      },
      "source": [
        "state_unemp_df.isna().sum()"
      ],
      "execution_count": null,
      "outputs": [
        {
          "output_type": "execute_result",
          "data": {
            "text/plain": [
              "State     0\n",
              "Jan       0\n",
              "Feb       0\n",
              "March     1\n",
              "April     1\n",
              "May       1\n",
              "June      1\n",
              "July      1\n",
              "Aug       1\n",
              "Sept      1\n",
              "Oct      52\n",
              "Nov      52\n",
              "Dec      52\n",
              "dtype: int64"
            ]
          },
          "metadata": {
            "tags": []
          },
          "execution_count": 544
        }
      ]
    },
    {
      "cell_type": "markdown",
      "metadata": {
        "id": "161i8LQ57RqC"
      },
      "source": [
        "Since we don't have any values for October, November, and December, we would drop those months. \r\n"
      ]
    },
    {
      "cell_type": "code",
      "metadata": {
        "id": "VqPCFUwd7h0I"
      },
      "source": [
        "state_unemp_df.drop(['Oct','Nov','Dec'],  axis=1,inplace=True)"
      ],
      "execution_count": null,
      "outputs": []
    },
    {
      "cell_type": "code",
      "metadata": {
        "colab": {
          "base_uri": "https://localhost:8080/"
        },
        "id": "bDVVBAuy4uuw",
        "outputId": "daf1e149-03d0-4857-d1af-c803684d2161"
      },
      "source": [
        "state_unemp_df.columns"
      ],
      "execution_count": null,
      "outputs": [
        {
          "output_type": "execute_result",
          "data": {
            "text/plain": [
              "Index(['State', 'Jan', 'Feb', 'March', 'April', 'May', 'June', 'July', 'Aug',\n",
              "       'Sept'],\n",
              "      dtype='object')"
            ]
          },
          "metadata": {
            "tags": []
          },
          "execution_count": 546
        }
      ]
    },
    {
      "cell_type": "code",
      "metadata": {
        "id": "syMgSNHE3Un_"
      },
      "source": [
        "test_1 = state_unemp_df.set_index('State').T # make state row as header"
      ],
      "execution_count": null,
      "outputs": []
    },
    {
      "cell_type": "code",
      "metadata": {
        "colab": {
          "base_uri": "https://localhost:8080/",
          "height": 239
        },
        "id": "AaeN7PN352zT",
        "outputId": "ac42031f-ef19-4fc0-a063-4ec39fa3db78"
      },
      "source": [
        "test_1.head()"
      ],
      "execution_count": null,
      "outputs": [
        {
          "output_type": "execute_result",
          "data": {
            "text/html": [
              "<div>\n",
              "<style scoped>\n",
              "    .dataframe tbody tr th:only-of-type {\n",
              "        vertical-align: middle;\n",
              "    }\n",
              "\n",
              "    .dataframe tbody tr th {\n",
              "        vertical-align: top;\n",
              "    }\n",
              "\n",
              "    .dataframe thead th {\n",
              "        text-align: right;\n",
              "    }\n",
              "</style>\n",
              "<table border=\"1\" class=\"dataframe\">\n",
              "  <thead>\n",
              "    <tr style=\"text-align: right;\">\n",
              "      <th>State</th>\n",
              "      <th>Alabama</th>\n",
              "      <th>Alaska</th>\n",
              "      <th>Arizona</th>\n",
              "      <th>Arkansas</th>\n",
              "      <th>California</th>\n",
              "      <th>Colorado</th>\n",
              "      <th>Connecticut</th>\n",
              "      <th>Delaware</th>\n",
              "      <th>D.C.</th>\n",
              "      <th>Florida</th>\n",
              "      <th>Georgia</th>\n",
              "      <th>Hawaii</th>\n",
              "      <th>Idaho</th>\n",
              "      <th>Illinois</th>\n",
              "      <th>Indiana</th>\n",
              "      <th>Iowa</th>\n",
              "      <th>Kansas</th>\n",
              "      <th>Kentucky</th>\n",
              "      <th>Louisiana</th>\n",
              "      <th>Maine</th>\n",
              "      <th>Maryland</th>\n",
              "      <th>Massachusetts</th>\n",
              "      <th>Michigan</th>\n",
              "      <th>Minnesota</th>\n",
              "      <th>Mississippi</th>\n",
              "      <th>Missouri</th>\n",
              "      <th>Montana</th>\n",
              "      <th>Nebraska</th>\n",
              "      <th>Nevada</th>\n",
              "      <th>New Hampshire</th>\n",
              "      <th>New Jersey</th>\n",
              "      <th>New Mexico</th>\n",
              "      <th>New York</th>\n",
              "      <th>North Carolina</th>\n",
              "      <th>North Dakota</th>\n",
              "      <th>Ohio</th>\n",
              "      <th>Oklahoma</th>\n",
              "      <th>Oregon</th>\n",
              "      <th>Pennsylvania</th>\n",
              "      <th>Rhode Island</th>\n",
              "      <th>South Carolina</th>\n",
              "      <th>South Dakota</th>\n",
              "      <th>Tennessee</th>\n",
              "      <th>Texas</th>\n",
              "      <th>Utah</th>\n",
              "      <th>Vermont</th>\n",
              "      <th>Virginia</th>\n",
              "      <th>Washington</th>\n",
              "      <th>West Virginia</th>\n",
              "      <th>Wisconsin</th>\n",
              "      <th>Wyoming</th>\n",
              "      <th>Puerto Rico</th>\n",
              "    </tr>\n",
              "  </thead>\n",
              "  <tbody>\n",
              "    <tr>\n",
              "      <th>Jan</th>\n",
              "      <td>2.7</td>\n",
              "      <td>6.0</td>\n",
              "      <td>4.5</td>\n",
              "      <td>3.5</td>\n",
              "      <td>3.9</td>\n",
              "      <td>2.5</td>\n",
              "      <td>3.7</td>\n",
              "      <td>4.0</td>\n",
              "      <td>5.2</td>\n",
              "      <td>2.8</td>\n",
              "      <td>3.1</td>\n",
              "      <td>2.7</td>\n",
              "      <td>2.8</td>\n",
              "      <td>3.5</td>\n",
              "      <td>3.1</td>\n",
              "      <td>2.8</td>\n",
              "      <td>3.1</td>\n",
              "      <td>4.3</td>\n",
              "      <td>5.1</td>\n",
              "      <td>3.1</td>\n",
              "      <td>3.3</td>\n",
              "      <td>2.8</td>\n",
              "      <td>3.8</td>\n",
              "      <td>3.2</td>\n",
              "      <td>5.5</td>\n",
              "      <td>3.5</td>\n",
              "      <td>3.5</td>\n",
              "      <td>3.9</td>\n",
              "      <td>3.6</td>\n",
              "      <td>2.6</td>\n",
              "      <td>3.8</td>\n",
              "      <td>4.8</td>\n",
              "      <td>3.8</td>\n",
              "      <td>3.6</td>\n",
              "      <td>2.3</td>\n",
              "      <td>4.1</td>\n",
              "      <td>3.3</td>\n",
              "      <td>3.3</td>\n",
              "      <td>4.7</td>\n",
              "      <td>3.1</td>\n",
              "      <td>2.4</td>\n",
              "      <td>3.4</td>\n",
              "      <td>3.3</td>\n",
              "      <td>4.5</td>\n",
              "      <td>2.5</td>\n",
              "      <td>2.4</td>\n",
              "      <td>2.7</td>\n",
              "      <td>3.9</td>\n",
              "      <td>5.0</td>\n",
              "      <td>3.5</td>\n",
              "      <td>3.7</td>\n",
              "      <td>8.9</td>\n",
              "    </tr>\n",
              "    <tr>\n",
              "      <th>Feb</th>\n",
              "      <td>2.7</td>\n",
              "      <td>5.8</td>\n",
              "      <td>4.5</td>\n",
              "      <td>3.9</td>\n",
              "      <td>2.5</td>\n",
              "      <td>2.8</td>\n",
              "      <td>3.9</td>\n",
              "      <td>5.2</td>\n",
              "      <td>2.8</td>\n",
              "      <td>3.1</td>\n",
              "      <td>2.7</td>\n",
              "      <td>2.7</td>\n",
              "      <td>3.4</td>\n",
              "      <td>3.1</td>\n",
              "      <td>2.8</td>\n",
              "      <td>3.1</td>\n",
              "      <td>4.2</td>\n",
              "      <td>5.2</td>\n",
              "      <td>3.2</td>\n",
              "      <td>3.3</td>\n",
              "      <td>2.8</td>\n",
              "      <td>3.6</td>\n",
              "      <td>3.1</td>\n",
              "      <td>5.4</td>\n",
              "      <td>3.5</td>\n",
              "      <td>3.5</td>\n",
              "      <td>2.9</td>\n",
              "      <td>3.6</td>\n",
              "      <td>3.6</td>\n",
              "      <td>3.8</td>\n",
              "      <td>4.8</td>\n",
              "      <td>3.7</td>\n",
              "      <td>3.6</td>\n",
              "      <td>2.2</td>\n",
              "      <td>4.2</td>\n",
              "      <td>3.2</td>\n",
              "      <td>3.3</td>\n",
              "      <td>4.7</td>\n",
              "      <td>3.4</td>\n",
              "      <td>2.5</td>\n",
              "      <td>3.3</td>\n",
              "      <td>3.4</td>\n",
              "      <td>3.5</td>\n",
              "      <td>2.5</td>\n",
              "      <td>3.4</td>\n",
              "      <td>2.6</td>\n",
              "      <td>3.8</td>\n",
              "      <td>4.9</td>\n",
              "      <td>3.7</td>\n",
              "      <td>2.7</td>\n",
              "      <td>5.8</td>\n",
              "      <td>4.5</td>\n",
              "    </tr>\n",
              "    <tr>\n",
              "      <th>March</th>\n",
              "      <td>3.5</td>\n",
              "      <td>5.6</td>\n",
              "      <td>5.5</td>\n",
              "      <td>4.8</td>\n",
              "      <td>5.3</td>\n",
              "      <td>4.5</td>\n",
              "      <td>3.7</td>\n",
              "      <td>5.1</td>\n",
              "      <td>6.0</td>\n",
              "      <td>4.3</td>\n",
              "      <td>4.2</td>\n",
              "      <td>2.6</td>\n",
              "      <td>2.6</td>\n",
              "      <td>4.6</td>\n",
              "      <td>3.2</td>\n",
              "      <td>3.7</td>\n",
              "      <td>3.1</td>\n",
              "      <td>5.8</td>\n",
              "      <td>6.1</td>\n",
              "      <td>3.2</td>\n",
              "      <td>3.3</td>\n",
              "      <td>2.9</td>\n",
              "      <td>4.1</td>\n",
              "      <td>3.1</td>\n",
              "      <td>5.3</td>\n",
              "      <td>4.5</td>\n",
              "      <td>3.5</td>\n",
              "      <td>4.2</td>\n",
              "      <td>6.3</td>\n",
              "      <td>2.6</td>\n",
              "      <td>3.8</td>\n",
              "      <td>5.9</td>\n",
              "      <td>4.5</td>\n",
              "      <td>4.4</td>\n",
              "      <td>2.2</td>\n",
              "      <td>5.5</td>\n",
              "      <td>3.1</td>\n",
              "      <td>3.3</td>\n",
              "      <td>6.0</td>\n",
              "      <td>4.6</td>\n",
              "      <td>2.6</td>\n",
              "      <td>3.3</td>\n",
              "      <td>3.5</td>\n",
              "      <td>4.7</td>\n",
              "      <td>3.6</td>\n",
              "      <td>3.2</td>\n",
              "      <td>3.3</td>\n",
              "      <td>5.1</td>\n",
              "      <td>6.1</td>\n",
              "      <td>3.4</td>\n",
              "      <td>3.7</td>\n",
              "      <td>NaN</td>\n",
              "    </tr>\n",
              "    <tr>\n",
              "      <th>April</th>\n",
              "      <td>12.9</td>\n",
              "      <td>12.9</td>\n",
              "      <td>12.6</td>\n",
              "      <td>10.2</td>\n",
              "      <td>15.5</td>\n",
              "      <td>11.3</td>\n",
              "      <td>7.9</td>\n",
              "      <td>14.3</td>\n",
              "      <td>11.1</td>\n",
              "      <td>12.9</td>\n",
              "      <td>11.9</td>\n",
              "      <td>22.3</td>\n",
              "      <td>11.5</td>\n",
              "      <td>16.4</td>\n",
              "      <td>16.9</td>\n",
              "      <td>10.2</td>\n",
              "      <td>11.2</td>\n",
              "      <td>15.4</td>\n",
              "      <td>14.5</td>\n",
              "      <td>10.6</td>\n",
              "      <td>9.9</td>\n",
              "      <td>15.1</td>\n",
              "      <td>22.7</td>\n",
              "      <td>8.1</td>\n",
              "      <td>15.4</td>\n",
              "      <td>9.7</td>\n",
              "      <td>11.3</td>\n",
              "      <td>8.2</td>\n",
              "      <td>28.3</td>\n",
              "      <td>16.3</td>\n",
              "      <td>15.3</td>\n",
              "      <td>11.3</td>\n",
              "      <td>14.5</td>\n",
              "      <td>12.2</td>\n",
              "      <td>8.5</td>\n",
              "      <td>16.8</td>\n",
              "      <td>13.7</td>\n",
              "      <td>14.2</td>\n",
              "      <td>15.1</td>\n",
              "      <td>17.0</td>\n",
              "      <td>12.1</td>\n",
              "      <td>10.2</td>\n",
              "      <td>14.7</td>\n",
              "      <td>12.8</td>\n",
              "      <td>9.7</td>\n",
              "      <td>15.6</td>\n",
              "      <td>10.6</td>\n",
              "      <td>15.4</td>\n",
              "      <td>15.2</td>\n",
              "      <td>14.1</td>\n",
              "      <td>9.2</td>\n",
              "      <td>NaN</td>\n",
              "    </tr>\n",
              "    <tr>\n",
              "      <th>May</th>\n",
              "      <td>9.6</td>\n",
              "      <td>12.7</td>\n",
              "      <td>9.0</td>\n",
              "      <td>9.6</td>\n",
              "      <td>16.4</td>\n",
              "      <td>10.2</td>\n",
              "      <td>9.6</td>\n",
              "      <td>15.9</td>\n",
              "      <td>8.8</td>\n",
              "      <td>13.7</td>\n",
              "      <td>9.4</td>\n",
              "      <td>23.5</td>\n",
              "      <td>9.0</td>\n",
              "      <td>15.3</td>\n",
              "      <td>12.3</td>\n",
              "      <td>10.2</td>\n",
              "      <td>10.0</td>\n",
              "      <td>10.9</td>\n",
              "      <td>14.2</td>\n",
              "      <td>9.4</td>\n",
              "      <td>10.0</td>\n",
              "      <td>16.6</td>\n",
              "      <td>21.3</td>\n",
              "      <td>9.9</td>\n",
              "      <td>10.5</td>\n",
              "      <td>10.1</td>\n",
              "      <td>9.0</td>\n",
              "      <td>5.3</td>\n",
              "      <td>25.3</td>\n",
              "      <td>15.4</td>\n",
              "      <td>15.4</td>\n",
              "      <td>9.1</td>\n",
              "      <td>14.5</td>\n",
              "      <td>12.8</td>\n",
              "      <td>9.1</td>\n",
              "      <td>13.9</td>\n",
              "      <td>12.6</td>\n",
              "      <td>14.3</td>\n",
              "      <td>13.4</td>\n",
              "      <td>16.4</td>\n",
              "      <td>12.4</td>\n",
              "      <td>9.4</td>\n",
              "      <td>11.0</td>\n",
              "      <td>13.0</td>\n",
              "      <td>8.6</td>\n",
              "      <td>12.8</td>\n",
              "      <td>9.0</td>\n",
              "      <td>15.1</td>\n",
              "      <td>12.9</td>\n",
              "      <td>12.1</td>\n",
              "      <td>8.8</td>\n",
              "      <td>NaN</td>\n",
              "    </tr>\n",
              "  </tbody>\n",
              "</table>\n",
              "</div>"
            ],
            "text/plain": [
              "State  Alabama  Alaska  Arizona  ...  Wisconsin  Wyoming  Puerto Rico\n",
              "Jan        2.7     6.0      4.5  ...        3.5      3.7          8.9\n",
              "Feb        2.7     5.8      4.5  ...        2.7      5.8          4.5\n",
              "March      3.5     5.6      5.5  ...        3.4      3.7          NaN\n",
              "April     12.9    12.9     12.6  ...       14.1      9.2          NaN\n",
              "May        9.6    12.7      9.0  ...       12.1      8.8          NaN\n",
              "\n",
              "[5 rows x 52 columns]"
            ]
          },
          "metadata": {
            "tags": []
          },
          "execution_count": 548
        }
      ]
    },
    {
      "cell_type": "code",
      "metadata": {
        "colab": {
          "base_uri": "https://localhost:8080/"
        },
        "id": "L9vBO2sl-DXN",
        "outputId": "154396f9-0194-4269-bf0e-5608a787d397"
      },
      "source": [
        "test_1.isna().sum()"
      ],
      "execution_count": null,
      "outputs": [
        {
          "output_type": "execute_result",
          "data": {
            "text/plain": [
              "State\n",
              "Alabama           0\n",
              "Alaska            0\n",
              "Arizona           0\n",
              "Arkansas          0\n",
              "California        0\n",
              "Colorado          0\n",
              "Connecticut       0\n",
              "Delaware          0\n",
              "D.C.              0\n",
              "Florida           0\n",
              "Georgia           0\n",
              "Hawaii            0\n",
              "Idaho             0\n",
              "Illinois          0\n",
              "Indiana           0\n",
              "Iowa              0\n",
              "Kansas            0\n",
              "Kentucky          0\n",
              "Louisiana         0\n",
              "Maine             0\n",
              "Maryland          0\n",
              "Massachusetts     0\n",
              "Michigan          0\n",
              "Minnesota         0\n",
              "Mississippi       0\n",
              "Missouri          0\n",
              "Montana           0\n",
              "Nebraska          0\n",
              "Nevada            0\n",
              "New Hampshire     0\n",
              "New Jersey        0\n",
              "New Mexico        0\n",
              "New York          0\n",
              "North Carolina    0\n",
              "North Dakota      0\n",
              "Ohio              0\n",
              "Oklahoma          0\n",
              "Oregon            0\n",
              "Pennsylvania      0\n",
              "Rhode Island      0\n",
              "South Carolina    0\n",
              "South Dakota      0\n",
              "Tennessee         0\n",
              "Texas             0\n",
              "Utah              0\n",
              "Vermont           0\n",
              "Virginia          0\n",
              "Washington        0\n",
              "West Virginia     0\n",
              "Wisconsin         0\n",
              "Wyoming           0\n",
              "Puerto Rico       7\n",
              "dtype: int64"
            ]
          },
          "metadata": {
            "tags": []
          },
          "execution_count": 549
        }
      ]
    },
    {
      "cell_type": "markdown",
      "metadata": {
        "id": "23eSrDdq-VjX"
      },
      "source": [
        "Puerto Rico has 7 missing values. "
      ]
    },
    {
      "cell_type": "code",
      "metadata": {
        "colab": {
          "base_uri": "https://localhost:8080/"
        },
        "id": "5jFAFdse-VEn",
        "outputId": "3b7670ea-5039-4ba9-af63-08d984f972e1"
      },
      "source": [
        "test_1['Puerto Rico']"
      ],
      "execution_count": null,
      "outputs": [
        {
          "output_type": "execute_result",
          "data": {
            "text/plain": [
              "Jan      8.9\n",
              "Feb      4.5\n",
              "March    NaN\n",
              "April    NaN\n",
              "May      NaN\n",
              "June     NaN\n",
              "July     NaN\n",
              "Aug      NaN\n",
              "Sept     NaN\n",
              "Name: Puerto Rico, dtype: float64"
            ]
          },
          "metadata": {
            "tags": []
          },
          "execution_count": 550
        }
      ]
    },
    {
      "cell_type": "markdown",
      "metadata": {
        "id": "VmUOU2eK-vnA"
      },
      "source": [
        "Unemployment rate is missing from March to Sept. \r\n",
        "\r\n",
        "It's not wise to use the mean of all statements to fill in NA values. Let's sort the data by unemployment rate in January and take the 10 states that have unemployment rate close to Pueto Rico, and use the mean of these unemployment rate to fill in NA values."
      ]
    },
    {
      "cell_type": "code",
      "metadata": {
        "id": "vMfTT2ea-u-e"
      },
      "source": [
        "sorted_df = state_unemp_df.sort_values(by='Jan')"
      ],
      "execution_count": null,
      "outputs": []
    },
    {
      "cell_type": "code",
      "metadata": {
        "id": "bEccEI2D_zQT"
      },
      "source": [
        "sorted_df.reset_index(drop=True, inplace=True)"
      ],
      "execution_count": null,
      "outputs": []
    },
    {
      "cell_type": "code",
      "metadata": {
        "colab": {
          "base_uri": "https://localhost:8080/",
          "height": 1000
        },
        "id": "NGjGF02hBG1n",
        "outputId": "9d3d91dd-95f6-4f3f-ff23-65b0b6ecd1d4"
      },
      "source": [
        "sorted_df"
      ],
      "execution_count": null,
      "outputs": [
        {
          "output_type": "execute_result",
          "data": {
            "text/html": [
              "<div>\n",
              "<style scoped>\n",
              "    .dataframe tbody tr th:only-of-type {\n",
              "        vertical-align: middle;\n",
              "    }\n",
              "\n",
              "    .dataframe tbody tr th {\n",
              "        vertical-align: top;\n",
              "    }\n",
              "\n",
              "    .dataframe thead th {\n",
              "        text-align: right;\n",
              "    }\n",
              "</style>\n",
              "<table border=\"1\" class=\"dataframe\">\n",
              "  <thead>\n",
              "    <tr style=\"text-align: right;\">\n",
              "      <th></th>\n",
              "      <th>State</th>\n",
              "      <th>Jan</th>\n",
              "      <th>Feb</th>\n",
              "      <th>March</th>\n",
              "      <th>April</th>\n",
              "      <th>May</th>\n",
              "      <th>June</th>\n",
              "      <th>July</th>\n",
              "      <th>Aug</th>\n",
              "      <th>Sept</th>\n",
              "    </tr>\n",
              "  </thead>\n",
              "  <tbody>\n",
              "    <tr>\n",
              "      <th>0</th>\n",
              "      <td>North Dakota</td>\n",
              "      <td>2.3</td>\n",
              "      <td>4.2</td>\n",
              "      <td>2.2</td>\n",
              "      <td>8.5</td>\n",
              "      <td>9.1</td>\n",
              "      <td>6.1</td>\n",
              "      <td>6.6</td>\n",
              "      <td>5.0</td>\n",
              "      <td>4.4</td>\n",
              "    </tr>\n",
              "    <tr>\n",
              "      <th>1</th>\n",
              "      <td>Vermont</td>\n",
              "      <td>2.4</td>\n",
              "      <td>2.6</td>\n",
              "      <td>3.2</td>\n",
              "      <td>15.6</td>\n",
              "      <td>12.8</td>\n",
              "      <td>9.4</td>\n",
              "      <td>8.3</td>\n",
              "      <td>4.8</td>\n",
              "      <td>4.2</td>\n",
              "    </tr>\n",
              "    <tr>\n",
              "      <th>2</th>\n",
              "      <td>South Carolina</td>\n",
              "      <td>2.4</td>\n",
              "      <td>3.3</td>\n",
              "      <td>2.6</td>\n",
              "      <td>12.1</td>\n",
              "      <td>12.4</td>\n",
              "      <td>8.7</td>\n",
              "      <td>8.6</td>\n",
              "      <td>6.3</td>\n",
              "      <td>5.1</td>\n",
              "    </tr>\n",
              "    <tr>\n",
              "      <th>3</th>\n",
              "      <td>Utah</td>\n",
              "      <td>2.5</td>\n",
              "      <td>3.4</td>\n",
              "      <td>3.6</td>\n",
              "      <td>9.7</td>\n",
              "      <td>8.6</td>\n",
              "      <td>5.1</td>\n",
              "      <td>4.5</td>\n",
              "      <td>4.1</td>\n",
              "      <td>5.0</td>\n",
              "    </tr>\n",
              "    <tr>\n",
              "      <th>4</th>\n",
              "      <td>Colorado</td>\n",
              "      <td>2.5</td>\n",
              "      <td>2.8</td>\n",
              "      <td>4.5</td>\n",
              "      <td>11.3</td>\n",
              "      <td>10.2</td>\n",
              "      <td>10.5</td>\n",
              "      <td>7.4</td>\n",
              "      <td>6.7</td>\n",
              "      <td>6.4</td>\n",
              "    </tr>\n",
              "    <tr>\n",
              "      <th>5</th>\n",
              "      <td>New Hampshire</td>\n",
              "      <td>2.6</td>\n",
              "      <td>3.8</td>\n",
              "      <td>2.6</td>\n",
              "      <td>16.3</td>\n",
              "      <td>15.4</td>\n",
              "      <td>11.8</td>\n",
              "      <td>8.1</td>\n",
              "      <td>6.5</td>\n",
              "      <td>6.0</td>\n",
              "    </tr>\n",
              "    <tr>\n",
              "      <th>6</th>\n",
              "      <td>Alabama</td>\n",
              "      <td>2.7</td>\n",
              "      <td>2.7</td>\n",
              "      <td>3.5</td>\n",
              "      <td>12.9</td>\n",
              "      <td>9.6</td>\n",
              "      <td>7.5</td>\n",
              "      <td>7.9</td>\n",
              "      <td>5.6</td>\n",
              "      <td>6.6</td>\n",
              "    </tr>\n",
              "    <tr>\n",
              "      <th>7</th>\n",
              "      <td>Virginia</td>\n",
              "      <td>2.7</td>\n",
              "      <td>3.8</td>\n",
              "      <td>3.3</td>\n",
              "      <td>10.6</td>\n",
              "      <td>9.0</td>\n",
              "      <td>8.4</td>\n",
              "      <td>8.0</td>\n",
              "      <td>6.1</td>\n",
              "      <td>6.2</td>\n",
              "    </tr>\n",
              "    <tr>\n",
              "      <th>8</th>\n",
              "      <td>Hawaii</td>\n",
              "      <td>2.7</td>\n",
              "      <td>2.7</td>\n",
              "      <td>2.6</td>\n",
              "      <td>22.3</td>\n",
              "      <td>23.5</td>\n",
              "      <td>13.9</td>\n",
              "      <td>13.1</td>\n",
              "      <td>12.5</td>\n",
              "      <td>15.1</td>\n",
              "    </tr>\n",
              "    <tr>\n",
              "      <th>9</th>\n",
              "      <td>Massachusetts</td>\n",
              "      <td>2.8</td>\n",
              "      <td>3.6</td>\n",
              "      <td>2.9</td>\n",
              "      <td>15.1</td>\n",
              "      <td>16.6</td>\n",
              "      <td>17.4</td>\n",
              "      <td>16.1</td>\n",
              "      <td>11.3</td>\n",
              "      <td>9.6</td>\n",
              "    </tr>\n",
              "    <tr>\n",
              "      <th>10</th>\n",
              "      <td>Iowa</td>\n",
              "      <td>2.8</td>\n",
              "      <td>3.1</td>\n",
              "      <td>3.7</td>\n",
              "      <td>10.2</td>\n",
              "      <td>10.2</td>\n",
              "      <td>8.0</td>\n",
              "      <td>6.6</td>\n",
              "      <td>6.0</td>\n",
              "      <td>4.7</td>\n",
              "    </tr>\n",
              "    <tr>\n",
              "      <th>11</th>\n",
              "      <td>Idaho</td>\n",
              "      <td>2.8</td>\n",
              "      <td>3.4</td>\n",
              "      <td>2.6</td>\n",
              "      <td>11.5</td>\n",
              "      <td>9.0</td>\n",
              "      <td>5.6</td>\n",
              "      <td>5.0</td>\n",
              "      <td>4.2</td>\n",
              "      <td>6.1</td>\n",
              "    </tr>\n",
              "    <tr>\n",
              "      <th>12</th>\n",
              "      <td>Florida</td>\n",
              "      <td>2.8</td>\n",
              "      <td>3.1</td>\n",
              "      <td>4.3</td>\n",
              "      <td>12.9</td>\n",
              "      <td>13.7</td>\n",
              "      <td>10.4</td>\n",
              "      <td>11.3</td>\n",
              "      <td>7.4</td>\n",
              "      <td>7.6</td>\n",
              "    </tr>\n",
              "    <tr>\n",
              "      <th>13</th>\n",
              "      <td>Rhode Island</td>\n",
              "      <td>3.1</td>\n",
              "      <td>2.5</td>\n",
              "      <td>4.6</td>\n",
              "      <td>17.0</td>\n",
              "      <td>16.4</td>\n",
              "      <td>12.4</td>\n",
              "      <td>11.2</td>\n",
              "      <td>12.8</td>\n",
              "      <td>10.5</td>\n",
              "    </tr>\n",
              "    <tr>\n",
              "      <th>14</th>\n",
              "      <td>Indiana</td>\n",
              "      <td>3.1</td>\n",
              "      <td>2.8</td>\n",
              "      <td>3.2</td>\n",
              "      <td>16.9</td>\n",
              "      <td>12.3</td>\n",
              "      <td>11.2</td>\n",
              "      <td>7.8</td>\n",
              "      <td>6.4</td>\n",
              "      <td>6.2</td>\n",
              "    </tr>\n",
              "    <tr>\n",
              "      <th>15</th>\n",
              "      <td>Kansas</td>\n",
              "      <td>3.1</td>\n",
              "      <td>4.2</td>\n",
              "      <td>3.1</td>\n",
              "      <td>11.2</td>\n",
              "      <td>10.0</td>\n",
              "      <td>7.5</td>\n",
              "      <td>7.2</td>\n",
              "      <td>6.9</td>\n",
              "      <td>5.9</td>\n",
              "    </tr>\n",
              "    <tr>\n",
              "      <th>16</th>\n",
              "      <td>Maine</td>\n",
              "      <td>3.1</td>\n",
              "      <td>3.3</td>\n",
              "      <td>3.2</td>\n",
              "      <td>10.6</td>\n",
              "      <td>9.4</td>\n",
              "      <td>6.6</td>\n",
              "      <td>9.9</td>\n",
              "      <td>6.9</td>\n",
              "      <td>6.1</td>\n",
              "    </tr>\n",
              "    <tr>\n",
              "      <th>17</th>\n",
              "      <td>Georgia</td>\n",
              "      <td>3.1</td>\n",
              "      <td>2.7</td>\n",
              "      <td>4.2</td>\n",
              "      <td>11.9</td>\n",
              "      <td>9.4</td>\n",
              "      <td>7.6</td>\n",
              "      <td>7.6</td>\n",
              "      <td>5.6</td>\n",
              "      <td>6.4</td>\n",
              "    </tr>\n",
              "    <tr>\n",
              "      <th>18</th>\n",
              "      <td>Minnesota</td>\n",
              "      <td>3.2</td>\n",
              "      <td>5.4</td>\n",
              "      <td>3.1</td>\n",
              "      <td>8.1</td>\n",
              "      <td>9.9</td>\n",
              "      <td>8.6</td>\n",
              "      <td>7.7</td>\n",
              "      <td>7.4</td>\n",
              "      <td>6.0</td>\n",
              "    </tr>\n",
              "    <tr>\n",
              "      <th>19</th>\n",
              "      <td>Oregon</td>\n",
              "      <td>3.3</td>\n",
              "      <td>4.7</td>\n",
              "      <td>3.3</td>\n",
              "      <td>14.2</td>\n",
              "      <td>14.3</td>\n",
              "      <td>11.2</td>\n",
              "      <td>10.4</td>\n",
              "      <td>7.7</td>\n",
              "      <td>8.0</td>\n",
              "    </tr>\n",
              "    <tr>\n",
              "      <th>20</th>\n",
              "      <td>Oklahoma</td>\n",
              "      <td>3.3</td>\n",
              "      <td>3.3</td>\n",
              "      <td>3.1</td>\n",
              "      <td>13.7</td>\n",
              "      <td>12.6</td>\n",
              "      <td>6.6</td>\n",
              "      <td>7.1</td>\n",
              "      <td>5.7</td>\n",
              "      <td>5.3</td>\n",
              "    </tr>\n",
              "    <tr>\n",
              "      <th>21</th>\n",
              "      <td>Maryland</td>\n",
              "      <td>3.3</td>\n",
              "      <td>2.8</td>\n",
              "      <td>3.3</td>\n",
              "      <td>9.9</td>\n",
              "      <td>10.0</td>\n",
              "      <td>8.0</td>\n",
              "      <td>7.6</td>\n",
              "      <td>6.0</td>\n",
              "      <td>7.2</td>\n",
              "    </tr>\n",
              "    <tr>\n",
              "      <th>22</th>\n",
              "      <td>Tennessee</td>\n",
              "      <td>3.3</td>\n",
              "      <td>3.5</td>\n",
              "      <td>3.5</td>\n",
              "      <td>14.7</td>\n",
              "      <td>11.0</td>\n",
              "      <td>9.7</td>\n",
              "      <td>9.5</td>\n",
              "      <td>8.5</td>\n",
              "      <td>6.3</td>\n",
              "    </tr>\n",
              "    <tr>\n",
              "      <th>23</th>\n",
              "      <td>South Dakota</td>\n",
              "      <td>3.4</td>\n",
              "      <td>3.4</td>\n",
              "      <td>3.3</td>\n",
              "      <td>10.2</td>\n",
              "      <td>9.4</td>\n",
              "      <td>7.2</td>\n",
              "      <td>6.3</td>\n",
              "      <td>4.8</td>\n",
              "      <td>4.1</td>\n",
              "    </tr>\n",
              "    <tr>\n",
              "      <th>24</th>\n",
              "      <td>Wisconsin</td>\n",
              "      <td>3.5</td>\n",
              "      <td>2.7</td>\n",
              "      <td>3.4</td>\n",
              "      <td>14.1</td>\n",
              "      <td>12.1</td>\n",
              "      <td>8.5</td>\n",
              "      <td>7.0</td>\n",
              "      <td>6.2</td>\n",
              "      <td>5.4</td>\n",
              "    </tr>\n",
              "    <tr>\n",
              "      <th>25</th>\n",
              "      <td>Montana</td>\n",
              "      <td>3.5</td>\n",
              "      <td>2.9</td>\n",
              "      <td>3.5</td>\n",
              "      <td>11.3</td>\n",
              "      <td>9.0</td>\n",
              "      <td>7.1</td>\n",
              "      <td>6.4</td>\n",
              "      <td>5.6</td>\n",
              "      <td>5.3</td>\n",
              "    </tr>\n",
              "    <tr>\n",
              "      <th>26</th>\n",
              "      <td>Missouri</td>\n",
              "      <td>3.5</td>\n",
              "      <td>3.5</td>\n",
              "      <td>4.5</td>\n",
              "      <td>9.7</td>\n",
              "      <td>10.1</td>\n",
              "      <td>7.9</td>\n",
              "      <td>6.9</td>\n",
              "      <td>7.0</td>\n",
              "      <td>4.9</td>\n",
              "    </tr>\n",
              "    <tr>\n",
              "      <th>27</th>\n",
              "      <td>Illinois</td>\n",
              "      <td>3.5</td>\n",
              "      <td>3.1</td>\n",
              "      <td>4.6</td>\n",
              "      <td>16.4</td>\n",
              "      <td>15.3</td>\n",
              "      <td>14.6</td>\n",
              "      <td>11.3</td>\n",
              "      <td>11.0</td>\n",
              "      <td>10.2</td>\n",
              "    </tr>\n",
              "    <tr>\n",
              "      <th>28</th>\n",
              "      <td>Arkansas</td>\n",
              "      <td>3.5</td>\n",
              "      <td>3.9</td>\n",
              "      <td>4.8</td>\n",
              "      <td>10.2</td>\n",
              "      <td>9.6</td>\n",
              "      <td>8.0</td>\n",
              "      <td>7.1</td>\n",
              "      <td>7.4</td>\n",
              "      <td>7.3</td>\n",
              "    </tr>\n",
              "    <tr>\n",
              "      <th>29</th>\n",
              "      <td>Nevada</td>\n",
              "      <td>3.6</td>\n",
              "      <td>3.6</td>\n",
              "      <td>6.3</td>\n",
              "      <td>28.3</td>\n",
              "      <td>25.3</td>\n",
              "      <td>15.0</td>\n",
              "      <td>14.0</td>\n",
              "      <td>13.2</td>\n",
              "      <td>12.6</td>\n",
              "    </tr>\n",
              "    <tr>\n",
              "      <th>30</th>\n",
              "      <td>North Carolina</td>\n",
              "      <td>3.6</td>\n",
              "      <td>2.2</td>\n",
              "      <td>4.4</td>\n",
              "      <td>12.2</td>\n",
              "      <td>12.8</td>\n",
              "      <td>7.6</td>\n",
              "      <td>8.5</td>\n",
              "      <td>6.5</td>\n",
              "      <td>7.3</td>\n",
              "    </tr>\n",
              "    <tr>\n",
              "      <th>31</th>\n",
              "      <td>Connecticut</td>\n",
              "      <td>3.7</td>\n",
              "      <td>3.9</td>\n",
              "      <td>3.7</td>\n",
              "      <td>7.9</td>\n",
              "      <td>9.6</td>\n",
              "      <td>9.8</td>\n",
              "      <td>10.2</td>\n",
              "      <td>8.1</td>\n",
              "      <td>7.8</td>\n",
              "    </tr>\n",
              "    <tr>\n",
              "      <th>32</th>\n",
              "      <td>Wyoming</td>\n",
              "      <td>3.7</td>\n",
              "      <td>5.8</td>\n",
              "      <td>3.7</td>\n",
              "      <td>9.2</td>\n",
              "      <td>8.8</td>\n",
              "      <td>7.6</td>\n",
              "      <td>7.1</td>\n",
              "      <td>6.6</td>\n",
              "      <td>6.1</td>\n",
              "    </tr>\n",
              "    <tr>\n",
              "      <th>33</th>\n",
              "      <td>New Jersey</td>\n",
              "      <td>3.8</td>\n",
              "      <td>4.8</td>\n",
              "      <td>3.8</td>\n",
              "      <td>15.3</td>\n",
              "      <td>15.4</td>\n",
              "      <td>16.6</td>\n",
              "      <td>13.9</td>\n",
              "      <td>10.9</td>\n",
              "      <td>6.7</td>\n",
              "    </tr>\n",
              "    <tr>\n",
              "      <th>34</th>\n",
              "      <td>New York</td>\n",
              "      <td>3.8</td>\n",
              "      <td>3.6</td>\n",
              "      <td>4.5</td>\n",
              "      <td>14.5</td>\n",
              "      <td>14.5</td>\n",
              "      <td>15.7</td>\n",
              "      <td>15.9</td>\n",
              "      <td>12.5</td>\n",
              "      <td>9.7</td>\n",
              "    </tr>\n",
              "    <tr>\n",
              "      <th>35</th>\n",
              "      <td>Michigan</td>\n",
              "      <td>3.8</td>\n",
              "      <td>3.1</td>\n",
              "      <td>4.1</td>\n",
              "      <td>22.7</td>\n",
              "      <td>21.3</td>\n",
              "      <td>14.8</td>\n",
              "      <td>8.7</td>\n",
              "      <td>8.7</td>\n",
              "      <td>8.5</td>\n",
              "    </tr>\n",
              "    <tr>\n",
              "      <th>36</th>\n",
              "      <td>Washington</td>\n",
              "      <td>3.9</td>\n",
              "      <td>4.9</td>\n",
              "      <td>5.1</td>\n",
              "      <td>15.4</td>\n",
              "      <td>15.1</td>\n",
              "      <td>9.8</td>\n",
              "      <td>10.3</td>\n",
              "      <td>8.5</td>\n",
              "      <td>7.8</td>\n",
              "    </tr>\n",
              "    <tr>\n",
              "      <th>37</th>\n",
              "      <td>California</td>\n",
              "      <td>3.9</td>\n",
              "      <td>2.5</td>\n",
              "      <td>5.3</td>\n",
              "      <td>15.5</td>\n",
              "      <td>16.4</td>\n",
              "      <td>14.9</td>\n",
              "      <td>13.3</td>\n",
              "      <td>11.4</td>\n",
              "      <td>11.0</td>\n",
              "    </tr>\n",
              "    <tr>\n",
              "      <th>38</th>\n",
              "      <td>Nebraska</td>\n",
              "      <td>3.9</td>\n",
              "      <td>3.6</td>\n",
              "      <td>4.2</td>\n",
              "      <td>8.2</td>\n",
              "      <td>5.3</td>\n",
              "      <td>6.7</td>\n",
              "      <td>4.8</td>\n",
              "      <td>4.0</td>\n",
              "      <td>3.5</td>\n",
              "    </tr>\n",
              "    <tr>\n",
              "      <th>39</th>\n",
              "      <td>Delaware</td>\n",
              "      <td>4.0</td>\n",
              "      <td>5.2</td>\n",
              "      <td>5.1</td>\n",
              "      <td>14.3</td>\n",
              "      <td>15.9</td>\n",
              "      <td>12.5</td>\n",
              "      <td>10.4</td>\n",
              "      <td>8.9</td>\n",
              "      <td>8.2</td>\n",
              "    </tr>\n",
              "    <tr>\n",
              "      <th>40</th>\n",
              "      <td>Ohio</td>\n",
              "      <td>4.1</td>\n",
              "      <td>3.2</td>\n",
              "      <td>5.5</td>\n",
              "      <td>16.8</td>\n",
              "      <td>13.9</td>\n",
              "      <td>10.9</td>\n",
              "      <td>8.9</td>\n",
              "      <td>8.9</td>\n",
              "      <td>8.4</td>\n",
              "    </tr>\n",
              "    <tr>\n",
              "      <th>41</th>\n",
              "      <td>Kentucky</td>\n",
              "      <td>4.3</td>\n",
              "      <td>5.2</td>\n",
              "      <td>5.8</td>\n",
              "      <td>15.4</td>\n",
              "      <td>10.9</td>\n",
              "      <td>4.3</td>\n",
              "      <td>5.7</td>\n",
              "      <td>7.6</td>\n",
              "      <td>5.6</td>\n",
              "    </tr>\n",
              "    <tr>\n",
              "      <th>42</th>\n",
              "      <td>Texas</td>\n",
              "      <td>4.5</td>\n",
              "      <td>2.5</td>\n",
              "      <td>4.7</td>\n",
              "      <td>12.8</td>\n",
              "      <td>13.0</td>\n",
              "      <td>8.6</td>\n",
              "      <td>8.0</td>\n",
              "      <td>6.8</td>\n",
              "      <td>8.3</td>\n",
              "    </tr>\n",
              "    <tr>\n",
              "      <th>43</th>\n",
              "      <td>Arizona</td>\n",
              "      <td>4.5</td>\n",
              "      <td>4.5</td>\n",
              "      <td>5.5</td>\n",
              "      <td>12.6</td>\n",
              "      <td>9.0</td>\n",
              "      <td>10.0</td>\n",
              "      <td>10.6</td>\n",
              "      <td>5.9</td>\n",
              "      <td>6.7</td>\n",
              "    </tr>\n",
              "    <tr>\n",
              "      <th>44</th>\n",
              "      <td>Pennsylvania</td>\n",
              "      <td>4.7</td>\n",
              "      <td>3.4</td>\n",
              "      <td>6.0</td>\n",
              "      <td>15.1</td>\n",
              "      <td>13.4</td>\n",
              "      <td>13.0</td>\n",
              "      <td>13.7</td>\n",
              "      <td>10.3</td>\n",
              "      <td>8.1</td>\n",
              "    </tr>\n",
              "    <tr>\n",
              "      <th>45</th>\n",
              "      <td>New Mexico</td>\n",
              "      <td>4.8</td>\n",
              "      <td>3.7</td>\n",
              "      <td>5.9</td>\n",
              "      <td>11.3</td>\n",
              "      <td>9.1</td>\n",
              "      <td>8.3</td>\n",
              "      <td>12.7</td>\n",
              "      <td>11.3</td>\n",
              "      <td>9.4</td>\n",
              "    </tr>\n",
              "    <tr>\n",
              "      <th>46</th>\n",
              "      <td>West Virginia</td>\n",
              "      <td>5.0</td>\n",
              "      <td>3.7</td>\n",
              "      <td>6.1</td>\n",
              "      <td>15.2</td>\n",
              "      <td>12.9</td>\n",
              "      <td>10.4</td>\n",
              "      <td>9.9</td>\n",
              "      <td>8.9</td>\n",
              "      <td>8.6</td>\n",
              "    </tr>\n",
              "    <tr>\n",
              "      <th>47</th>\n",
              "      <td>Louisiana</td>\n",
              "      <td>5.1</td>\n",
              "      <td>3.2</td>\n",
              "      <td>6.1</td>\n",
              "      <td>14.5</td>\n",
              "      <td>14.2</td>\n",
              "      <td>9.7</td>\n",
              "      <td>9.4</td>\n",
              "      <td>7.6</td>\n",
              "      <td>8.1</td>\n",
              "    </tr>\n",
              "    <tr>\n",
              "      <th>48</th>\n",
              "      <td>D.C.</td>\n",
              "      <td>5.2</td>\n",
              "      <td>2.8</td>\n",
              "      <td>6.0</td>\n",
              "      <td>11.1</td>\n",
              "      <td>8.8</td>\n",
              "      <td>8.6</td>\n",
              "      <td>8.4</td>\n",
              "      <td>8.5</td>\n",
              "      <td>8.7</td>\n",
              "    </tr>\n",
              "    <tr>\n",
              "      <th>49</th>\n",
              "      <td>Mississippi</td>\n",
              "      <td>5.5</td>\n",
              "      <td>3.5</td>\n",
              "      <td>5.3</td>\n",
              "      <td>15.4</td>\n",
              "      <td>10.5</td>\n",
              "      <td>8.7</td>\n",
              "      <td>10.8</td>\n",
              "      <td>7.9</td>\n",
              "      <td>7.1</td>\n",
              "    </tr>\n",
              "    <tr>\n",
              "      <th>50</th>\n",
              "      <td>Alaska</td>\n",
              "      <td>6.0</td>\n",
              "      <td>5.8</td>\n",
              "      <td>5.6</td>\n",
              "      <td>12.9</td>\n",
              "      <td>12.7</td>\n",
              "      <td>12.4</td>\n",
              "      <td>11.6</td>\n",
              "      <td>7.4</td>\n",
              "      <td>7.2</td>\n",
              "    </tr>\n",
              "    <tr>\n",
              "      <th>51</th>\n",
              "      <td>Puerto Rico</td>\n",
              "      <td>8.9</td>\n",
              "      <td>4.5</td>\n",
              "      <td>NaN</td>\n",
              "      <td>NaN</td>\n",
              "      <td>NaN</td>\n",
              "      <td>NaN</td>\n",
              "      <td>NaN</td>\n",
              "      <td>NaN</td>\n",
              "      <td>NaN</td>\n",
              "    </tr>\n",
              "  </tbody>\n",
              "</table>\n",
              "</div>"
            ],
            "text/plain": [
              "             State  Jan  Feb  March  April   May  June  July   Aug  Sept\n",
              "0     North Dakota  2.3  4.2    2.2    8.5   9.1   6.1   6.6   5.0   4.4\n",
              "1          Vermont  2.4  2.6    3.2   15.6  12.8   9.4   8.3   4.8   4.2\n",
              "2   South Carolina  2.4  3.3    2.6   12.1  12.4   8.7   8.6   6.3   5.1\n",
              "3             Utah  2.5  3.4    3.6    9.7   8.6   5.1   4.5   4.1   5.0\n",
              "4         Colorado  2.5  2.8    4.5   11.3  10.2  10.5   7.4   6.7   6.4\n",
              "5    New Hampshire  2.6  3.8    2.6   16.3  15.4  11.8   8.1   6.5   6.0\n",
              "6          Alabama  2.7  2.7    3.5   12.9   9.6   7.5   7.9   5.6   6.6\n",
              "7         Virginia  2.7  3.8    3.3   10.6   9.0   8.4   8.0   6.1   6.2\n",
              "8           Hawaii  2.7  2.7    2.6   22.3  23.5  13.9  13.1  12.5  15.1\n",
              "9    Massachusetts  2.8  3.6    2.9   15.1  16.6  17.4  16.1  11.3   9.6\n",
              "10            Iowa  2.8  3.1    3.7   10.2  10.2   8.0   6.6   6.0   4.7\n",
              "11           Idaho  2.8  3.4    2.6   11.5   9.0   5.6   5.0   4.2   6.1\n",
              "12         Florida  2.8  3.1    4.3   12.9  13.7  10.4  11.3   7.4   7.6\n",
              "13    Rhode Island  3.1  2.5    4.6   17.0  16.4  12.4  11.2  12.8  10.5\n",
              "14         Indiana  3.1  2.8    3.2   16.9  12.3  11.2   7.8   6.4   6.2\n",
              "15          Kansas  3.1  4.2    3.1   11.2  10.0   7.5   7.2   6.9   5.9\n",
              "16           Maine  3.1  3.3    3.2   10.6   9.4   6.6   9.9   6.9   6.1\n",
              "17         Georgia  3.1  2.7    4.2   11.9   9.4   7.6   7.6   5.6   6.4\n",
              "18       Minnesota  3.2  5.4    3.1    8.1   9.9   8.6   7.7   7.4   6.0\n",
              "19          Oregon  3.3  4.7    3.3   14.2  14.3  11.2  10.4   7.7   8.0\n",
              "20        Oklahoma  3.3  3.3    3.1   13.7  12.6   6.6   7.1   5.7   5.3\n",
              "21        Maryland  3.3  2.8    3.3    9.9  10.0   8.0   7.6   6.0   7.2\n",
              "22       Tennessee  3.3  3.5    3.5   14.7  11.0   9.7   9.5   8.5   6.3\n",
              "23    South Dakota  3.4  3.4    3.3   10.2   9.4   7.2   6.3   4.8   4.1\n",
              "24       Wisconsin  3.5  2.7    3.4   14.1  12.1   8.5   7.0   6.2   5.4\n",
              "25         Montana  3.5  2.9    3.5   11.3   9.0   7.1   6.4   5.6   5.3\n",
              "26        Missouri  3.5  3.5    4.5    9.7  10.1   7.9   6.9   7.0   4.9\n",
              "27        Illinois  3.5  3.1    4.6   16.4  15.3  14.6  11.3  11.0  10.2\n",
              "28        Arkansas  3.5  3.9    4.8   10.2   9.6   8.0   7.1   7.4   7.3\n",
              "29          Nevada  3.6  3.6    6.3   28.3  25.3  15.0  14.0  13.2  12.6\n",
              "30  North Carolina  3.6  2.2    4.4   12.2  12.8   7.6   8.5   6.5   7.3\n",
              "31     Connecticut  3.7  3.9    3.7    7.9   9.6   9.8  10.2   8.1   7.8\n",
              "32         Wyoming  3.7  5.8    3.7    9.2   8.8   7.6   7.1   6.6   6.1\n",
              "33      New Jersey  3.8  4.8    3.8   15.3  15.4  16.6  13.9  10.9   6.7\n",
              "34        New York  3.8  3.6    4.5   14.5  14.5  15.7  15.9  12.5   9.7\n",
              "35        Michigan  3.8  3.1    4.1   22.7  21.3  14.8   8.7   8.7   8.5\n",
              "36      Washington  3.9  4.9    5.1   15.4  15.1   9.8  10.3   8.5   7.8\n",
              "37      California  3.9  2.5    5.3   15.5  16.4  14.9  13.3  11.4  11.0\n",
              "38        Nebraska  3.9  3.6    4.2    8.2   5.3   6.7   4.8   4.0   3.5\n",
              "39        Delaware  4.0  5.2    5.1   14.3  15.9  12.5  10.4   8.9   8.2\n",
              "40            Ohio  4.1  3.2    5.5   16.8  13.9  10.9   8.9   8.9   8.4\n",
              "41        Kentucky  4.3  5.2    5.8   15.4  10.9   4.3   5.7   7.6   5.6\n",
              "42           Texas  4.5  2.5    4.7   12.8  13.0   8.6   8.0   6.8   8.3\n",
              "43         Arizona  4.5  4.5    5.5   12.6   9.0  10.0  10.6   5.9   6.7\n",
              "44    Pennsylvania  4.7  3.4    6.0   15.1  13.4  13.0  13.7  10.3   8.1\n",
              "45      New Mexico  4.8  3.7    5.9   11.3   9.1   8.3  12.7  11.3   9.4\n",
              "46   West Virginia  5.0  3.7    6.1   15.2  12.9  10.4   9.9   8.9   8.6\n",
              "47       Louisiana  5.1  3.2    6.1   14.5  14.2   9.7   9.4   7.6   8.1\n",
              "48            D.C.  5.2  2.8    6.0   11.1   8.8   8.6   8.4   8.5   8.7\n",
              "49     Mississippi  5.5  3.5    5.3   15.4  10.5   8.7  10.8   7.9   7.1\n",
              "50          Alaska  6.0  5.8    5.6   12.9  12.7  12.4  11.6   7.4   7.2\n",
              "51     Puerto Rico  8.9  4.5    NaN    NaN   NaN   NaN   NaN   NaN   NaN"
            ]
          },
          "metadata": {
            "tags": []
          },
          "execution_count": 553
        }
      ]
    },
    {
      "cell_type": "markdown",
      "metadata": {
        "id": "i9lIS0N3eKxV"
      },
      "source": [
        "`df_mean_na` contains data values from the ten states that have unemployment rate close to Puerto Rico in Janaury."
      ]
    },
    {
      "cell_type": "code",
      "metadata": {
        "id": "P3IxrjswBVfl"
      },
      "source": [
        "df_mean_na = sorted_df.iloc[-11:-1]"
      ],
      "execution_count": null,
      "outputs": []
    },
    {
      "cell_type": "code",
      "metadata": {
        "colab": {
          "base_uri": "https://localhost:8080/"
        },
        "id": "lH9B240ZCZnj",
        "outputId": "44539fc7-af98-48f2-f3d0-f6f0328060c9"
      },
      "source": [
        "test_1.index"
      ],
      "execution_count": null,
      "outputs": [
        {
          "output_type": "execute_result",
          "data": {
            "text/plain": [
              "Index(['Jan', 'Feb', 'March', 'April', 'May', 'June', 'July', 'Aug', 'Sept'], dtype='object')"
            ]
          },
          "metadata": {
            "tags": []
          },
          "execution_count": 555
        }
      ]
    },
    {
      "cell_type": "code",
      "metadata": {
        "id": "5VhEHesWCy90"
      },
      "source": [
        "# Missing value months\r\n",
        "months = ['March', 'April', 'May', 'June', 'July', 'Aug', 'Sept']"
      ],
      "execution_count": null,
      "outputs": []
    },
    {
      "cell_type": "markdown",
      "metadata": {
        "id": "9RB19siqMIvb"
      },
      "source": [
        "Fill in missing values"
      ]
    },
    {
      "cell_type": "code",
      "metadata": {
        "id": "1SXbFkH1Bzx9"
      },
      "source": [
        "for month in months:\r\n",
        "  sorted_df[month].fillna(value=df_mean_na[month].mean(), inplace=True)"
      ],
      "execution_count": null,
      "outputs": []
    },
    {
      "cell_type": "code",
      "metadata": {
        "id": "11o-xv5ZG2UD"
      },
      "source": [
        "filled_df = sorted_df.set_index('State').T "
      ],
      "execution_count": null,
      "outputs": []
    },
    {
      "cell_type": "code",
      "metadata": {
        "colab": {
          "base_uri": "https://localhost:8080/"
        },
        "id": "-lRniemde2gO",
        "outputId": "e06fbe6a-d9ed-4ecf-e361-b9b91e1ce463"
      },
      "source": [
        "filled_df.isna().sum().sum()"
      ],
      "execution_count": null,
      "outputs": [
        {
          "output_type": "execute_result",
          "data": {
            "text/plain": [
              "0"
            ]
          },
          "metadata": {
            "tags": []
          },
          "execution_count": 501
        }
      ]
    },
    {
      "cell_type": "markdown",
      "metadata": {
        "id": "rhWaz6_HMMju"
      },
      "source": [
        "0 missing value now"
      ]
    },
    {
      "cell_type": "markdown",
      "metadata": {
        "id": "GIHbrM67IR-l"
      },
      "source": [
        "## Visualization"
      ]
    },
    {
      "cell_type": "markdown",
      "metadata": {
        "id": "bt_pjgnLIViD"
      },
      "source": [
        "**Most of the states have highest unemployment rate in April.**"
      ]
    },
    {
      "cell_type": "code",
      "metadata": {
        "id": "38oPAStb6aun",
        "colab": {
          "base_uri": "https://localhost:8080/",
          "height": 847
        },
        "outputId": "4784a7bd-2744-4407-9d83-2b412b155848"
      },
      "source": [
        "import matplotlib.pyplot as plt\r\n",
        "from matplotlib import style\r\n",
        "plt.figure(figsize=(15,7))\r\n",
        "for i in filled_df.columns:\r\n",
        "  filled_df[i].plot(legend=True)\r\n",
        "plt.legend(bbox_to_anchor=(1.01, 1),borderaxespad=0)\r\n",
        "plt.title(\"Unemployment in states since January\")\r\n",
        "plt.xlabel(\"Month\")\r\n",
        "plt.ylabel(\"Unemployment rate\")\r\n",
        "\r\n"
      ],
      "execution_count": null,
      "outputs": [
        {
          "output_type": "execute_result",
          "data": {
            "text/plain": [
              "Text(0, 0.5, 'Unemployment rate')"
            ]
          },
          "metadata": {
            "tags": []
          },
          "execution_count": 559
        },
        {
          "output_type": "display_data",
          "data": {
            "image/png": "[encoded data removed]",
            "text/plain": [
              "<Figure size 1080x504 with 1 Axes>"
            ]
          },
          "metadata": {
            "tags": [],
            "needs_background": "light"
          }
        }
      ]
    },
    {
      "cell_type": "markdown",
      "metadata": {
        "id": "lqLh5ly-IjsX"
      },
      "source": [
        "Take a look at the states where COVID is badly spreaded."
      ]
    },
    {
      "cell_type": "code",
      "metadata": {
        "id": "4RAr2uXF1264"
      },
      "source": [
        "states = ['New York', 'Texas', 'California', 'Florida', 'New Jersey']"
      ],
      "execution_count": null,
      "outputs": []
    },
    {
      "cell_type": "markdown",
      "metadata": {
        "id": "mU2uI8A-pxC7"
      },
      "source": [
        "We see the same trend for these five states. There was a rapid increase in the unemployment rate in April, and the rate was dropping with some fluctuations. "
      ]
    },
    {
      "cell_type": "code",
      "metadata": {
        "colab": {
          "base_uri": "https://localhost:8080/",
          "height": 461
        },
        "id": "-hQf0Ryh01H_",
        "outputId": "ab6cd4bc-f998-4546-9389-3afa3c870af1"
      },
      "source": [
        "import matplotlib.pyplot as plt\r\n",
        "from matplotlib import style\r\n",
        "plt.figure(figsize=(15,7))\r\n",
        "for i in states:\r\n",
        "  filled_df[i].plot(legend=True)\r\n",
        "plt.legend(bbox_to_anchor=(1.01, 1),borderaxespad=0)\r\n",
        "plt.title(\"Unemployment in states since January\")"
      ],
      "execution_count": null,
      "outputs": [
        {
          "output_type": "execute_result",
          "data": {
            "text/plain": [
              "Text(0.5, 1.0, 'Unemployment in states since January')"
            ]
          },
          "metadata": {
            "tags": []
          },
          "execution_count": 561
        },
        {
          "output_type": "display_data",
          "data": {
            "image/png": "[encoded data removed]",
            "text/plain": [
              "<Figure size 1080x504 with 1 Axes>"
            ]
          },
          "metadata": {
            "tags": [],
            "needs_background": "light"
          }
        }
      ]
    },
    {
      "cell_type": "markdown",
      "metadata": {
        "id": "GQj9m5JvfRd9"
      },
      "source": [
        "# Compare unemployment rate wih COVID 19"
      ]
    },
    {
      "cell_type": "markdown",
      "metadata": {
        "id": "CSvvgUovI0SG"
      },
      "source": [
        "## Load data and compute new cases and new deaths for each day"
      ]
    },
    {
      "cell_type": "code",
      "metadata": {
        "id": "Tqyupdet6ZcT"
      },
      "source": [
        "df = pd.read_csv('https://raw.githubusercontent.com/nytimes/covid-19-data/master/us-states.csv')"
      ],
      "execution_count": null,
      "outputs": []
    },
    {
      "cell_type": "markdown",
      "metadata": {
        "id": "dozR96mTMXGg"
      },
      "source": [
        "Functions for calculating new cases and new deaths"
      ]
    },
    {
      "cell_type": "code",
      "metadata": {
        "id": "JrBfU1FuR8pf"
      },
      "source": [
        "def get_new_cases(df):\r\n",
        "  new_cases = df['cases']-df['cases'].shift(1)\r\n",
        "  new_cases.iloc[0] = df['cases'].iloc[0]\r\n",
        "  return new_cases\r\n",
        "\r\n",
        "\r\n",
        "def get_new_deaths(df):\r\n",
        "  new_deaths = df['deaths']-df['deaths'].shift(1) # today's death - yesterday's death(obtain by shifting the deaths column down by one\r\n",
        "  new_deaths.iloc[0] = df['deaths'].iloc[0]\r\n",
        "  return new_deaths"
      ],
      "execution_count": null,
      "outputs": []
    },
    {
      "cell_type": "markdown",
      "metadata": {
        "id": "h3ZoGpRFMhHP"
      },
      "source": [
        "### New York \r\n",
        "\r\n",
        "I try to work out data manipulation steps for New York first and then apply it to all the states. "
      ]
    },
    {
      "cell_type": "code",
      "metadata": {
        "colab": {
          "base_uri": "https://localhost:8080/"
        },
        "id": "Jk9G7d0wOnjj",
        "outputId": "4e51f9e6-231b-4613-d8c1-40dcbb63b177"
      },
      "source": [
        "# create new_cases and new deaths columns for New York\r\n",
        "ny_df = df[df['state']=='New York']\r\n",
        "ny_df['new_cases']=get_new_cases(ny_df)\r\n",
        "ny_df['new_deaths']=get_new_deaths(ny_df)"
      ],
      "execution_count": null,
      "outputs": [
        {
          "output_type": "stream",
          "text": [
            "/usr/local/lib/python3.6/dist-packages/ipykernel_launcher.py:2: SettingWithCopyWarning: \n",
            "A value is trying to be set on a copy of a slice from a DataFrame.\n",
            "Try using .loc[row_indexer,col_indexer] = value instead\n",
            "\n",
            "See the caveats in the documentation: https://pandas.pydata.org/pandas-docs/stable/user_guide/indexing.html#returning-a-view-versus-a-copy\n",
            "  \n",
            "/usr/local/lib/python3.6/dist-packages/ipykernel_launcher.py:3: SettingWithCopyWarning: \n",
            "A value is trying to be set on a copy of a slice from a DataFrame.\n",
            "Try using .loc[row_indexer,col_indexer] = value instead\n",
            "\n",
            "See the caveats in the documentation: https://pandas.pydata.org/pandas-docs/stable/user_guide/indexing.html#returning-a-view-versus-a-copy\n",
            "  This is separate from the ipykernel package so we can avoid doing imports until\n"
          ],
          "name": "stderr"
        }
      ]
    },
    {
      "cell_type": "code",
      "metadata": {
        "colab": {
          "base_uri": "https://localhost:8080/",
          "height": 415
        },
        "id": "kJzfeHLJRePb",
        "outputId": "902b1a63-0fcd-423a-9d23-62d56c852da2"
      },
      "source": [
        "ny_df"
      ],
      "execution_count": null,
      "outputs": [
        {
          "output_type": "execute_result",
          "data": {
            "text/html": [
              "<div>\n",
              "<style scoped>\n",
              "    .dataframe tbody tr th:only-of-type {\n",
              "        vertical-align: middle;\n",
              "    }\n",
              "\n",
              "    .dataframe tbody tr th {\n",
              "        vertical-align: top;\n",
              "    }\n",
              "\n",
              "    .dataframe thead th {\n",
              "        text-align: right;\n",
              "    }\n",
              "</style>\n",
              "<table border=\"1\" class=\"dataframe\">\n",
              "  <thead>\n",
              "    <tr style=\"text-align: right;\">\n",
              "      <th></th>\n",
              "      <th>date</th>\n",
              "      <th>state</th>\n",
              "      <th>fips</th>\n",
              "      <th>cases</th>\n",
              "      <th>deaths</th>\n",
              "      <th>new_cases</th>\n",
              "      <th>new_deaths</th>\n",
              "    </tr>\n",
              "  </thead>\n",
              "  <tbody>\n",
              "    <tr>\n",
              "      <th>246</th>\n",
              "      <td>2020-03-01</td>\n",
              "      <td>New York</td>\n",
              "      <td>36</td>\n",
              "      <td>1</td>\n",
              "      <td>0</td>\n",
              "      <td>1.0</td>\n",
              "      <td>0.0</td>\n",
              "    </tr>\n",
              "    <tr>\n",
              "      <th>261</th>\n",
              "      <td>2020-03-02</td>\n",
              "      <td>New York</td>\n",
              "      <td>36</td>\n",
              "      <td>1</td>\n",
              "      <td>0</td>\n",
              "      <td>0.0</td>\n",
              "      <td>0.0</td>\n",
              "    </tr>\n",
              "    <tr>\n",
              "      <th>276</th>\n",
              "      <td>2020-03-03</td>\n",
              "      <td>New York</td>\n",
              "      <td>36</td>\n",
              "      <td>2</td>\n",
              "      <td>0</td>\n",
              "      <td>1.0</td>\n",
              "      <td>0.0</td>\n",
              "    </tr>\n",
              "    <tr>\n",
              "      <th>293</th>\n",
              "      <td>2020-03-04</td>\n",
              "      <td>New York</td>\n",
              "      <td>36</td>\n",
              "      <td>11</td>\n",
              "      <td>0</td>\n",
              "      <td>9.0</td>\n",
              "      <td>0.0</td>\n",
              "    </tr>\n",
              "    <tr>\n",
              "      <th>313</th>\n",
              "      <td>2020-03-05</td>\n",
              "      <td>New York</td>\n",
              "      <td>36</td>\n",
              "      <td>22</td>\n",
              "      <td>0</td>\n",
              "      <td>11.0</td>\n",
              "      <td>0.0</td>\n",
              "    </tr>\n",
              "    <tr>\n",
              "      <th>...</th>\n",
              "      <td>...</td>\n",
              "      <td>...</td>\n",
              "      <td>...</td>\n",
              "      <td>...</td>\n",
              "      <td>...</td>\n",
              "      <td>...</td>\n",
              "      <td>...</td>\n",
              "    </tr>\n",
              "    <tr>\n",
              "      <th>18142</th>\n",
              "      <td>2021-01-26</td>\n",
              "      <td>New York</td>\n",
              "      <td>36</td>\n",
              "      <td>1358964</td>\n",
              "      <td>42273</td>\n",
              "      <td>11040.0</td>\n",
              "      <td>183.0</td>\n",
              "    </tr>\n",
              "    <tr>\n",
              "      <th>18197</th>\n",
              "      <td>2021-01-27</td>\n",
              "      <td>New York</td>\n",
              "      <td>36</td>\n",
              "      <td>1369329</td>\n",
              "      <td>42434</td>\n",
              "      <td>10365.0</td>\n",
              "      <td>161.0</td>\n",
              "    </tr>\n",
              "    <tr>\n",
              "      <th>18252</th>\n",
              "      <td>2021-01-28</td>\n",
              "      <td>New York</td>\n",
              "      <td>36</td>\n",
              "      <td>1383112</td>\n",
              "      <td>42639</td>\n",
              "      <td>13783.0</td>\n",
              "      <td>205.0</td>\n",
              "    </tr>\n",
              "    <tr>\n",
              "      <th>18307</th>\n",
              "      <td>2021-01-29</td>\n",
              "      <td>New York</td>\n",
              "      <td>36</td>\n",
              "      <td>1396063</td>\n",
              "      <td>42825</td>\n",
              "      <td>12951.0</td>\n",
              "      <td>186.0</td>\n",
              "    </tr>\n",
              "    <tr>\n",
              "      <th>18362</th>\n",
              "      <td>2021-01-30</td>\n",
              "      <td>New York</td>\n",
              "      <td>36</td>\n",
              "      <td>1408955</td>\n",
              "      <td>42996</td>\n",
              "      <td>12892.0</td>\n",
              "      <td>171.0</td>\n",
              "    </tr>\n",
              "  </tbody>\n",
              "</table>\n",
              "<p>336 rows × 7 columns</p>\n",
              "</div>"
            ],
            "text/plain": [
              "             date     state  fips    cases  deaths  new_cases  new_deaths\n",
              "246    2020-03-01  New York    36        1       0        1.0         0.0\n",
              "261    2020-03-02  New York    36        1       0        0.0         0.0\n",
              "276    2020-03-03  New York    36        2       0        1.0         0.0\n",
              "293    2020-03-04  New York    36       11       0        9.0         0.0\n",
              "313    2020-03-05  New York    36       22       0       11.0         0.0\n",
              "...           ...       ...   ...      ...     ...        ...         ...\n",
              "18142  2021-01-26  New York    36  1358964   42273    11040.0       183.0\n",
              "18197  2021-01-27  New York    36  1369329   42434    10365.0       161.0\n",
              "18252  2021-01-28  New York    36  1383112   42639    13783.0       205.0\n",
              "18307  2021-01-29  New York    36  1396063   42825    12951.0       186.0\n",
              "18362  2021-01-30  New York    36  1408955   42996    12892.0       171.0\n",
              "\n",
              "[336 rows x 7 columns]"
            ]
          },
          "metadata": {
            "tags": []
          },
          "execution_count": 566
        }
      ]
    },
    {
      "cell_type": "markdown",
      "metadata": {
        "id": "oDpkQmUbMm6y"
      },
      "source": [
        "Create a column `month`. It is used for grouping latter. "
      ]
    },
    {
      "cell_type": "code",
      "metadata": {
        "colab": {
          "base_uri": "https://localhost:8080/"
        },
        "id": "5VVknXvBRfCA",
        "outputId": "7a152df0-ebaa-45e4-a317-07fa55f31645"
      },
      "source": [
        "ny_df['month'] = pd.DatetimeIndex(ny_df['date']).month"
      ],
      "execution_count": null,
      "outputs": [
        {
          "output_type": "stream",
          "text": [
            "/usr/local/lib/python3.6/dist-packages/ipykernel_launcher.py:1: SettingWithCopyWarning: \n",
            "A value is trying to be set on a copy of a slice from a DataFrame.\n",
            "Try using .loc[row_indexer,col_indexer] = value instead\n",
            "\n",
            "See the caveats in the documentation: https://pandas.pydata.org/pandas-docs/stable/user_guide/indexing.html#returning-a-view-versus-a-copy\n",
            "  \"\"\"Entry point for launching an IPython kernel.\n"
          ],
          "name": "stderr"
        }
      ]
    },
    {
      "cell_type": "markdown",
      "metadata": {
        "id": "n9j7NorfM2IS"
      },
      "source": [
        "Group by `month` and get sums"
      ]
    },
    {
      "cell_type": "code",
      "metadata": {
        "id": "C6fyS7olRlTD"
      },
      "source": [
        "ny_month = ny_df.groupby(['month']).sum() "
      ],
      "execution_count": null,
      "outputs": []
    },
    {
      "cell_type": "markdown",
      "metadata": {
        "id": "PG6qm-K1u5F7"
      },
      "source": [
        "Keep only months from March to Sep since the COVID data starts from March, and the unemployment data ends in Sep"
      ]
    },
    {
      "cell_type": "code",
      "metadata": {
        "id": "IoWtB9z6vW8u"
      },
      "source": [
        "ny_df = ny_df[(ny_df['month'] >= 3) & (ny_df['month'] <=9)]"
      ],
      "execution_count": null,
      "outputs": []
    },
    {
      "cell_type": "code",
      "metadata": {
        "colab": {
          "base_uri": "https://localhost:8080/"
        },
        "id": "oEP9K2RlRjwV",
        "outputId": "b0a392e5-daa2-4b1c-8c2a-5ed6fc4c208e"
      },
      "source": [
        "ny_df['month'].unique()"
      ],
      "execution_count": null,
      "outputs": [
        {
          "output_type": "execute_result",
          "data": {
            "text/plain": [
              "array([3, 4, 5, 6, 7, 8, 9])"
            ]
          },
          "metadata": {
            "tags": []
          },
          "execution_count": 569
        }
      ]
    },
    {
      "cell_type": "code",
      "metadata": {
        "colab": {
          "base_uri": "https://localhost:8080/",
          "height": 417
        },
        "id": "cihvM18CTgls",
        "outputId": "f236cf39-83c5-475c-fdd3-6eb9f4e3c419"
      },
      "source": [
        "ny_month"
      ],
      "execution_count": null,
      "outputs": [
        {
          "output_type": "execute_result",
          "data": {
            "text/html": [
              "<div>\n",
              "<style scoped>\n",
              "    .dataframe tbody tr th:only-of-type {\n",
              "        vertical-align: middle;\n",
              "    }\n",
              "\n",
              "    .dataframe tbody tr th {\n",
              "        vertical-align: top;\n",
              "    }\n",
              "\n",
              "    .dataframe thead th {\n",
              "        text-align: right;\n",
              "    }\n",
              "</style>\n",
              "<table border=\"1\" class=\"dataframe\">\n",
              "  <thead>\n",
              "    <tr style=\"text-align: right;\">\n",
              "      <th></th>\n",
              "      <th>fips</th>\n",
              "      <th>cases</th>\n",
              "      <th>deaths</th>\n",
              "      <th>new_cases</th>\n",
              "      <th>new_deaths</th>\n",
              "    </tr>\n",
              "    <tr>\n",
              "      <th>month</th>\n",
              "      <th></th>\n",
              "      <th></th>\n",
              "      <th></th>\n",
              "      <th></th>\n",
              "      <th></th>\n",
              "    </tr>\n",
              "  </thead>\n",
              "  <tbody>\n",
              "    <tr>\n",
              "      <th>1</th>\n",
              "      <td>1080</td>\n",
              "      <td>36325821</td>\n",
              "      <td>1208784</td>\n",
              "      <td>429915.0</td>\n",
              "      <td>5439.0</td>\n",
              "    </tr>\n",
              "    <tr>\n",
              "      <th>3</th>\n",
              "      <td>1116</td>\n",
              "      <td>464981</td>\n",
              "      <td>7943</td>\n",
              "      <td>76211.0</td>\n",
              "      <td>1929.0</td>\n",
              "    </tr>\n",
              "    <tr>\n",
              "      <th>4</th>\n",
              "      <td>1080</td>\n",
              "      <td>6328973</td>\n",
              "      <td>425198</td>\n",
              "      <td>233485.0</td>\n",
              "      <td>21687.0</td>\n",
              "    </tr>\n",
              "    <tr>\n",
              "      <th>5</th>\n",
              "      <td>1116</td>\n",
              "      <td>10850463</td>\n",
              "      <td>854088</td>\n",
              "      <td>65879.0</td>\n",
              "      <td>6083.0</td>\n",
              "    </tr>\n",
              "    <tr>\n",
              "      <th>6</th>\n",
              "      <td>1080</td>\n",
              "      <td>11656829</td>\n",
              "      <td>918476</td>\n",
              "      <td>22567.0</td>\n",
              "      <td>2077.0</td>\n",
              "    </tr>\n",
              "    <tr>\n",
              "      <th>7</th>\n",
              "      <td>1116</td>\n",
              "      <td>12690287</td>\n",
              "      <td>995461</td>\n",
              "      <td>21581.0</td>\n",
              "      <td>596.0</td>\n",
              "    </tr>\n",
              "    <tr>\n",
              "      <th>8</th>\n",
              "      <td>1116</td>\n",
              "      <td>13329072</td>\n",
              "      <td>1005469</td>\n",
              "      <td>19757.0</td>\n",
              "      <td>169.0</td>\n",
              "    </tr>\n",
              "    <tr>\n",
              "      <th>9</th>\n",
              "      <td>1080</td>\n",
              "      <td>13535662</td>\n",
              "      <td>979548</td>\n",
              "      <td>23889.0</td>\n",
              "      <td>216.0</td>\n",
              "    </tr>\n",
              "    <tr>\n",
              "      <th>10</th>\n",
              "      <td>1116</td>\n",
              "      <td>15087402</td>\n",
              "      <td>1021540</td>\n",
              "      <td>48854.0</td>\n",
              "      <td>395.0</td>\n",
              "    </tr>\n",
              "    <tr>\n",
              "      <th>11</th>\n",
              "      <td>1080</td>\n",
              "      <td>17164028</td>\n",
              "      <td>1007246</td>\n",
              "      <td>140525.0</td>\n",
              "      <td>998.0</td>\n",
              "    </tr>\n",
              "    <tr>\n",
              "      <th>12</th>\n",
              "      <td>1116</td>\n",
              "      <td>25200181</td>\n",
              "      <td>1105629</td>\n",
              "      <td>326292.0</td>\n",
              "      <td>3407.0</td>\n",
              "    </tr>\n",
              "  </tbody>\n",
              "</table>\n",
              "</div>"
            ],
            "text/plain": [
              "       fips     cases   deaths  new_cases  new_deaths\n",
              "month                                                \n",
              "1      1080  36325821  1208784   429915.0      5439.0\n",
              "3      1116    464981     7943    76211.0      1929.0\n",
              "4      1080   6328973   425198   233485.0     21687.0\n",
              "5      1116  10850463   854088    65879.0      6083.0\n",
              "6      1080  11656829   918476    22567.0      2077.0\n",
              "7      1116  12690287   995461    21581.0       596.0\n",
              "8      1116  13329072  1005469    19757.0       169.0\n",
              "9      1080  13535662   979548    23889.0       216.0\n",
              "10     1116  15087402  1021540    48854.0       395.0\n",
              "11     1080  17164028  1007246   140525.0       998.0\n",
              "12     1116  25200181  1105629   326292.0      3407.0"
            ]
          },
          "metadata": {
            "tags": []
          },
          "execution_count": 570
        }
      ]
    },
    {
      "cell_type": "markdown",
      "metadata": {
        "id": "A00pNQRHNOkl"
      },
      "source": [
        "Combine New York COVID data with unemployment data"
      ]
    },
    {
      "cell_type": "code",
      "metadata": {
        "colab": {
          "base_uri": "https://localhost:8080/"
        },
        "id": "VSjZUpqKS5XB",
        "outputId": "62dd65f9-7190-4a4b-dd49-9bd6edab3567"
      },
      "source": [
        "ny_all = {'Month': list(filled_df['New York'].index[2:]), \r\n",
        "        'Unemployment rate': list(filled_df['New York'][2:]), \r\n",
        "        'New cases': list(ny_month['new_cases'][0:7])} \r\n",
        "\r\n",
        "ny_all= pd.DataFrame(ny_all)\r\n",
        "print (ny_all)"
      ],
      "execution_count": null,
      "outputs": [
        {
          "output_type": "stream",
          "text": [
            "   Month  Unemployment rate  New cases\n",
            "0  March                4.5   429915.0\n",
            "1  April               14.5    76211.0\n",
            "2    May               14.5   233485.0\n",
            "3   June               15.7    65879.0\n",
            "4   July               15.9    22567.0\n",
            "5    Aug               12.5    21581.0\n",
            "6   Sept                9.7    19757.0\n"
          ],
          "name": "stdout"
        }
      ]
    },
    {
      "cell_type": "markdown",
      "metadata": {
        "id": "ln8Zmzt2tDVD"
      },
      "source": [
        "Plot new cases and unemployment rate on the same graph for New York. "
      ]
    },
    {
      "cell_type": "code",
      "metadata": {
        "colab": {
          "base_uri": "https://localhost:8080/",
          "height": 421
        },
        "id": "qbQyqz2bTYMe",
        "outputId": "b0f2193e-23ed-49d5-939d-a4b01271f0b3"
      },
      "source": [
        "df_plot=ny_all.set_index('Month')\r\n",
        "df_plot.plot(figsize=(10,6), xticks=range(0, 8)).legend(title='lable', bbox_to_anchor=(1, 1))\r\n",
        "plt.title(\"New York COVID new cases and  Unemployment rate\")"
      ],
      "execution_count": null,
      "outputs": [
        {
          "output_type": "execute_result",
          "data": {
            "text/plain": [
              "Text(0.5, 1.0, 'New York COVID new cases and  Unemployment rate')"
            ]
          },
          "metadata": {
            "tags": []
          },
          "execution_count": 573
        },
        {
          "output_type": "display_data",
          "data": {
            "image/png": "[encoded data removed]",
            "text/plain": [
              "<Figure size 720x432 with 1 Axes>"
            ]
          },
          "metadata": {
            "tags": [],
            "needs_background": "light"
          }
        }
      ]
    },
    {
      "cell_type": "markdown",
      "metadata": {
        "id": "YvgLnSiCt8IT"
      },
      "source": [
        "Unfortunately, the unemployment rate line looks like a flat line because the scale of the two is very different. \r\n",
        "\r\n",
        "So I plot the two line on different y-axis. "
      ]
    },
    {
      "cell_type": "code",
      "metadata": {
        "colab": {
          "base_uri": "https://localhost:8080/",
          "height": 283
        },
        "id": "02aQz80NQI_L",
        "outputId": "8c638278-1d34-47d2-a92d-680a36cb469a"
      },
      "source": [
        "# create figure and axis objects with subplots()\r\n",
        "fig,ax = plt.subplots()\r\n",
        "# make a plot\r\n",
        "ax.plot(ny_all['Month'], ny_all['Unemployment rate'], color=\"red\", marker=\"o\")\r\n",
        "# set x-axis label\r\n",
        "ax.set_xlabel(\"Month\",fontsize=14)\r\n",
        "# set y-axis label\r\n",
        "ax.set_ylabel(\"Unemployment rate\",color=\"red\",fontsize=14)\r\n",
        "\r\n",
        "\r\n",
        "# twin object for two different y-axis on the sample plot\r\n",
        "ax2=ax.twinx()\r\n",
        "# make a plot with different y-axis using second axis object\r\n",
        "ax2.plot(ny_all['Month'], ny_all['New cases'],color=\"blue\",marker=\"o\")\r\n",
        "ax2.set_ylabel(\"New Cases\",color=\"blue\",fontsize=14)\r\n",
        "plt.show()"
      ],
      "execution_count": null,
      "outputs": [
        {
          "output_type": "display_data",
          "data": {
            "image/png": "[encoded data removed]",
            "text/plain": [
              "<Figure size 432x288 with 2 Axes>"
            ]
          },
          "metadata": {
            "tags": [],
            "needs_background": "light"
          }
        }
      ]
    },
    {
      "cell_type": "markdown",
      "metadata": {
        "id": "L-UUTLLJfj2Y"
      },
      "source": [
        "### Data manipulation for all states\r\n",
        "\r\n",
        "Reapeat what have done on New York data for all states"
      ]
    },
    {
      "cell_type": "code",
      "metadata": {
        "colab": {
          "base_uri": "https://localhost:8080/",
          "height": 202
        },
        "id": "klAyZlDzfjDI",
        "outputId": "d53256c2-7893-423c-8154-3661ec8b1817"
      },
      "source": [
        "df.head()"
      ],
      "execution_count": null,
      "outputs": [
        {
          "output_type": "execute_result",
          "data": {
            "text/html": [
              "<div>\n",
              "<style scoped>\n",
              "    .dataframe tbody tr th:only-of-type {\n",
              "        vertical-align: middle;\n",
              "    }\n",
              "\n",
              "    .dataframe tbody tr th {\n",
              "        vertical-align: top;\n",
              "    }\n",
              "\n",
              "    .dataframe thead th {\n",
              "        text-align: right;\n",
              "    }\n",
              "</style>\n",
              "<table border=\"1\" class=\"dataframe\">\n",
              "  <thead>\n",
              "    <tr style=\"text-align: right;\">\n",
              "      <th></th>\n",
              "      <th>date</th>\n",
              "      <th>state</th>\n",
              "      <th>fips</th>\n",
              "      <th>cases</th>\n",
              "      <th>deaths</th>\n",
              "    </tr>\n",
              "  </thead>\n",
              "  <tbody>\n",
              "    <tr>\n",
              "      <th>0</th>\n",
              "      <td>2020-01-21</td>\n",
              "      <td>Washington</td>\n",
              "      <td>53</td>\n",
              "      <td>1</td>\n",
              "      <td>0</td>\n",
              "    </tr>\n",
              "    <tr>\n",
              "      <th>1</th>\n",
              "      <td>2020-01-22</td>\n",
              "      <td>Washington</td>\n",
              "      <td>53</td>\n",
              "      <td>1</td>\n",
              "      <td>0</td>\n",
              "    </tr>\n",
              "    <tr>\n",
              "      <th>2</th>\n",
              "      <td>2020-01-23</td>\n",
              "      <td>Washington</td>\n",
              "      <td>53</td>\n",
              "      <td>1</td>\n",
              "      <td>0</td>\n",
              "    </tr>\n",
              "    <tr>\n",
              "      <th>3</th>\n",
              "      <td>2020-01-24</td>\n",
              "      <td>Illinois</td>\n",
              "      <td>17</td>\n",
              "      <td>1</td>\n",
              "      <td>0</td>\n",
              "    </tr>\n",
              "    <tr>\n",
              "      <th>4</th>\n",
              "      <td>2020-01-24</td>\n",
              "      <td>Washington</td>\n",
              "      <td>53</td>\n",
              "      <td>1</td>\n",
              "      <td>0</td>\n",
              "    </tr>\n",
              "  </tbody>\n",
              "</table>\n",
              "</div>"
            ],
            "text/plain": [
              "         date       state  fips  cases  deaths\n",
              "0  2020-01-21  Washington    53      1       0\n",
              "1  2020-01-22  Washington    53      1       0\n",
              "2  2020-01-23  Washington    53      1       0\n",
              "3  2020-01-24    Illinois    17      1       0\n",
              "4  2020-01-24  Washington    53      1       0"
            ]
          },
          "metadata": {
            "tags": []
          },
          "execution_count": 574
        }
      ]
    },
    {
      "cell_type": "code",
      "metadata": {
        "id": "-SAflRTGUJz7"
      },
      "source": [
        "states = list(state_unemp_df['State'])"
      ],
      "execution_count": null,
      "outputs": []
    },
    {
      "cell_type": "code",
      "metadata": {
        "colab": {
          "base_uri": "https://localhost:8080/"
        },
        "id": "B5fK4ZAFk3df",
        "outputId": "fdcfd08c-1c8c-4570-fc5e-27da76859ce8"
      },
      "source": [
        "states"
      ],
      "execution_count": null,
      "outputs": [
        {
          "output_type": "execute_result",
          "data": {
            "text/plain": [
              "['Alabama',\n",
              " 'Alaska',\n",
              " 'Arizona',\n",
              " 'Arkansas',\n",
              " 'California',\n",
              " 'Colorado',\n",
              " 'Connecticut',\n",
              " 'Delaware',\n",
              " 'D.C.',\n",
              " 'Florida',\n",
              " 'Georgia',\n",
              " 'Hawaii',\n",
              " 'Idaho',\n",
              " 'Illinois',\n",
              " 'Indiana',\n",
              " 'Iowa',\n",
              " 'Kansas',\n",
              " 'Kentucky',\n",
              " 'Louisiana',\n",
              " 'Maine',\n",
              " 'Maryland',\n",
              " 'Massachusetts',\n",
              " 'Michigan',\n",
              " 'Minnesota',\n",
              " 'Mississippi',\n",
              " 'Missouri',\n",
              " 'Montana',\n",
              " 'Nebraska',\n",
              " 'Nevada',\n",
              " 'New Hampshire',\n",
              " 'New Jersey',\n",
              " 'New Mexico',\n",
              " 'New York',\n",
              " 'North Carolina',\n",
              " 'North Dakota',\n",
              " 'Ohio',\n",
              " 'Oklahoma',\n",
              " 'Oregon',\n",
              " 'Pennsylvania',\n",
              " 'Rhode Island',\n",
              " 'South Carolina',\n",
              " 'South Dakota',\n",
              " 'Tennessee',\n",
              " 'Texas',\n",
              " 'Utah',\n",
              " 'Vermont',\n",
              " 'Virginia',\n",
              " 'Washington',\n",
              " 'West Virginia',\n",
              " 'Wisconsin',\n",
              " 'Wyoming',\n",
              " 'Puerto Rico']"
            ]
          },
          "metadata": {
            "tags": []
          },
          "execution_count": 576
        }
      ]
    },
    {
      "cell_type": "code",
      "metadata": {
        "colab": {
          "base_uri": "https://localhost:8080/"
        },
        "id": "n5YbyqgcWSgL",
        "outputId": "8b198f11-bc2a-4c4e-9bdd-e52c5071f5f2"
      },
      "source": [
        "data_new_case_death = []\r\n",
        "for name in states:\r\n",
        "  if name in list(df['state'].unique()):\r\n",
        "    state_df = df[df['state']==name]\r\n",
        "    state_df['new_cases']=get_new_cases(state_df)\r\n",
        "    state_df['new_deaths']=get_new_deaths(state_df)\r\n",
        "    data_new_case_death.append(state_df)\r\n"
      ],
      "execution_count": null,
      "outputs": [
        {
          "output_type": "stream",
          "text": [
            "/usr/local/lib/python3.6/dist-packages/ipykernel_launcher.py:5: SettingWithCopyWarning: \n",
            "A value is trying to be set on a copy of a slice from a DataFrame.\n",
            "Try using .loc[row_indexer,col_indexer] = value instead\n",
            "\n",
            "See the caveats in the documentation: https://pandas.pydata.org/pandas-docs/stable/user_guide/indexing.html#returning-a-view-versus-a-copy\n",
            "  \"\"\"\n",
            "/usr/local/lib/python3.6/dist-packages/ipykernel_launcher.py:6: SettingWithCopyWarning: \n",
            "A value is trying to be set on a copy of a slice from a DataFrame.\n",
            "Try using .loc[row_indexer,col_indexer] = value instead\n",
            "\n",
            "See the caveats in the documentation: https://pandas.pydata.org/pandas-docs/stable/user_guide/indexing.html#returning-a-view-versus-a-copy\n",
            "  \n"
          ],
          "name": "stderr"
        }
      ]
    },
    {
      "cell_type": "code",
      "metadata": {
        "id": "q6IFJPmJlAMj"
      },
      "source": [
        "data_new_case_death = pd.concat(data_new_case_death)"
      ],
      "execution_count": null,
      "outputs": []
    },
    {
      "cell_type": "code",
      "metadata": {
        "colab": {
          "base_uri": "https://localhost:8080/",
          "height": 202
        },
        "id": "I9PRMTVXitMd",
        "outputId": "adc5d5d2-96be-4c6f-ef0b-6be25c3aa5fe"
      },
      "source": [
        "data_new_case_death.head()"
      ],
      "execution_count": null,
      "outputs": [
        {
          "output_type": "execute_result",
          "data": {
            "text/html": [
              "<div>\n",
              "<style scoped>\n",
              "    .dataframe tbody tr th:only-of-type {\n",
              "        vertical-align: middle;\n",
              "    }\n",
              "\n",
              "    .dataframe tbody tr th {\n",
              "        vertical-align: top;\n",
              "    }\n",
              "\n",
              "    .dataframe thead th {\n",
              "        text-align: right;\n",
              "    }\n",
              "</style>\n",
              "<table border=\"1\" class=\"dataframe\">\n",
              "  <thead>\n",
              "    <tr style=\"text-align: right;\">\n",
              "      <th></th>\n",
              "      <th>date</th>\n",
              "      <th>state</th>\n",
              "      <th>fips</th>\n",
              "      <th>cases</th>\n",
              "      <th>deaths</th>\n",
              "      <th>new_cases</th>\n",
              "      <th>new_deaths</th>\n",
              "    </tr>\n",
              "  </thead>\n",
              "  <tbody>\n",
              "    <tr>\n",
              "      <th>586</th>\n",
              "      <td>2020-03-13</td>\n",
              "      <td>Alabama</td>\n",
              "      <td>1</td>\n",
              "      <td>6</td>\n",
              "      <td>0</td>\n",
              "      <td>6.0</td>\n",
              "      <td>0.0</td>\n",
              "    </tr>\n",
              "    <tr>\n",
              "      <th>637</th>\n",
              "      <td>2020-03-14</td>\n",
              "      <td>Alabama</td>\n",
              "      <td>1</td>\n",
              "      <td>12</td>\n",
              "      <td>0</td>\n",
              "      <td>6.0</td>\n",
              "      <td>0.0</td>\n",
              "    </tr>\n",
              "    <tr>\n",
              "      <th>689</th>\n",
              "      <td>2020-03-15</td>\n",
              "      <td>Alabama</td>\n",
              "      <td>1</td>\n",
              "      <td>23</td>\n",
              "      <td>0</td>\n",
              "      <td>11.0</td>\n",
              "      <td>0.0</td>\n",
              "    </tr>\n",
              "    <tr>\n",
              "      <th>742</th>\n",
              "      <td>2020-03-16</td>\n",
              "      <td>Alabama</td>\n",
              "      <td>1</td>\n",
              "      <td>29</td>\n",
              "      <td>0</td>\n",
              "      <td>6.0</td>\n",
              "      <td>0.0</td>\n",
              "    </tr>\n",
              "    <tr>\n",
              "      <th>795</th>\n",
              "      <td>2020-03-17</td>\n",
              "      <td>Alabama</td>\n",
              "      <td>1</td>\n",
              "      <td>39</td>\n",
              "      <td>0</td>\n",
              "      <td>10.0</td>\n",
              "      <td>0.0</td>\n",
              "    </tr>\n",
              "  </tbody>\n",
              "</table>\n",
              "</div>"
            ],
            "text/plain": [
              "           date    state  fips  cases  deaths  new_cases  new_deaths\n",
              "586  2020-03-13  Alabama     1      6       0        6.0         0.0\n",
              "637  2020-03-14  Alabama     1     12       0        6.0         0.0\n",
              "689  2020-03-15  Alabama     1     23       0       11.0         0.0\n",
              "742  2020-03-16  Alabama     1     29       0        6.0         0.0\n",
              "795  2020-03-17  Alabama     1     39       0       10.0         0.0"
            ]
          },
          "metadata": {
            "tags": []
          },
          "execution_count": 579
        }
      ]
    },
    {
      "cell_type": "code",
      "metadata": {
        "colab": {
          "base_uri": "https://localhost:8080/",
          "height": 202
        },
        "id": "bPwN8BFHlqOx",
        "outputId": "90a8b050-2f70-4bbe-815f-a86129d07803"
      },
      "source": [
        "data_new_case_death['month'] = pd.DatetimeIndex(data_new_case_death['date']).month\r\n",
        "data_new_case_death.head()"
      ],
      "execution_count": null,
      "outputs": [
        {
          "output_type": "execute_result",
          "data": {
            "text/html": [
              "<div>\n",
              "<style scoped>\n",
              "    .dataframe tbody tr th:only-of-type {\n",
              "        vertical-align: middle;\n",
              "    }\n",
              "\n",
              "    .dataframe tbody tr th {\n",
              "        vertical-align: top;\n",
              "    }\n",
              "\n",
              "    .dataframe thead th {\n",
              "        text-align: right;\n",
              "    }\n",
              "</style>\n",
              "<table border=\"1\" class=\"dataframe\">\n",
              "  <thead>\n",
              "    <tr style=\"text-align: right;\">\n",
              "      <th></th>\n",
              "      <th>date</th>\n",
              "      <th>state</th>\n",
              "      <th>fips</th>\n",
              "      <th>cases</th>\n",
              "      <th>deaths</th>\n",
              "      <th>new_cases</th>\n",
              "      <th>new_deaths</th>\n",
              "      <th>month</th>\n",
              "    </tr>\n",
              "  </thead>\n",
              "  <tbody>\n",
              "    <tr>\n",
              "      <th>586</th>\n",
              "      <td>2020-03-13</td>\n",
              "      <td>Alabama</td>\n",
              "      <td>1</td>\n",
              "      <td>6</td>\n",
              "      <td>0</td>\n",
              "      <td>6.0</td>\n",
              "      <td>0.0</td>\n",
              "      <td>3</td>\n",
              "    </tr>\n",
              "    <tr>\n",
              "      <th>637</th>\n",
              "      <td>2020-03-14</td>\n",
              "      <td>Alabama</td>\n",
              "      <td>1</td>\n",
              "      <td>12</td>\n",
              "      <td>0</td>\n",
              "      <td>6.0</td>\n",
              "      <td>0.0</td>\n",
              "      <td>3</td>\n",
              "    </tr>\n",
              "    <tr>\n",
              "      <th>689</th>\n",
              "      <td>2020-03-15</td>\n",
              "      <td>Alabama</td>\n",
              "      <td>1</td>\n",
              "      <td>23</td>\n",
              "      <td>0</td>\n",
              "      <td>11.0</td>\n",
              "      <td>0.0</td>\n",
              "      <td>3</td>\n",
              "    </tr>\n",
              "    <tr>\n",
              "      <th>742</th>\n",
              "      <td>2020-03-16</td>\n",
              "      <td>Alabama</td>\n",
              "      <td>1</td>\n",
              "      <td>29</td>\n",
              "      <td>0</td>\n",
              "      <td>6.0</td>\n",
              "      <td>0.0</td>\n",
              "      <td>3</td>\n",
              "    </tr>\n",
              "    <tr>\n",
              "      <th>795</th>\n",
              "      <td>2020-03-17</td>\n",
              "      <td>Alabama</td>\n",
              "      <td>1</td>\n",
              "      <td>39</td>\n",
              "      <td>0</td>\n",
              "      <td>10.0</td>\n",
              "      <td>0.0</td>\n",
              "      <td>3</td>\n",
              "    </tr>\n",
              "  </tbody>\n",
              "</table>\n",
              "</div>"
            ],
            "text/plain": [
              "           date    state  fips  cases  deaths  new_cases  new_deaths  month\n",
              "586  2020-03-13  Alabama     1      6       0        6.0         0.0      3\n",
              "637  2020-03-14  Alabama     1     12       0        6.0         0.0      3\n",
              "689  2020-03-15  Alabama     1     23       0       11.0         0.0      3\n",
              "742  2020-03-16  Alabama     1     29       0        6.0         0.0      3\n",
              "795  2020-03-17  Alabama     1     39       0       10.0         0.0      3"
            ]
          },
          "metadata": {
            "tags": []
          },
          "execution_count": 580
        }
      ]
    },
    {
      "cell_type": "code",
      "metadata": {
        "id": "CK13OM_-l25M"
      },
      "source": [
        " data_new_case_death_month= data_new_case_death.groupby(['state','month']).sum() "
      ],
      "execution_count": null,
      "outputs": []
    },
    {
      "cell_type": "code",
      "metadata": {
        "id": "6_Eaeqwg9TH9"
      },
      "source": [
        "from google.colab import drive\r\n",
        "drive.mount('drive')"
      ],
      "execution_count": null,
      "outputs": []
    },
    {
      "cell_type": "markdown",
      "metadata": {
        "id": "FC60ryt8ON6z"
      },
      "source": [
        "Output COVID monthly dataset for Tableau use"
      ]
    },
    {
      "cell_type": "code",
      "metadata": {
        "id": "UQ5oqLVd9JwY"
      },
      "source": [
        " data_new_case_death_month.to_csv('COVID_month.csv')\r\n",
        "!cp COVID_month.csv \"drive/My Drive/\""
      ],
      "execution_count": null,
      "outputs": []
    },
    {
      "cell_type": "markdown",
      "metadata": {
        "id": "bxsRYzsGw2ic"
      },
      "source": [
        "Select on months from March to Sept"
      ]
    },
    {
      "cell_type": "code",
      "metadata": {
        "id": "X4Rn2B4gxC3W"
      },
      "source": [
        "data_new_case_death = data_new_case_death[(data_new_case_death['month'] >= 3) & (data_new_case_death['month'] <=9)]"
      ],
      "execution_count": null,
      "outputs": []
    },
    {
      "cell_type": "code",
      "metadata": {
        "colab": {
          "base_uri": "https://localhost:8080/"
        },
        "id": "ulLK2Qkwxdav",
        "outputId": "c6ec1303-7f6e-4cf0-ceae-6ea87896fa4b"
      },
      "source": [
        "data_new_case_death['month'].unique()"
      ],
      "execution_count": null,
      "outputs": [
        {
          "output_type": "execute_result",
          "data": {
            "text/plain": [
              "array([3, 4, 5, 6, 7, 8, 9])"
            ]
          },
          "metadata": {
            "tags": []
          },
          "execution_count": 583
        }
      ]
    },
    {
      "cell_type": "code",
      "metadata": {
        "colab": {
          "base_uri": "https://localhost:8080/",
          "height": 233
        },
        "id": "B5kY85UhmL6l",
        "outputId": "a59f26d6-cfdd-49d2-e938-517f092931f5"
      },
      "source": [
        "data_new_case_death_month.head()"
      ],
      "execution_count": null,
      "outputs": [
        {
          "output_type": "execute_result",
          "data": {
            "text/html": [
              "<div>\n",
              "<style scoped>\n",
              "    .dataframe tbody tr th:only-of-type {\n",
              "        vertical-align: middle;\n",
              "    }\n",
              "\n",
              "    .dataframe tbody tr th {\n",
              "        vertical-align: top;\n",
              "    }\n",
              "\n",
              "    .dataframe thead th {\n",
              "        text-align: right;\n",
              "    }\n",
              "</style>\n",
              "<table border=\"1\" class=\"dataframe\">\n",
              "  <thead>\n",
              "    <tr style=\"text-align: right;\">\n",
              "      <th></th>\n",
              "      <th></th>\n",
              "      <th>fips</th>\n",
              "      <th>cases</th>\n",
              "      <th>deaths</th>\n",
              "      <th>new_cases</th>\n",
              "      <th>new_deaths</th>\n",
              "    </tr>\n",
              "    <tr>\n",
              "      <th>state</th>\n",
              "      <th>month</th>\n",
              "      <th></th>\n",
              "      <th></th>\n",
              "      <th></th>\n",
              "      <th></th>\n",
              "      <th></th>\n",
              "    </tr>\n",
              "  </thead>\n",
              "  <tbody>\n",
              "    <tr>\n",
              "      <th rowspan=\"5\" valign=\"top\">Alabama</th>\n",
              "      <th>1</th>\n",
              "      <td>30</td>\n",
              "      <td>12459174</td>\n",
              "      <td>179087</td>\n",
              "      <td>94356.0</td>\n",
              "      <td>2739.0</td>\n",
              "    </tr>\n",
              "    <tr>\n",
              "      <th>3</th>\n",
              "      <td>19</td>\n",
              "      <td>6129</td>\n",
              "      <td>42</td>\n",
              "      <td>999.0</td>\n",
              "      <td>14.0</td>\n",
              "    </tr>\n",
              "    <tr>\n",
              "      <th>4</th>\n",
              "      <td>30</td>\n",
              "      <td>125166</td>\n",
              "      <td>4044</td>\n",
              "      <td>6069.0</td>\n",
              "      <td>258.0</td>\n",
              "    </tr>\n",
              "    <tr>\n",
              "      <th>5</th>\n",
              "      <td>31</td>\n",
              "      <td>372033</td>\n",
              "      <td>14438</td>\n",
              "      <td>10884.0</td>\n",
              "      <td>358.0</td>\n",
              "    </tr>\n",
              "    <tr>\n",
              "      <th>6</th>\n",
              "      <td>30</td>\n",
              "      <td>800287</td>\n",
              "      <td>23697</td>\n",
              "      <td>20093.0</td>\n",
              "      <td>320.0</td>\n",
              "    </tr>\n",
              "  </tbody>\n",
              "</table>\n",
              "</div>"
            ],
            "text/plain": [
              "               fips     cases  deaths  new_cases  new_deaths\n",
              "state   month                                               \n",
              "Alabama 1        30  12459174  179087    94356.0      2739.0\n",
              "        3        19      6129      42      999.0        14.0\n",
              "        4        30    125166    4044     6069.0       258.0\n",
              "        5        31    372033   14438    10884.0       358.0\n",
              "        6        30    800287   23697    20093.0       320.0"
            ]
          },
          "metadata": {
            "tags": []
          },
          "execution_count": 584
        }
      ]
    },
    {
      "cell_type": "code",
      "metadata": {
        "colab": {
          "base_uri": "https://localhost:8080/",
          "height": 417
        },
        "id": "itpVXFcMpWtU",
        "outputId": "96dfb49d-7573-45ef-9254-556885fb6495"
      },
      "source": [
        "data_new_case_death_month.loc['New York']"
      ],
      "execution_count": null,
      "outputs": [
        {
          "output_type": "execute_result",
          "data": {
            "text/html": [
              "<div>\n",
              "<style scoped>\n",
              "    .dataframe tbody tr th:only-of-type {\n",
              "        vertical-align: middle;\n",
              "    }\n",
              "\n",
              "    .dataframe tbody tr th {\n",
              "        vertical-align: top;\n",
              "    }\n",
              "\n",
              "    .dataframe thead th {\n",
              "        text-align: right;\n",
              "    }\n",
              "</style>\n",
              "<table border=\"1\" class=\"dataframe\">\n",
              "  <thead>\n",
              "    <tr style=\"text-align: right;\">\n",
              "      <th></th>\n",
              "      <th>fips</th>\n",
              "      <th>cases</th>\n",
              "      <th>deaths</th>\n",
              "      <th>new_cases</th>\n",
              "      <th>new_deaths</th>\n",
              "    </tr>\n",
              "    <tr>\n",
              "      <th>month</th>\n",
              "      <th></th>\n",
              "      <th></th>\n",
              "      <th></th>\n",
              "      <th></th>\n",
              "      <th></th>\n",
              "    </tr>\n",
              "  </thead>\n",
              "  <tbody>\n",
              "    <tr>\n",
              "      <th>1</th>\n",
              "      <td>1080</td>\n",
              "      <td>36325821</td>\n",
              "      <td>1208784</td>\n",
              "      <td>429915.0</td>\n",
              "      <td>5439.0</td>\n",
              "    </tr>\n",
              "    <tr>\n",
              "      <th>3</th>\n",
              "      <td>1116</td>\n",
              "      <td>464981</td>\n",
              "      <td>7943</td>\n",
              "      <td>76211.0</td>\n",
              "      <td>1929.0</td>\n",
              "    </tr>\n",
              "    <tr>\n",
              "      <th>4</th>\n",
              "      <td>1080</td>\n",
              "      <td>6328973</td>\n",
              "      <td>425198</td>\n",
              "      <td>233485.0</td>\n",
              "      <td>21687.0</td>\n",
              "    </tr>\n",
              "    <tr>\n",
              "      <th>5</th>\n",
              "      <td>1116</td>\n",
              "      <td>10850463</td>\n",
              "      <td>854088</td>\n",
              "      <td>65879.0</td>\n",
              "      <td>6083.0</td>\n",
              "    </tr>\n",
              "    <tr>\n",
              "      <th>6</th>\n",
              "      <td>1080</td>\n",
              "      <td>11656829</td>\n",
              "      <td>918476</td>\n",
              "      <td>22567.0</td>\n",
              "      <td>2077.0</td>\n",
              "    </tr>\n",
              "    <tr>\n",
              "      <th>7</th>\n",
              "      <td>1116</td>\n",
              "      <td>12690287</td>\n",
              "      <td>995461</td>\n",
              "      <td>21581.0</td>\n",
              "      <td>596.0</td>\n",
              "    </tr>\n",
              "    <tr>\n",
              "      <th>8</th>\n",
              "      <td>1116</td>\n",
              "      <td>13329072</td>\n",
              "      <td>1005469</td>\n",
              "      <td>19757.0</td>\n",
              "      <td>169.0</td>\n",
              "    </tr>\n",
              "    <tr>\n",
              "      <th>9</th>\n",
              "      <td>1080</td>\n",
              "      <td>13535662</td>\n",
              "      <td>979548</td>\n",
              "      <td>23889.0</td>\n",
              "      <td>216.0</td>\n",
              "    </tr>\n",
              "    <tr>\n",
              "      <th>10</th>\n",
              "      <td>1116</td>\n",
              "      <td>15087402</td>\n",
              "      <td>1021540</td>\n",
              "      <td>48854.0</td>\n",
              "      <td>395.0</td>\n",
              "    </tr>\n",
              "    <tr>\n",
              "      <th>11</th>\n",
              "      <td>1080</td>\n",
              "      <td>17164028</td>\n",
              "      <td>1007246</td>\n",
              "      <td>140525.0</td>\n",
              "      <td>998.0</td>\n",
              "    </tr>\n",
              "    <tr>\n",
              "      <th>12</th>\n",
              "      <td>1116</td>\n",
              "      <td>25200181</td>\n",
              "      <td>1105629</td>\n",
              "      <td>326292.0</td>\n",
              "      <td>3407.0</td>\n",
              "    </tr>\n",
              "  </tbody>\n",
              "</table>\n",
              "</div>"
            ],
            "text/plain": [
              "       fips     cases   deaths  new_cases  new_deaths\n",
              "month                                                \n",
              "1      1080  36325821  1208784   429915.0      5439.0\n",
              "3      1116    464981     7943    76211.0      1929.0\n",
              "4      1080   6328973   425198   233485.0     21687.0\n",
              "5      1116  10850463   854088    65879.0      6083.0\n",
              "6      1080  11656829   918476    22567.0      2077.0\n",
              "7      1116  12690287   995461    21581.0       596.0\n",
              "8      1116  13329072  1005469    19757.0       169.0\n",
              "9      1080  13535662   979548    23889.0       216.0\n",
              "10     1116  15087402  1021540    48854.0       395.0\n",
              "11     1080  17164028  1007246   140525.0       998.0\n",
              "12     1116  25200181  1105629   326292.0      3407.0"
            ]
          },
          "metadata": {
            "tags": []
          },
          "execution_count": 585
        }
      ]
    },
    {
      "cell_type": "code",
      "metadata": {
        "id": "dtTTKc0XnDdq"
      },
      "source": [
        "final_df = []\r\n",
        "for name in states:\r\n",
        "  if name in list(df['state'].unique()):\r\n",
        "    all = {'State' : list([name, name, name, name, name,name,name]),\r\n",
        "        'Month': list(filled_df[name].index[2:]), \r\n",
        "        'Unemployment rate': list(filled_df[name][2:]),\r\n",
        "        'New cases': list(data_new_case_death_month.loc[name]['new_cases'][0:7]),\r\n",
        "        'New Deaths': list(data_new_case_death_month.loc[name]['new_deaths'][0:7])} \r\n",
        "    all= pd.DataFrame(all)\r\n",
        "    final_df.append(all)\r\n"
      ],
      "execution_count": null,
      "outputs": []
    },
    {
      "cell_type": "code",
      "metadata": {
        "id": "fmqic2dmrJ29"
      },
      "source": [
        "final_df = pd.concat(final_df)"
      ],
      "execution_count": null,
      "outputs": []
    },
    {
      "cell_type": "code",
      "metadata": {
        "colab": {
          "base_uri": "https://localhost:8080/",
          "height": 415
        },
        "id": "1-V1lQHhs16k",
        "outputId": "47faa779-f985-413f-dab5-92ddb0cf7dd6"
      },
      "source": [
        "final_df"
      ],
      "execution_count": null,
      "outputs": [
        {
          "output_type": "execute_result",
          "data": {
            "text/html": [
              "<div>\n",
              "<style scoped>\n",
              "    .dataframe tbody tr th:only-of-type {\n",
              "        vertical-align: middle;\n",
              "    }\n",
              "\n",
              "    .dataframe tbody tr th {\n",
              "        vertical-align: top;\n",
              "    }\n",
              "\n",
              "    .dataframe thead th {\n",
              "        text-align: right;\n",
              "    }\n",
              "</style>\n",
              "<table border=\"1\" class=\"dataframe\">\n",
              "  <thead>\n",
              "    <tr style=\"text-align: right;\">\n",
              "      <th></th>\n",
              "      <th>State</th>\n",
              "      <th>Month</th>\n",
              "      <th>Unemployment rate</th>\n",
              "      <th>New cases</th>\n",
              "      <th>New Deaths</th>\n",
              "    </tr>\n",
              "  </thead>\n",
              "  <tbody>\n",
              "    <tr>\n",
              "      <th>0</th>\n",
              "      <td>Alabama</td>\n",
              "      <td>March</td>\n",
              "      <td>3.50</td>\n",
              "      <td>94356.0</td>\n",
              "      <td>2739.0</td>\n",
              "    </tr>\n",
              "    <tr>\n",
              "      <th>1</th>\n",
              "      <td>Alabama</td>\n",
              "      <td>April</td>\n",
              "      <td>12.90</td>\n",
              "      <td>999.0</td>\n",
              "      <td>14.0</td>\n",
              "    </tr>\n",
              "    <tr>\n",
              "      <th>2</th>\n",
              "      <td>Alabama</td>\n",
              "      <td>May</td>\n",
              "      <td>9.60</td>\n",
              "      <td>6069.0</td>\n",
              "      <td>258.0</td>\n",
              "    </tr>\n",
              "    <tr>\n",
              "      <th>3</th>\n",
              "      <td>Alabama</td>\n",
              "      <td>June</td>\n",
              "      <td>7.50</td>\n",
              "      <td>10884.0</td>\n",
              "      <td>358.0</td>\n",
              "    </tr>\n",
              "    <tr>\n",
              "      <th>4</th>\n",
              "      <td>Alabama</td>\n",
              "      <td>July</td>\n",
              "      <td>7.90</td>\n",
              "      <td>20093.0</td>\n",
              "      <td>320.0</td>\n",
              "    </tr>\n",
              "    <tr>\n",
              "      <th>...</th>\n",
              "      <td>...</td>\n",
              "      <td>...</td>\n",
              "      <td>...</td>\n",
              "      <td>...</td>\n",
              "      <td>...</td>\n",
              "    </tr>\n",
              "    <tr>\n",
              "      <th>2</th>\n",
              "      <td>Puerto Rico</td>\n",
              "      <td>May</td>\n",
              "      <td>11.45</td>\n",
              "      <td>1298.0</td>\n",
              "      <td>84.0</td>\n",
              "    </tr>\n",
              "    <tr>\n",
              "      <th>3</th>\n",
              "      <td>Puerto Rico</td>\n",
              "      <td>June</td>\n",
              "      <td>9.40</td>\n",
              "      <td>2239.0</td>\n",
              "      <td>44.0</td>\n",
              "    </tr>\n",
              "    <tr>\n",
              "      <th>4</th>\n",
              "      <td>Puerto Rico</td>\n",
              "      <td>July</td>\n",
              "      <td>10.08</td>\n",
              "      <td>3689.0</td>\n",
              "      <td>17.0</td>\n",
              "    </tr>\n",
              "    <tr>\n",
              "      <th>5</th>\n",
              "      <td>Puerto Rico</td>\n",
              "      <td>Aug</td>\n",
              "      <td>8.22</td>\n",
              "      <td>9316.0</td>\n",
              "      <td>66.0</td>\n",
              "    </tr>\n",
              "    <tr>\n",
              "      <th>6</th>\n",
              "      <td>Puerto Rico</td>\n",
              "      <td>Sept</td>\n",
              "      <td>7.78</td>\n",
              "      <td>16418.0</td>\n",
              "      <td>215.0</td>\n",
              "    </tr>\n",
              "  </tbody>\n",
              "</table>\n",
              "<p>357 rows × 5 columns</p>\n",
              "</div>"
            ],
            "text/plain": [
              "          State  Month  Unemployment rate  New cases  New Deaths\n",
              "0       Alabama  March               3.50    94356.0      2739.0\n",
              "1       Alabama  April              12.90      999.0        14.0\n",
              "2       Alabama    May               9.60     6069.0       258.0\n",
              "3       Alabama   June               7.50    10884.0       358.0\n",
              "4       Alabama   July               7.90    20093.0       320.0\n",
              "..          ...    ...                ...        ...         ...\n",
              "2   Puerto Rico    May              11.45     1298.0        84.0\n",
              "3   Puerto Rico   June               9.40     2239.0        44.0\n",
              "4   Puerto Rico   July              10.08     3689.0        17.0\n",
              "5   Puerto Rico    Aug               8.22     9316.0        66.0\n",
              "6   Puerto Rico   Sept               7.78    16418.0       215.0\n",
              "\n",
              "[357 rows x 5 columns]"
            ]
          },
          "metadata": {
            "tags": []
          },
          "execution_count": 588
        }
      ]
    },
    {
      "cell_type": "markdown",
      "metadata": {
        "id": "lsQ2zkdFvMJI"
      },
      "source": [
        "Output COVID monthly dataset for Tableau use"
      ]
    },
    {
      "cell_type": "code",
      "metadata": {
        "id": "O7mH87Uh1gZd"
      },
      "source": [
        "final_df.to_csv('COVID_Unemployment.csv')\r\n",
        "!cp COVID_Unemployment.csv \"drive/My Drive/\""
      ],
      "execution_count": null,
      "outputs": []
    },
    {
      "cell_type": "markdown",
      "metadata": {
        "id": "aqod7vgYvtkn"
      },
      "source": [
        "## Unemployment rate and  new cases comparision in other states"
      ]
    },
    {
      "cell_type": "code",
      "metadata": {
        "id": "BVxfYOjAvs_5"
      },
      "source": [
        "state = \"Alabama\"\r\n",
        "un_case_state = final_df[final_df['State']==state]"
      ],
      "execution_count": null,
      "outputs": []
    },
    {
      "cell_type": "code",
      "metadata": {
        "colab": {
          "base_uri": "https://localhost:8080/",
          "height": 199
        },
        "id": "7bz7P0FZwDlw",
        "outputId": "abeae455-a4c0-4951-df04-e063c6f4060e"
      },
      "source": [
        "un_case_state.head()"
      ],
      "execution_count": null,
      "outputs": [
        {
          "output_type": "execute_result",
          "data": {
            "text/html": [
              "<div>\n",
              "<style scoped>\n",
              "    .dataframe tbody tr th:only-of-type {\n",
              "        vertical-align: middle;\n",
              "    }\n",
              "\n",
              "    .dataframe tbody tr th {\n",
              "        vertical-align: top;\n",
              "    }\n",
              "\n",
              "    .dataframe thead th {\n",
              "        text-align: right;\n",
              "    }\n",
              "</style>\n",
              "<table border=\"1\" class=\"dataframe\">\n",
              "  <thead>\n",
              "    <tr style=\"text-align: right;\">\n",
              "      <th></th>\n",
              "      <th>State</th>\n",
              "      <th>Month</th>\n",
              "      <th>Unemployment rate</th>\n",
              "      <th>New cases</th>\n",
              "      <th>New Deaths</th>\n",
              "    </tr>\n",
              "  </thead>\n",
              "  <tbody>\n",
              "    <tr>\n",
              "      <th>0</th>\n",
              "      <td>Alabama</td>\n",
              "      <td>March</td>\n",
              "      <td>3.5</td>\n",
              "      <td>94356.0</td>\n",
              "      <td>2739.0</td>\n",
              "    </tr>\n",
              "    <tr>\n",
              "      <th>1</th>\n",
              "      <td>Alabama</td>\n",
              "      <td>April</td>\n",
              "      <td>12.9</td>\n",
              "      <td>999.0</td>\n",
              "      <td>14.0</td>\n",
              "    </tr>\n",
              "    <tr>\n",
              "      <th>2</th>\n",
              "      <td>Alabama</td>\n",
              "      <td>May</td>\n",
              "      <td>9.6</td>\n",
              "      <td>6069.0</td>\n",
              "      <td>258.0</td>\n",
              "    </tr>\n",
              "    <tr>\n",
              "      <th>3</th>\n",
              "      <td>Alabama</td>\n",
              "      <td>June</td>\n",
              "      <td>7.5</td>\n",
              "      <td>10884.0</td>\n",
              "      <td>358.0</td>\n",
              "    </tr>\n",
              "    <tr>\n",
              "      <th>4</th>\n",
              "      <td>Alabama</td>\n",
              "      <td>July</td>\n",
              "      <td>7.9</td>\n",
              "      <td>20093.0</td>\n",
              "      <td>320.0</td>\n",
              "    </tr>\n",
              "  </tbody>\n",
              "</table>\n",
              "</div>"
            ],
            "text/plain": [
              "     State  Month  Unemployment rate  New cases  New Deaths\n",
              "0  Alabama  March                3.5    94356.0      2739.0\n",
              "1  Alabama  April               12.9      999.0        14.0\n",
              "2  Alabama    May                9.6     6069.0       258.0\n",
              "3  Alabama   June                7.5    10884.0       358.0\n",
              "4  Alabama   July                7.9    20093.0       320.0"
            ]
          },
          "metadata": {
            "tags": []
          },
          "execution_count": 600
        }
      ]
    },
    {
      "cell_type": "code",
      "metadata": {
        "colab": {
          "base_uri": "https://localhost:8080/",
          "height": 283
        },
        "id": "lH9gAsD7vmCA",
        "outputId": "024f778d-2617-49a9-8ba2-eb96de034205"
      },
      "source": [
        "# create figure and axis objects with subplots()\r\n",
        "fig,ax = plt.subplots()\r\n",
        "# make a plot\r\n",
        "ax.plot(un_case_state['Month'], un_case_state['Unemployment rate'], color=\"red\", marker=\"o\")\r\n",
        "# set x-axis label\r\n",
        "ax.set_xlabel(\"Month\",fontsize=14)\r\n",
        "# set y-axis label\r\n",
        "ax.set_ylabel(\"Unemployment rate\",color=\"red\",fontsize=14)\r\n",
        "\r\n",
        "\r\n",
        "# twin object for two different y-axis on the sample plot\r\n",
        "ax2=ax.twinx()\r\n",
        "# make a plot with different y-axis using second axis object\r\n",
        "ax2.plot(un_case_state['Month'], un_case_state['New cases'],color=\"blue\",marker=\"o\")\r\n",
        "ax2.set_ylabel(\"New Cases\",color=\"blue\",fontsize=14)\r\n",
        "plt.show()"
      ],
      "execution_count": null,
      "outputs": [
        {
          "output_type": "display_data",
          "data": {
            "image/png": "[encoded data removed]",
            "text/plain": [
              "<Figure size 432x288 with 2 Axes>"
            ]
          },
          "metadata": {
            "tags": [],
            "needs_background": "light"
          }
        }
      ]
    },
    {
      "cell_type": "markdown",
      "metadata": {
        "id": "jHa6znOmxIqu"
      },
      "source": [
        "For Alabama, we almost see an inverse relationship between new cases and the unemployment rate. \r\n",
        "- In March, we have higest number of new cases and lowest unemployment rate.\r\n",
        "\r\n",
        "- In April, we have lowest number of new cases and highest unemployment rate.\r\n",
        "\r\n",
        "- After April, the number of new cases were increasing, but the unemployment rate was decreasing. \r\n"
      ]
    },
    {
      "cell_type": "markdown",
      "metadata": {
        "id": "YzBJM179yshP"
      },
      "source": [
        "Instead of plotting each states, I moved to Tableau for more visualizations. [Tableau link](https://public.tableau.com/profile/xiaona2089#!/vizhome/Datathon_16121240800860/COVIDandUnemployment?publish=yes)"
      ]
    },
    {
      "cell_type": "markdown",
      "metadata": {
        "id": "rg9ksWp_y6s9"
      },
      "source": [
        "# Conclusion\r\n",
        "\r\n",
        "1. Most of the states have the highest unemployment rate in April.\r\n",
        "\r\n",
        "2. For the five states we investigated, there was a rapid increase in the unemployment rate in April, and the rate was dropping with some fluctuations. \r\n",
        "\r\n",
        "\r\n"
      ]
    },
    {
      "cell_type": "code",
      "metadata": {
        "id": "jmzd--qLxIAj"
      },
      "source": [
        ""
      ],
      "execution_count": null,
      "outputs": []
    },
    {
      "cell_type": "code",
      "metadata": {
        "id": "w3dyt7JM4SU0"
      },
      "source": [
        ""
      ],
      "execution_count": null,
      "outputs": []
    }
  ]
}